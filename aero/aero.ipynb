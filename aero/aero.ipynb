{
 "cells": [
  {
   "cell_type": "code",
   "execution_count": 1,
   "id": "83e278fe",
   "metadata": {
    "scrolled": true
   },
   "outputs": [],
   "source": [
    "import numpy as np\n",
    "import pandas as pd\n",
    "from IPython.display import display\n",
    "import matplotlib.pyplot as plt\n",
    "import plotly.graph_objs as go\n",
    "import seaborn as sns\n",
    "import pycountry_convert as pc\n",
    "\n",
    "from geopy.exc import GeocoderTimedOut\n",
    "from geopy.geocoders import Nominatim"
   ]
  },
  {
   "cell_type": "code",
   "execution_count": 2,
   "id": "3c8bf076",
   "metadata": {},
   "outputs": [
    {
     "data": {
      "text/html": [
       "<div>\n",
       "<style scoped>\n",
       "    .dataframe tbody tr th:only-of-type {\n",
       "        vertical-align: middle;\n",
       "    }\n",
       "\n",
       "    .dataframe tbody tr th {\n",
       "        vertical-align: top;\n",
       "    }\n",
       "\n",
       "    .dataframe thead th {\n",
       "        text-align: right;\n",
       "    }\n",
       "</style>\n",
       "<table border=\"1\" class=\"dataframe\">\n",
       "  <thead>\n",
       "    <tr style=\"text-align: right;\">\n",
       "      <th></th>\n",
       "      <th>1</th>\n",
       "      <th>Goroka Airport</th>\n",
       "      <th>Goroka</th>\n",
       "      <th>Papua New Guinea</th>\n",
       "      <th>GKA</th>\n",
       "      <th>AYGA</th>\n",
       "      <th>-6.081689834590001</th>\n",
       "      <th>145.391998291</th>\n",
       "      <th>5282</th>\n",
       "      <th>10</th>\n",
       "      <th>U</th>\n",
       "      <th>Pacific/Port_Moresby</th>\n",
       "      <th>airport</th>\n",
       "      <th>OurAirports</th>\n",
       "    </tr>\n",
       "  </thead>\n",
       "  <tbody>\n",
       "    <tr>\n",
       "      <th>0</th>\n",
       "      <td>2</td>\n",
       "      <td>Madang Airport</td>\n",
       "      <td>Madang</td>\n",
       "      <td>Papua New Guinea</td>\n",
       "      <td>MAG</td>\n",
       "      <td>AYMD</td>\n",
       "      <td>-5.207080</td>\n",
       "      <td>145.789001</td>\n",
       "      <td>20</td>\n",
       "      <td>10</td>\n",
       "      <td>U</td>\n",
       "      <td>Pacific/Port_Moresby</td>\n",
       "      <td>airport</td>\n",
       "      <td>OurAirports</td>\n",
       "    </tr>\n",
       "    <tr>\n",
       "      <th>1</th>\n",
       "      <td>3</td>\n",
       "      <td>Mount Hagen Kagamuga Airport</td>\n",
       "      <td>Mount Hagen</td>\n",
       "      <td>Papua New Guinea</td>\n",
       "      <td>HGU</td>\n",
       "      <td>AYMH</td>\n",
       "      <td>-5.826790</td>\n",
       "      <td>144.296005</td>\n",
       "      <td>5388</td>\n",
       "      <td>10</td>\n",
       "      <td>U</td>\n",
       "      <td>Pacific/Port_Moresby</td>\n",
       "      <td>airport</td>\n",
       "      <td>OurAirports</td>\n",
       "    </tr>\n",
       "    <tr>\n",
       "      <th>2</th>\n",
       "      <td>4</td>\n",
       "      <td>Nadzab Airport</td>\n",
       "      <td>Nadzab</td>\n",
       "      <td>Papua New Guinea</td>\n",
       "      <td>LAE</td>\n",
       "      <td>AYNZ</td>\n",
       "      <td>-6.569803</td>\n",
       "      <td>146.725977</td>\n",
       "      <td>239</td>\n",
       "      <td>10</td>\n",
       "      <td>U</td>\n",
       "      <td>Pacific/Port_Moresby</td>\n",
       "      <td>airport</td>\n",
       "      <td>OurAirports</td>\n",
       "    </tr>\n",
       "  </tbody>\n",
       "</table>\n",
       "</div>"
      ],
      "text/plain": [
       "   1                Goroka Airport       Goroka  Papua New Guinea  GKA  AYGA  \\\n",
       "0  2                Madang Airport       Madang  Papua New Guinea  MAG  AYMD   \n",
       "1  3  Mount Hagen Kagamuga Airport  Mount Hagen  Papua New Guinea  HGU  AYMH   \n",
       "2  4                Nadzab Airport       Nadzab  Papua New Guinea  LAE  AYNZ   \n",
       "\n",
       "   -6.081689834590001  145.391998291  5282  10  U  Pacific/Port_Moresby  \\\n",
       "0           -5.207080     145.789001    20  10  U  Pacific/Port_Moresby   \n",
       "1           -5.826790     144.296005  5388  10  U  Pacific/Port_Moresby   \n",
       "2           -6.569803     146.725977   239  10  U  Pacific/Port_Moresby   \n",
       "\n",
       "   airport  OurAirports  \n",
       "0  airport  OurAirports  \n",
       "1  airport  OurAirports  \n",
       "2  airport  OurAirports  "
      ]
     },
     "metadata": {},
     "output_type": "display_data"
    },
    {
     "data": {
      "text/html": [
       "<div>\n",
       "<style scoped>\n",
       "    .dataframe tbody tr th:only-of-type {\n",
       "        vertical-align: middle;\n",
       "    }\n",
       "\n",
       "    .dataframe tbody tr th {\n",
       "        vertical-align: top;\n",
       "    }\n",
       "\n",
       "    .dataframe thead th {\n",
       "        text-align: right;\n",
       "    }\n",
       "</style>\n",
       "<table border=\"1\" class=\"dataframe\">\n",
       "  <thead>\n",
       "    <tr style=\"text-align: right;\">\n",
       "      <th></th>\n",
       "      <th>2B</th>\n",
       "      <th>410</th>\n",
       "      <th>AER</th>\n",
       "      <th>2965</th>\n",
       "      <th>KZN</th>\n",
       "      <th>2990</th>\n",
       "      <th>Unnamed: 6</th>\n",
       "      <th>0</th>\n",
       "      <th>CR2</th>\n",
       "    </tr>\n",
       "  </thead>\n",
       "  <tbody>\n",
       "    <tr>\n",
       "      <th>0</th>\n",
       "      <td>2B</td>\n",
       "      <td>410</td>\n",
       "      <td>ASF</td>\n",
       "      <td>2966</td>\n",
       "      <td>KZN</td>\n",
       "      <td>2990</td>\n",
       "      <td>NaN</td>\n",
       "      <td>0</td>\n",
       "      <td>CR2</td>\n",
       "    </tr>\n",
       "    <tr>\n",
       "      <th>1</th>\n",
       "      <td>2B</td>\n",
       "      <td>410</td>\n",
       "      <td>ASF</td>\n",
       "      <td>2966</td>\n",
       "      <td>MRV</td>\n",
       "      <td>2962</td>\n",
       "      <td>NaN</td>\n",
       "      <td>0</td>\n",
       "      <td>CR2</td>\n",
       "    </tr>\n",
       "    <tr>\n",
       "      <th>2</th>\n",
       "      <td>2B</td>\n",
       "      <td>410</td>\n",
       "      <td>CEK</td>\n",
       "      <td>2968</td>\n",
       "      <td>KZN</td>\n",
       "      <td>2990</td>\n",
       "      <td>NaN</td>\n",
       "      <td>0</td>\n",
       "      <td>CR2</td>\n",
       "    </tr>\n",
       "  </tbody>\n",
       "</table>\n",
       "</div>"
      ],
      "text/plain": [
       "   2B  410  AER  2965  KZN  2990 Unnamed: 6  0  CR2\n",
       "0  2B  410  ASF  2966  KZN  2990        NaN  0  CR2\n",
       "1  2B  410  ASF  2966  MRV  2962        NaN  0  CR2\n",
       "2  2B  410  CEK  2968  KZN  2990        NaN  0  CR2"
      ]
     },
     "metadata": {},
     "output_type": "display_data"
    }
   ],
   "source": [
    "# Исходные данные на странице\n",
    "#\n",
    "# https://openflights.org/data.html\n",
    "# \n",
    "url_airport = 'https://raw.githubusercontent.com/jpatokal/openflights/master/data/airports.dat'\n",
    "url_routers = 'https://raw.githubusercontent.com/jpatokal/openflights/master/data/routes.dat'\n",
    "\n",
    "df_raw_airport = pd.read_csv(url_airport)\n",
    "display(df_raw_airport.head(3))\n",
    "df_raw_routers = pd.read_csv(url_routers)\n",
    "display(df_raw_routers.head(3))"
   ]
  },
  {
   "cell_type": "code",
   "execution_count": 3,
   "id": "45508b06",
   "metadata": {},
   "outputs": [
    {
     "data": {
      "text/html": [
       "<div>\n",
       "<style scoped>\n",
       "    .dataframe tbody tr th:only-of-type {\n",
       "        vertical-align: middle;\n",
       "    }\n",
       "\n",
       "    .dataframe tbody tr th {\n",
       "        vertical-align: top;\n",
       "    }\n",
       "\n",
       "    .dataframe thead th {\n",
       "        text-align: right;\n",
       "    }\n",
       "</style>\n",
       "<table border=\"1\" class=\"dataframe\">\n",
       "  <thead>\n",
       "    <tr style=\"text-align: right;\">\n",
       "      <th></th>\n",
       "      <th>Airport ID</th>\n",
       "      <th>Name</th>\n",
       "      <th>City</th>\n",
       "      <th>Country</th>\n",
       "      <th>IATA</th>\n",
       "      <th>ICAO</th>\n",
       "      <th>Latitude</th>\n",
       "      <th>Longitude</th>\n",
       "      <th>Altitude</th>\n",
       "      <th>Timezone</th>\n",
       "      <th>DST</th>\n",
       "      <th>Tz database time zone</th>\n",
       "      <th>Type</th>\n",
       "      <th>Source</th>\n",
       "    </tr>\n",
       "  </thead>\n",
       "  <tbody>\n",
       "    <tr>\n",
       "      <th>0</th>\n",
       "      <td>1</td>\n",
       "      <td>Goroka Airport</td>\n",
       "      <td>Goroka</td>\n",
       "      <td>Papua New Guinea</td>\n",
       "      <td>GKA</td>\n",
       "      <td>AYGA</td>\n",
       "      <td>-6.08169</td>\n",
       "      <td>145.391998</td>\n",
       "      <td>5282</td>\n",
       "      <td>10</td>\n",
       "      <td>U</td>\n",
       "      <td>Pacific/Port_Moresby</td>\n",
       "      <td>airport</td>\n",
       "      <td>OurAirports</td>\n",
       "    </tr>\n",
       "    <tr>\n",
       "      <th>1</th>\n",
       "      <td>2</td>\n",
       "      <td>Madang Airport</td>\n",
       "      <td>Madang</td>\n",
       "      <td>Papua New Guinea</td>\n",
       "      <td>MAG</td>\n",
       "      <td>AYMD</td>\n",
       "      <td>-5.20708</td>\n",
       "      <td>145.789001</td>\n",
       "      <td>20</td>\n",
       "      <td>10</td>\n",
       "      <td>U</td>\n",
       "      <td>Pacific/Port_Moresby</td>\n",
       "      <td>airport</td>\n",
       "      <td>OurAirports</td>\n",
       "    </tr>\n",
       "    <tr>\n",
       "      <th>2</th>\n",
       "      <td>3</td>\n",
       "      <td>Mount Hagen Kagamuga Airport</td>\n",
       "      <td>Mount Hagen</td>\n",
       "      <td>Papua New Guinea</td>\n",
       "      <td>HGU</td>\n",
       "      <td>AYMH</td>\n",
       "      <td>-5.82679</td>\n",
       "      <td>144.296005</td>\n",
       "      <td>5388</td>\n",
       "      <td>10</td>\n",
       "      <td>U</td>\n",
       "      <td>Pacific/Port_Moresby</td>\n",
       "      <td>airport</td>\n",
       "      <td>OurAirports</td>\n",
       "    </tr>\n",
       "  </tbody>\n",
       "</table>\n",
       "</div>"
      ],
      "text/plain": [
       "   Airport ID                          Name         City           Country  \\\n",
       "0           1                Goroka Airport       Goroka  Papua New Guinea   \n",
       "1           2                Madang Airport       Madang  Papua New Guinea   \n",
       "2           3  Mount Hagen Kagamuga Airport  Mount Hagen  Papua New Guinea   \n",
       "\n",
       "  IATA  ICAO  Latitude   Longitude  Altitude Timezone DST  \\\n",
       "0  GKA  AYGA  -6.08169  145.391998      5282       10   U   \n",
       "1  MAG  AYMD  -5.20708  145.789001        20       10   U   \n",
       "2  HGU  AYMH  -5.82679  144.296005      5388       10   U   \n",
       "\n",
       "  Tz database time zone     Type       Source  \n",
       "0  Pacific/Port_Moresby  airport  OurAirports  \n",
       "1  Pacific/Port_Moresby  airport  OurAirports  \n",
       "2  Pacific/Port_Moresby  airport  OurAirports  "
      ]
     },
     "metadata": {},
     "output_type": "display_data"
    },
    {
     "data": {
      "text/html": [
       "<div>\n",
       "<style scoped>\n",
       "    .dataframe tbody tr th:only-of-type {\n",
       "        vertical-align: middle;\n",
       "    }\n",
       "\n",
       "    .dataframe tbody tr th {\n",
       "        vertical-align: top;\n",
       "    }\n",
       "\n",
       "    .dataframe thead th {\n",
       "        text-align: right;\n",
       "    }\n",
       "</style>\n",
       "<table border=\"1\" class=\"dataframe\">\n",
       "  <thead>\n",
       "    <tr style=\"text-align: right;\">\n",
       "      <th></th>\n",
       "      <th>Airline</th>\n",
       "      <th>Airline ID</th>\n",
       "      <th>Source airport</th>\n",
       "      <th>Source airport ID</th>\n",
       "      <th>Destination airport</th>\n",
       "      <th>Destination airport ID</th>\n",
       "      <th>Codeshare</th>\n",
       "      <th>Stops</th>\n",
       "      <th>Equipment</th>\n",
       "    </tr>\n",
       "  </thead>\n",
       "  <tbody>\n",
       "    <tr>\n",
       "      <th>0</th>\n",
       "      <td>2B</td>\n",
       "      <td>410</td>\n",
       "      <td>AER</td>\n",
       "      <td>2965</td>\n",
       "      <td>KZN</td>\n",
       "      <td>2990</td>\n",
       "      <td>NaN</td>\n",
       "      <td>0</td>\n",
       "      <td>CR2</td>\n",
       "    </tr>\n",
       "    <tr>\n",
       "      <th>1</th>\n",
       "      <td>2B</td>\n",
       "      <td>410</td>\n",
       "      <td>ASF</td>\n",
       "      <td>2966</td>\n",
       "      <td>KZN</td>\n",
       "      <td>2990</td>\n",
       "      <td>NaN</td>\n",
       "      <td>0</td>\n",
       "      <td>CR2</td>\n",
       "    </tr>\n",
       "    <tr>\n",
       "      <th>2</th>\n",
       "      <td>2B</td>\n",
       "      <td>410</td>\n",
       "      <td>ASF</td>\n",
       "      <td>2966</td>\n",
       "      <td>MRV</td>\n",
       "      <td>2962</td>\n",
       "      <td>NaN</td>\n",
       "      <td>0</td>\n",
       "      <td>CR2</td>\n",
       "    </tr>\n",
       "  </tbody>\n",
       "</table>\n",
       "</div>"
      ],
      "text/plain": [
       "  Airline Airline ID Source airport Source airport ID Destination airport  \\\n",
       "0      2B        410            AER              2965                 KZN   \n",
       "1      2B        410            ASF              2966                 KZN   \n",
       "2      2B        410            ASF              2966                 MRV   \n",
       "\n",
       "  Destination airport ID Codeshare  Stops Equipment  \n",
       "0                   2990       NaN      0       CR2  \n",
       "1                   2990       NaN      0       CR2  \n",
       "2                   2962       NaN      0       CR2  "
      ]
     },
     "metadata": {},
     "output_type": "display_data"
    }
   ],
   "source": [
    "columns_airport = ['Airport ID', 'Name', 'City',\n",
    "                   'Country', 'IATA', 'ICAO', 'Latitude', 'Longitude', 'Altitude', 'Timezone',\n",
    "                   'DST', 'Tz database time zone', 'Type', 'Source']\n",
    "\n",
    "columns_routers = ['Airline', 'Airline ID', 'Source airport', 'Source airport ID', \n",
    "                   'Destination airport', 'Destination airport ID', 'Codeshare', 'Stops', 'Equipment']\n",
    "\n",
    "df_raw_airport = pd.read_csv(url_airport, names = columns_airport)\n",
    "display(df_raw_airport.head(3))\n",
    "df_raw_routers = pd.read_csv(url_routers, names = columns_routers)\n",
    "display(df_raw_routers.head(3))"
   ]
  },
  {
   "cell_type": "markdown",
   "id": "e868a212",
   "metadata": {},
   "source": [
    "# Задание 1\n",
    "\n",
    "Добавить столбец <code>Continent</code> с данными, которые будут содержать название континента."
   ]
  },
  {
   "cell_type": "code",
   "execution_count": 4,
   "id": "d96bcb29",
   "metadata": {},
   "outputs": [],
   "source": [
    "#Создаем функцию, которая будет конвертировать название страны в континент, к которому она принадлежит\n",
    "def tryconvert(x):\n",
    "    continents = {\n",
    "    'NA': 'North America',\n",
    "    'SA': 'South America', \n",
    "    'AS': 'Asia',\n",
    "    'OC': 'Australia',\n",
    "    'AF': 'Africa',\n",
    "    'EU': 'Europe'\n",
    "    }\n",
    "    try:\n",
    "        return continents[pc.country_alpha2_to_continent_code(pc.country_name_to_country_alpha2(x, cn_name_format=\"default\"))]\n",
    "    except (KeyError, TypeError):\n",
    "        return np.nan\n",
    "df_raw_airport['Continent'] = df_raw_airport['Country'].apply(tryconvert)"
   ]
  },
  {
   "cell_type": "code",
   "execution_count": 5,
   "id": "06fb7ede",
   "metadata": {},
   "outputs": [
    {
     "data": {
      "text/plain": [
       "array(['Australia', 'North America', 'Europe', 'Africa', nan,\n",
       "       'South America', 'Asia'], dtype=object)"
      ]
     },
     "execution_count": 5,
     "metadata": {},
     "output_type": "execute_result"
    }
   ],
   "source": [
    "df_raw_airport['Continent'].unique()"
   ]
  },
  {
   "cell_type": "code",
   "execution_count": 6,
   "id": "1d256a9a",
   "metadata": {
    "scrolled": true
   },
   "outputs": [
    {
     "data": {
      "text/plain": [
       "[\"Cote d'Ivoire\",\n",
       " 'Congo (Brazzaville)',\n",
       " 'Congo (Kinshasa)',\n",
       " 'Saint Helena',\n",
       " 'Reunion',\n",
       " 'Antarctica',\n",
       " 'West Bank',\n",
       " 'Midway Islands',\n",
       " 'Virgin Islands',\n",
       " 'Netherlands Antilles',\n",
       " 'Burma',\n",
       " 'East Timor',\n",
       " 'Johnston Atoll',\n",
       " 'Western Sahara',\n",
       " 'Wake Island']"
      ]
     },
     "execution_count": 6,
     "metadata": {},
     "output_type": "execute_result"
    }
   ],
   "source": [
    "list(df_raw_airport[df_raw_airport['Continent'].isnull()]['Country'].unique())"
   ]
  },
  {
   "cell_type": "code",
   "execution_count": 7,
   "id": "62ae895c",
   "metadata": {},
   "outputs": [],
   "source": [
    "#Создаем словарь из стран, названия которых устарели и соотносим их с континентом\n",
    "country_dict ={\"Cote d'Ivoire\": 'Africa',\n",
    "               'Congo (Brazzaville)': 'Africa',\n",
    "               'Congo (Kinshasa)': 'Africa',\n",
    "               'Saint Helena': 'Africa',\n",
    "               'Reunion': 'Africa',\n",
    "               'Antarctica': 'Antarctica',\n",
    "               'West Bank': 'Asia',\n",
    "               'Midway Islands': 'North America',\n",
    "               'Virgin Islands': 'North America',\n",
    "               'Netherlands Antilles':'Europe',\n",
    "               'Burma': 'Asia',\n",
    "               'East Timor': 'North America',\n",
    "               'Johnston Atoll':'North America',\n",
    "               'Western Sahara': 'Africa',\n",
    "               'Wake Island': 'North America'}"
   ]
  },
  {
   "cell_type": "code",
   "execution_count": 8,
   "id": "4107e807",
   "metadata": {},
   "outputs": [],
   "source": [
    "df_raw_airport['Continent'] = df_raw_airport.apply(lambda x: country_dict[x['Country']] if x['Country'] in country_dict.keys() \n",
    "                                                   else x['Continent'], axis=1)"
   ]
  },
  {
   "cell_type": "code",
   "execution_count": 9,
   "id": "31d66ccf",
   "metadata": {},
   "outputs": [
    {
     "name": "stdout",
     "output_type": "stream",
     "text": [
      "['Australia' 'North America' 'Europe' 'Africa' 'South America' 'Asia'\n",
      " 'Antarctica']\n"
     ]
    },
    {
     "data": {
      "text/html": [
       "<div>\n",
       "<style scoped>\n",
       "    .dataframe tbody tr th:only-of-type {\n",
       "        vertical-align: middle;\n",
       "    }\n",
       "\n",
       "    .dataframe tbody tr th {\n",
       "        vertical-align: top;\n",
       "    }\n",
       "\n",
       "    .dataframe thead th {\n",
       "        text-align: right;\n",
       "    }\n",
       "</style>\n",
       "<table border=\"1\" class=\"dataframe\">\n",
       "  <thead>\n",
       "    <tr style=\"text-align: right;\">\n",
       "      <th></th>\n",
       "      <th>Airport ID</th>\n",
       "      <th>Name</th>\n",
       "      <th>City</th>\n",
       "      <th>Country</th>\n",
       "      <th>IATA</th>\n",
       "      <th>ICAO</th>\n",
       "      <th>Latitude</th>\n",
       "      <th>Longitude</th>\n",
       "      <th>Altitude</th>\n",
       "      <th>Timezone</th>\n",
       "      <th>DST</th>\n",
       "      <th>Tz database time zone</th>\n",
       "      <th>Type</th>\n",
       "      <th>Source</th>\n",
       "      <th>Continent</th>\n",
       "    </tr>\n",
       "  </thead>\n",
       "  <tbody>\n",
       "    <tr>\n",
       "      <th>0</th>\n",
       "      <td>1</td>\n",
       "      <td>Goroka Airport</td>\n",
       "      <td>Goroka</td>\n",
       "      <td>Papua New Guinea</td>\n",
       "      <td>GKA</td>\n",
       "      <td>AYGA</td>\n",
       "      <td>-6.081690</td>\n",
       "      <td>145.391998</td>\n",
       "      <td>5282</td>\n",
       "      <td>10</td>\n",
       "      <td>U</td>\n",
       "      <td>Pacific/Port_Moresby</td>\n",
       "      <td>airport</td>\n",
       "      <td>OurAirports</td>\n",
       "      <td>Australia</td>\n",
       "    </tr>\n",
       "    <tr>\n",
       "      <th>1</th>\n",
       "      <td>2</td>\n",
       "      <td>Madang Airport</td>\n",
       "      <td>Madang</td>\n",
       "      <td>Papua New Guinea</td>\n",
       "      <td>MAG</td>\n",
       "      <td>AYMD</td>\n",
       "      <td>-5.207080</td>\n",
       "      <td>145.789001</td>\n",
       "      <td>20</td>\n",
       "      <td>10</td>\n",
       "      <td>U</td>\n",
       "      <td>Pacific/Port_Moresby</td>\n",
       "      <td>airport</td>\n",
       "      <td>OurAirports</td>\n",
       "      <td>Australia</td>\n",
       "    </tr>\n",
       "    <tr>\n",
       "      <th>2</th>\n",
       "      <td>3</td>\n",
       "      <td>Mount Hagen Kagamuga Airport</td>\n",
       "      <td>Mount Hagen</td>\n",
       "      <td>Papua New Guinea</td>\n",
       "      <td>HGU</td>\n",
       "      <td>AYMH</td>\n",
       "      <td>-5.826790</td>\n",
       "      <td>144.296005</td>\n",
       "      <td>5388</td>\n",
       "      <td>10</td>\n",
       "      <td>U</td>\n",
       "      <td>Pacific/Port_Moresby</td>\n",
       "      <td>airport</td>\n",
       "      <td>OurAirports</td>\n",
       "      <td>Australia</td>\n",
       "    </tr>\n",
       "    <tr>\n",
       "      <th>3</th>\n",
       "      <td>4</td>\n",
       "      <td>Nadzab Airport</td>\n",
       "      <td>Nadzab</td>\n",
       "      <td>Papua New Guinea</td>\n",
       "      <td>LAE</td>\n",
       "      <td>AYNZ</td>\n",
       "      <td>-6.569803</td>\n",
       "      <td>146.725977</td>\n",
       "      <td>239</td>\n",
       "      <td>10</td>\n",
       "      <td>U</td>\n",
       "      <td>Pacific/Port_Moresby</td>\n",
       "      <td>airport</td>\n",
       "      <td>OurAirports</td>\n",
       "      <td>Australia</td>\n",
       "    </tr>\n",
       "    <tr>\n",
       "      <th>4</th>\n",
       "      <td>5</td>\n",
       "      <td>Port Moresby Jacksons International Airport</td>\n",
       "      <td>Port Moresby</td>\n",
       "      <td>Papua New Guinea</td>\n",
       "      <td>POM</td>\n",
       "      <td>AYPY</td>\n",
       "      <td>-9.443380</td>\n",
       "      <td>147.220001</td>\n",
       "      <td>146</td>\n",
       "      <td>10</td>\n",
       "      <td>U</td>\n",
       "      <td>Pacific/Port_Moresby</td>\n",
       "      <td>airport</td>\n",
       "      <td>OurAirports</td>\n",
       "      <td>Australia</td>\n",
       "    </tr>\n",
       "    <tr>\n",
       "      <th>...</th>\n",
       "      <td>...</td>\n",
       "      <td>...</td>\n",
       "      <td>...</td>\n",
       "      <td>...</td>\n",
       "      <td>...</td>\n",
       "      <td>...</td>\n",
       "      <td>...</td>\n",
       "      <td>...</td>\n",
       "      <td>...</td>\n",
       "      <td>...</td>\n",
       "      <td>...</td>\n",
       "      <td>...</td>\n",
       "      <td>...</td>\n",
       "      <td>...</td>\n",
       "      <td>...</td>\n",
       "    </tr>\n",
       "    <tr>\n",
       "      <th>7693</th>\n",
       "      <td>14106</td>\n",
       "      <td>Rogachyovo Air Base</td>\n",
       "      <td>Belaya</td>\n",
       "      <td>Russia</td>\n",
       "      <td>\\N</td>\n",
       "      <td>ULDA</td>\n",
       "      <td>71.616699</td>\n",
       "      <td>52.478298</td>\n",
       "      <td>272</td>\n",
       "      <td>\\N</td>\n",
       "      <td>\\N</td>\n",
       "      <td>\\N</td>\n",
       "      <td>airport</td>\n",
       "      <td>OurAirports</td>\n",
       "      <td>Europe</td>\n",
       "    </tr>\n",
       "    <tr>\n",
       "      <th>7694</th>\n",
       "      <td>14107</td>\n",
       "      <td>Ulan-Ude East Airport</td>\n",
       "      <td>Ulan Ude</td>\n",
       "      <td>Russia</td>\n",
       "      <td>\\N</td>\n",
       "      <td>XIUW</td>\n",
       "      <td>51.849998</td>\n",
       "      <td>107.737999</td>\n",
       "      <td>1670</td>\n",
       "      <td>\\N</td>\n",
       "      <td>\\N</td>\n",
       "      <td>\\N</td>\n",
       "      <td>airport</td>\n",
       "      <td>OurAirports</td>\n",
       "      <td>Europe</td>\n",
       "    </tr>\n",
       "    <tr>\n",
       "      <th>7695</th>\n",
       "      <td>14108</td>\n",
       "      <td>Krechevitsy Air Base</td>\n",
       "      <td>Novgorod</td>\n",
       "      <td>Russia</td>\n",
       "      <td>\\N</td>\n",
       "      <td>ULLK</td>\n",
       "      <td>58.625000</td>\n",
       "      <td>31.385000</td>\n",
       "      <td>85</td>\n",
       "      <td>\\N</td>\n",
       "      <td>\\N</td>\n",
       "      <td>\\N</td>\n",
       "      <td>airport</td>\n",
       "      <td>OurAirports</td>\n",
       "      <td>Europe</td>\n",
       "    </tr>\n",
       "    <tr>\n",
       "      <th>7696</th>\n",
       "      <td>14109</td>\n",
       "      <td>Desierto de Atacama Airport</td>\n",
       "      <td>Copiapo</td>\n",
       "      <td>Chile</td>\n",
       "      <td>CPO</td>\n",
       "      <td>SCAT</td>\n",
       "      <td>-27.261200</td>\n",
       "      <td>-70.779198</td>\n",
       "      <td>670</td>\n",
       "      <td>\\N</td>\n",
       "      <td>\\N</td>\n",
       "      <td>\\N</td>\n",
       "      <td>airport</td>\n",
       "      <td>OurAirports</td>\n",
       "      <td>South America</td>\n",
       "    </tr>\n",
       "    <tr>\n",
       "      <th>7697</th>\n",
       "      <td>14110</td>\n",
       "      <td>Melitopol Air Base</td>\n",
       "      <td>Melitopol</td>\n",
       "      <td>Ukraine</td>\n",
       "      <td>\\N</td>\n",
       "      <td>UKDM</td>\n",
       "      <td>46.880001</td>\n",
       "      <td>35.305000</td>\n",
       "      <td>0</td>\n",
       "      <td>\\N</td>\n",
       "      <td>\\N</td>\n",
       "      <td>\\N</td>\n",
       "      <td>airport</td>\n",
       "      <td>OurAirports</td>\n",
       "      <td>Europe</td>\n",
       "    </tr>\n",
       "  </tbody>\n",
       "</table>\n",
       "<p>7698 rows × 15 columns</p>\n",
       "</div>"
      ],
      "text/plain": [
       "      Airport ID                                         Name          City  \\\n",
       "0              1                               Goroka Airport        Goroka   \n",
       "1              2                               Madang Airport        Madang   \n",
       "2              3                 Mount Hagen Kagamuga Airport   Mount Hagen   \n",
       "3              4                               Nadzab Airport        Nadzab   \n",
       "4              5  Port Moresby Jacksons International Airport  Port Moresby   \n",
       "...          ...                                          ...           ...   \n",
       "7693       14106                          Rogachyovo Air Base        Belaya   \n",
       "7694       14107                        Ulan-Ude East Airport      Ulan Ude   \n",
       "7695       14108                         Krechevitsy Air Base      Novgorod   \n",
       "7696       14109                  Desierto de Atacama Airport       Copiapo   \n",
       "7697       14110                           Melitopol Air Base     Melitopol   \n",
       "\n",
       "               Country IATA  ICAO   Latitude   Longitude  Altitude Timezone  \\\n",
       "0     Papua New Guinea  GKA  AYGA  -6.081690  145.391998      5282       10   \n",
       "1     Papua New Guinea  MAG  AYMD  -5.207080  145.789001        20       10   \n",
       "2     Papua New Guinea  HGU  AYMH  -5.826790  144.296005      5388       10   \n",
       "3     Papua New Guinea  LAE  AYNZ  -6.569803  146.725977       239       10   \n",
       "4     Papua New Guinea  POM  AYPY  -9.443380  147.220001       146       10   \n",
       "...                ...  ...   ...        ...         ...       ...      ...   \n",
       "7693            Russia   \\N  ULDA  71.616699   52.478298       272       \\N   \n",
       "7694            Russia   \\N  XIUW  51.849998  107.737999      1670       \\N   \n",
       "7695            Russia   \\N  ULLK  58.625000   31.385000        85       \\N   \n",
       "7696             Chile  CPO  SCAT -27.261200  -70.779198       670       \\N   \n",
       "7697           Ukraine   \\N  UKDM  46.880001   35.305000         0       \\N   \n",
       "\n",
       "     DST Tz database time zone     Type       Source      Continent  \n",
       "0      U  Pacific/Port_Moresby  airport  OurAirports      Australia  \n",
       "1      U  Pacific/Port_Moresby  airport  OurAirports      Australia  \n",
       "2      U  Pacific/Port_Moresby  airport  OurAirports      Australia  \n",
       "3      U  Pacific/Port_Moresby  airport  OurAirports      Australia  \n",
       "4      U  Pacific/Port_Moresby  airport  OurAirports      Australia  \n",
       "...   ..                   ...      ...          ...            ...  \n",
       "7693  \\N                    \\N  airport  OurAirports         Europe  \n",
       "7694  \\N                    \\N  airport  OurAirports         Europe  \n",
       "7695  \\N                    \\N  airport  OurAirports         Europe  \n",
       "7696  \\N                    \\N  airport  OurAirports  South America  \n",
       "7697  \\N                    \\N  airport  OurAirports         Europe  \n",
       "\n",
       "[7698 rows x 15 columns]"
      ]
     },
     "execution_count": 9,
     "metadata": {},
     "output_type": "execute_result"
    }
   ],
   "source": [
    "print(df_raw_airport['Continent'].unique())\n",
    "df_raw_airport"
   ]
  },
  {
   "cell_type": "markdown",
   "id": "cbdcfa19",
   "metadata": {},
   "source": [
    "# Задание 2\n",
    "\n",
    "Из списка континентов случайно выбрать континент и срезать таблицу по названию континента и аэропорту имеющему код IATA (имеется в виду - для выбранного континента только аэропорты с кодом IATA). Каждый раз при выполнении кода континент случайно выбирается."
   ]
  },
  {
   "cell_type": "code",
   "execution_count": 10,
   "id": "bbbd7c0c",
   "metadata": {},
   "outputs": [
    {
     "name": "stdout",
     "output_type": "stream",
     "text": [
      "Australia\n"
     ]
    },
    {
     "data": {
      "text/html": [
       "<div>\n",
       "<style scoped>\n",
       "    .dataframe tbody tr th:only-of-type {\n",
       "        vertical-align: middle;\n",
       "    }\n",
       "\n",
       "    .dataframe tbody tr th {\n",
       "        vertical-align: top;\n",
       "    }\n",
       "\n",
       "    .dataframe thead th {\n",
       "        text-align: right;\n",
       "    }\n",
       "</style>\n",
       "<table border=\"1\" class=\"dataframe\">\n",
       "  <thead>\n",
       "    <tr style=\"text-align: right;\">\n",
       "      <th></th>\n",
       "      <th>Airport ID</th>\n",
       "      <th>Name</th>\n",
       "      <th>City</th>\n",
       "      <th>Country</th>\n",
       "      <th>IATA</th>\n",
       "      <th>ICAO</th>\n",
       "      <th>Latitude</th>\n",
       "      <th>Longitude</th>\n",
       "      <th>Altitude</th>\n",
       "      <th>Timezone</th>\n",
       "      <th>DST</th>\n",
       "      <th>Tz database time zone</th>\n",
       "      <th>Type</th>\n",
       "      <th>Source</th>\n",
       "      <th>Continent</th>\n",
       "    </tr>\n",
       "  </thead>\n",
       "  <tbody>\n",
       "    <tr>\n",
       "      <th>0</th>\n",
       "      <td>1</td>\n",
       "      <td>Goroka Airport</td>\n",
       "      <td>Goroka</td>\n",
       "      <td>Papua New Guinea</td>\n",
       "      <td>GKA</td>\n",
       "      <td>AYGA</td>\n",
       "      <td>-6.081690</td>\n",
       "      <td>145.391998</td>\n",
       "      <td>5282</td>\n",
       "      <td>10</td>\n",
       "      <td>U</td>\n",
       "      <td>Pacific/Port_Moresby</td>\n",
       "      <td>airport</td>\n",
       "      <td>OurAirports</td>\n",
       "      <td>Australia</td>\n",
       "    </tr>\n",
       "    <tr>\n",
       "      <th>1</th>\n",
       "      <td>2</td>\n",
       "      <td>Madang Airport</td>\n",
       "      <td>Madang</td>\n",
       "      <td>Papua New Guinea</td>\n",
       "      <td>MAG</td>\n",
       "      <td>AYMD</td>\n",
       "      <td>-5.207080</td>\n",
       "      <td>145.789001</td>\n",
       "      <td>20</td>\n",
       "      <td>10</td>\n",
       "      <td>U</td>\n",
       "      <td>Pacific/Port_Moresby</td>\n",
       "      <td>airport</td>\n",
       "      <td>OurAirports</td>\n",
       "      <td>Australia</td>\n",
       "    </tr>\n",
       "    <tr>\n",
       "      <th>2</th>\n",
       "      <td>3</td>\n",
       "      <td>Mount Hagen Kagamuga Airport</td>\n",
       "      <td>Mount Hagen</td>\n",
       "      <td>Papua New Guinea</td>\n",
       "      <td>HGU</td>\n",
       "      <td>AYMH</td>\n",
       "      <td>-5.826790</td>\n",
       "      <td>144.296005</td>\n",
       "      <td>5388</td>\n",
       "      <td>10</td>\n",
       "      <td>U</td>\n",
       "      <td>Pacific/Port_Moresby</td>\n",
       "      <td>airport</td>\n",
       "      <td>OurAirports</td>\n",
       "      <td>Australia</td>\n",
       "    </tr>\n",
       "    <tr>\n",
       "      <th>3</th>\n",
       "      <td>4</td>\n",
       "      <td>Nadzab Airport</td>\n",
       "      <td>Nadzab</td>\n",
       "      <td>Papua New Guinea</td>\n",
       "      <td>LAE</td>\n",
       "      <td>AYNZ</td>\n",
       "      <td>-6.569803</td>\n",
       "      <td>146.725977</td>\n",
       "      <td>239</td>\n",
       "      <td>10</td>\n",
       "      <td>U</td>\n",
       "      <td>Pacific/Port_Moresby</td>\n",
       "      <td>airport</td>\n",
       "      <td>OurAirports</td>\n",
       "      <td>Australia</td>\n",
       "    </tr>\n",
       "    <tr>\n",
       "      <th>4</th>\n",
       "      <td>5</td>\n",
       "      <td>Port Moresby Jacksons International Airport</td>\n",
       "      <td>Port Moresby</td>\n",
       "      <td>Papua New Guinea</td>\n",
       "      <td>POM</td>\n",
       "      <td>AYPY</td>\n",
       "      <td>-9.443380</td>\n",
       "      <td>147.220001</td>\n",
       "      <td>146</td>\n",
       "      <td>10</td>\n",
       "      <td>U</td>\n",
       "      <td>Pacific/Port_Moresby</td>\n",
       "      <td>airport</td>\n",
       "      <td>OurAirports</td>\n",
       "      <td>Australia</td>\n",
       "    </tr>\n",
       "    <tr>\n",
       "      <th>...</th>\n",
       "      <td>...</td>\n",
       "      <td>...</td>\n",
       "      <td>...</td>\n",
       "      <td>...</td>\n",
       "      <td>...</td>\n",
       "      <td>...</td>\n",
       "      <td>...</td>\n",
       "      <td>...</td>\n",
       "      <td>...</td>\n",
       "      <td>...</td>\n",
       "      <td>...</td>\n",
       "      <td>...</td>\n",
       "      <td>...</td>\n",
       "      <td>...</td>\n",
       "      <td>...</td>\n",
       "    </tr>\n",
       "    <tr>\n",
       "      <th>7607</th>\n",
       "      <td>13628</td>\n",
       "      <td>Raroia Airport</td>\n",
       "      <td>Raroia</td>\n",
       "      <td>French Polynesia</td>\n",
       "      <td>RRR</td>\n",
       "      <td>NTKO</td>\n",
       "      <td>-16.045000</td>\n",
       "      <td>-142.476944</td>\n",
       "      <td>18</td>\n",
       "      <td>-10</td>\n",
       "      <td>N</td>\n",
       "      <td>\\N</td>\n",
       "      <td>airport</td>\n",
       "      <td>OurAirports</td>\n",
       "      <td>Australia</td>\n",
       "    </tr>\n",
       "    <tr>\n",
       "      <th>7608</th>\n",
       "      <td>13629</td>\n",
       "      <td>Kauehi Airport</td>\n",
       "      <td>Kauehi</td>\n",
       "      <td>French Polynesia</td>\n",
       "      <td>KHZ</td>\n",
       "      <td>NTKA</td>\n",
       "      <td>-15.780800</td>\n",
       "      <td>-145.123993</td>\n",
       "      <td>13</td>\n",
       "      <td>-10</td>\n",
       "      <td>N</td>\n",
       "      <td>\\N</td>\n",
       "      <td>airport</td>\n",
       "      <td>OurAirports</td>\n",
       "      <td>Australia</td>\n",
       "    </tr>\n",
       "    <tr>\n",
       "      <th>7609</th>\n",
       "      <td>13630</td>\n",
       "      <td>Tatakoto Airport</td>\n",
       "      <td>Tatakoto</td>\n",
       "      <td>French Polynesia</td>\n",
       "      <td>TKV</td>\n",
       "      <td>NTGO</td>\n",
       "      <td>-17.355301</td>\n",
       "      <td>-138.445007</td>\n",
       "      <td>12</td>\n",
       "      <td>-10</td>\n",
       "      <td>N</td>\n",
       "      <td>\\N</td>\n",
       "      <td>airport</td>\n",
       "      <td>OurAirports</td>\n",
       "      <td>Australia</td>\n",
       "    </tr>\n",
       "    <tr>\n",
       "      <th>7610</th>\n",
       "      <td>13631</td>\n",
       "      <td>Sasereme Airport</td>\n",
       "      <td>Sasereme</td>\n",
       "      <td>Papua New Guinea</td>\n",
       "      <td>TDS</td>\n",
       "      <td>AYSS</td>\n",
       "      <td>-7.621700</td>\n",
       "      <td>142.868000</td>\n",
       "      <td>121</td>\n",
       "      <td>10</td>\n",
       "      <td>N</td>\n",
       "      <td>\\N</td>\n",
       "      <td>airport</td>\n",
       "      <td>OurAirports</td>\n",
       "      <td>Australia</td>\n",
       "    </tr>\n",
       "    <tr>\n",
       "      <th>7621</th>\n",
       "      <td>13671</td>\n",
       "      <td>Noonkanbah Airport</td>\n",
       "      <td>Noonkanbah</td>\n",
       "      <td>Australia</td>\n",
       "      <td>NKB</td>\n",
       "      <td>YNKA</td>\n",
       "      <td>-18.494699</td>\n",
       "      <td>124.851997</td>\n",
       "      <td>0</td>\n",
       "      <td>8</td>\n",
       "      <td>N</td>\n",
       "      <td>\\N</td>\n",
       "      <td>airport</td>\n",
       "      <td>OurAirports</td>\n",
       "      <td>Australia</td>\n",
       "    </tr>\n",
       "  </tbody>\n",
       "</table>\n",
       "<p>550 rows × 15 columns</p>\n",
       "</div>"
      ],
      "text/plain": [
       "      Airport ID                                         Name          City  \\\n",
       "0              1                               Goroka Airport        Goroka   \n",
       "1              2                               Madang Airport        Madang   \n",
       "2              3                 Mount Hagen Kagamuga Airport   Mount Hagen   \n",
       "3              4                               Nadzab Airport        Nadzab   \n",
       "4              5  Port Moresby Jacksons International Airport  Port Moresby   \n",
       "...          ...                                          ...           ...   \n",
       "7607       13628                               Raroia Airport        Raroia   \n",
       "7608       13629                               Kauehi Airport        Kauehi   \n",
       "7609       13630                             Tatakoto Airport      Tatakoto   \n",
       "7610       13631                             Sasereme Airport      Sasereme   \n",
       "7621       13671                           Noonkanbah Airport    Noonkanbah   \n",
       "\n",
       "               Country IATA  ICAO   Latitude   Longitude  Altitude Timezone  \\\n",
       "0     Papua New Guinea  GKA  AYGA  -6.081690  145.391998      5282       10   \n",
       "1     Papua New Guinea  MAG  AYMD  -5.207080  145.789001        20       10   \n",
       "2     Papua New Guinea  HGU  AYMH  -5.826790  144.296005      5388       10   \n",
       "3     Papua New Guinea  LAE  AYNZ  -6.569803  146.725977       239       10   \n",
       "4     Papua New Guinea  POM  AYPY  -9.443380  147.220001       146       10   \n",
       "...                ...  ...   ...        ...         ...       ...      ...   \n",
       "7607  French Polynesia  RRR  NTKO -16.045000 -142.476944        18      -10   \n",
       "7608  French Polynesia  KHZ  NTKA -15.780800 -145.123993        13      -10   \n",
       "7609  French Polynesia  TKV  NTGO -17.355301 -138.445007        12      -10   \n",
       "7610  Papua New Guinea  TDS  AYSS  -7.621700  142.868000       121       10   \n",
       "7621         Australia  NKB  YNKA -18.494699  124.851997         0        8   \n",
       "\n",
       "     DST Tz database time zone     Type       Source  Continent  \n",
       "0      U  Pacific/Port_Moresby  airport  OurAirports  Australia  \n",
       "1      U  Pacific/Port_Moresby  airport  OurAirports  Australia  \n",
       "2      U  Pacific/Port_Moresby  airport  OurAirports  Australia  \n",
       "3      U  Pacific/Port_Moresby  airport  OurAirports  Australia  \n",
       "4      U  Pacific/Port_Moresby  airport  OurAirports  Australia  \n",
       "...   ..                   ...      ...          ...        ...  \n",
       "7607   N                    \\N  airport  OurAirports  Australia  \n",
       "7608   N                    \\N  airport  OurAirports  Australia  \n",
       "7609   N                    \\N  airport  OurAirports  Australia  \n",
       "7610   N                    \\N  airport  OurAirports  Australia  \n",
       "7621   N                    \\N  airport  OurAirports  Australia  \n",
       "\n",
       "[550 rows x 15 columns]"
      ]
     },
     "execution_count": 10,
     "metadata": {},
     "output_type": "execute_result"
    }
   ],
   "source": [
    "#Здесь нам поможет функция .sample(), которая возвращает случайную выборку элементов из оси объекта\n",
    "cont_random = list(df_raw_airport['Continent'].sample())[0]\n",
    "print(cont_random)\n",
    "df_raw_airport[(df_raw_airport['IATA'] != r\"\\N\") & (df_raw_airport['Continent'] == cont_random)]"
   ]
  },
  {
   "cell_type": "markdown",
   "id": "12f3f047",
   "metadata": {},
   "source": [
    "# Задание 3\n",
    "\n",
    "На основе таблицы связи аэропортов создать таблицу с кодом аэропорта, количеством взлетов и количеством посадок."
   ]
  },
  {
   "cell_type": "code",
   "execution_count": 11,
   "id": "bcc7bee3",
   "metadata": {
    "scrolled": false
   },
   "outputs": [
    {
     "data": {
      "text/html": [
       "<div>\n",
       "<style scoped>\n",
       "    .dataframe tbody tr th:only-of-type {\n",
       "        vertical-align: middle;\n",
       "    }\n",
       "\n",
       "    .dataframe tbody tr th {\n",
       "        vertical-align: top;\n",
       "    }\n",
       "\n",
       "    .dataframe thead th {\n",
       "        text-align: right;\n",
       "    }\n",
       "</style>\n",
       "<table border=\"1\" class=\"dataframe\">\n",
       "  <thead>\n",
       "    <tr style=\"text-align: right;\">\n",
       "      <th></th>\n",
       "      <th>Airline</th>\n",
       "      <th>Airline ID</th>\n",
       "      <th>Source airport</th>\n",
       "      <th>Source airport ID</th>\n",
       "      <th>Destination airport</th>\n",
       "      <th>Destination airport ID</th>\n",
       "      <th>Codeshare</th>\n",
       "      <th>Stops</th>\n",
       "      <th>Equipment</th>\n",
       "    </tr>\n",
       "  </thead>\n",
       "  <tbody>\n",
       "    <tr>\n",
       "      <th>0</th>\n",
       "      <td>2B</td>\n",
       "      <td>410</td>\n",
       "      <td>AER</td>\n",
       "      <td>2965</td>\n",
       "      <td>KZN</td>\n",
       "      <td>2990</td>\n",
       "      <td>NaN</td>\n",
       "      <td>0</td>\n",
       "      <td>CR2</td>\n",
       "    </tr>\n",
       "    <tr>\n",
       "      <th>1</th>\n",
       "      <td>2B</td>\n",
       "      <td>410</td>\n",
       "      <td>ASF</td>\n",
       "      <td>2966</td>\n",
       "      <td>KZN</td>\n",
       "      <td>2990</td>\n",
       "      <td>NaN</td>\n",
       "      <td>0</td>\n",
       "      <td>CR2</td>\n",
       "    </tr>\n",
       "    <tr>\n",
       "      <th>2</th>\n",
       "      <td>2B</td>\n",
       "      <td>410</td>\n",
       "      <td>ASF</td>\n",
       "      <td>2966</td>\n",
       "      <td>MRV</td>\n",
       "      <td>2962</td>\n",
       "      <td>NaN</td>\n",
       "      <td>0</td>\n",
       "      <td>CR2</td>\n",
       "    </tr>\n",
       "    <tr>\n",
       "      <th>3</th>\n",
       "      <td>2B</td>\n",
       "      <td>410</td>\n",
       "      <td>CEK</td>\n",
       "      <td>2968</td>\n",
       "      <td>KZN</td>\n",
       "      <td>2990</td>\n",
       "      <td>NaN</td>\n",
       "      <td>0</td>\n",
       "      <td>CR2</td>\n",
       "    </tr>\n",
       "    <tr>\n",
       "      <th>4</th>\n",
       "      <td>2B</td>\n",
       "      <td>410</td>\n",
       "      <td>CEK</td>\n",
       "      <td>2968</td>\n",
       "      <td>OVB</td>\n",
       "      <td>4078</td>\n",
       "      <td>NaN</td>\n",
       "      <td>0</td>\n",
       "      <td>CR2</td>\n",
       "    </tr>\n",
       "    <tr>\n",
       "      <th>...</th>\n",
       "      <td>...</td>\n",
       "      <td>...</td>\n",
       "      <td>...</td>\n",
       "      <td>...</td>\n",
       "      <td>...</td>\n",
       "      <td>...</td>\n",
       "      <td>...</td>\n",
       "      <td>...</td>\n",
       "      <td>...</td>\n",
       "    </tr>\n",
       "    <tr>\n",
       "      <th>67658</th>\n",
       "      <td>ZL</td>\n",
       "      <td>4178</td>\n",
       "      <td>WYA</td>\n",
       "      <td>6334</td>\n",
       "      <td>ADL</td>\n",
       "      <td>3341</td>\n",
       "      <td>NaN</td>\n",
       "      <td>0</td>\n",
       "      <td>SF3</td>\n",
       "    </tr>\n",
       "    <tr>\n",
       "      <th>67659</th>\n",
       "      <td>ZM</td>\n",
       "      <td>19016</td>\n",
       "      <td>DME</td>\n",
       "      <td>4029</td>\n",
       "      <td>FRU</td>\n",
       "      <td>2912</td>\n",
       "      <td>NaN</td>\n",
       "      <td>0</td>\n",
       "      <td>734</td>\n",
       "    </tr>\n",
       "    <tr>\n",
       "      <th>67660</th>\n",
       "      <td>ZM</td>\n",
       "      <td>19016</td>\n",
       "      <td>FRU</td>\n",
       "      <td>2912</td>\n",
       "      <td>DME</td>\n",
       "      <td>4029</td>\n",
       "      <td>NaN</td>\n",
       "      <td>0</td>\n",
       "      <td>734</td>\n",
       "    </tr>\n",
       "    <tr>\n",
       "      <th>67661</th>\n",
       "      <td>ZM</td>\n",
       "      <td>19016</td>\n",
       "      <td>FRU</td>\n",
       "      <td>2912</td>\n",
       "      <td>OSS</td>\n",
       "      <td>2913</td>\n",
       "      <td>NaN</td>\n",
       "      <td>0</td>\n",
       "      <td>734</td>\n",
       "    </tr>\n",
       "    <tr>\n",
       "      <th>67662</th>\n",
       "      <td>ZM</td>\n",
       "      <td>19016</td>\n",
       "      <td>OSS</td>\n",
       "      <td>2913</td>\n",
       "      <td>FRU</td>\n",
       "      <td>2912</td>\n",
       "      <td>NaN</td>\n",
       "      <td>0</td>\n",
       "      <td>734</td>\n",
       "    </tr>\n",
       "  </tbody>\n",
       "</table>\n",
       "<p>67663 rows × 9 columns</p>\n",
       "</div>"
      ],
      "text/plain": [
       "      Airline Airline ID Source airport Source airport ID Destination airport  \\\n",
       "0          2B        410            AER              2965                 KZN   \n",
       "1          2B        410            ASF              2966                 KZN   \n",
       "2          2B        410            ASF              2966                 MRV   \n",
       "3          2B        410            CEK              2968                 KZN   \n",
       "4          2B        410            CEK              2968                 OVB   \n",
       "...       ...        ...            ...               ...                 ...   \n",
       "67658      ZL       4178            WYA              6334                 ADL   \n",
       "67659      ZM      19016            DME              4029                 FRU   \n",
       "67660      ZM      19016            FRU              2912                 DME   \n",
       "67661      ZM      19016            FRU              2912                 OSS   \n",
       "67662      ZM      19016            OSS              2913                 FRU   \n",
       "\n",
       "      Destination airport ID Codeshare  Stops Equipment  \n",
       "0                       2990       NaN      0       CR2  \n",
       "1                       2990       NaN      0       CR2  \n",
       "2                       2962       NaN      0       CR2  \n",
       "3                       2990       NaN      0       CR2  \n",
       "4                       4078       NaN      0       CR2  \n",
       "...                      ...       ...    ...       ...  \n",
       "67658                   3341       NaN      0       SF3  \n",
       "67659                   2912       NaN      0       734  \n",
       "67660                   4029       NaN      0       734  \n",
       "67661                   2913       NaN      0       734  \n",
       "67662                   2912       NaN      0       734  \n",
       "\n",
       "[67663 rows x 9 columns]"
      ]
     },
     "execution_count": 11,
     "metadata": {},
     "output_type": "execute_result"
    }
   ],
   "source": [
    "\n",
    "df_raw_routers"
   ]
  },
  {
   "cell_type": "code",
   "execution_count": 12,
   "id": "9c38d8ce",
   "metadata": {
    "scrolled": true
   },
   "outputs": [
    {
     "name": "stdout",
     "output_type": "stream",
     "text": [
      "<class 'str'>\n",
      "<class 'str'>\n",
      "<class 'float'>\n",
      "[nan 'Y']\n",
      "Y    14597\n",
      "Name: Codeshare, dtype: int64\n"
     ]
    }
   ],
   "source": [
    "#Проверка формата значений некоторых колонок\n",
    "print(type(df_raw_routers['Source airport ID'][5]))\n",
    "print(type(df_raw_routers['Destination airport ID'][5]))\n",
    "print(type(df_raw_routers['Codeshare'][5]))\n",
    "print(df_raw_routers['Codeshare'].unique())\n",
    "print(df_raw_routers['Codeshare'].value_counts())\n",
    "\n",
    "#Изменение формата значений, чтобы можно было мёрджить таблицы\n",
    "df_raw_routers.replace({r'\\N': np.nan}, inplace = True)\n",
    "df_raw_routers['Source airport ID'] = pd.to_numeric(df_raw_routers['Source airport ID'])\n",
    "df_raw_routers['Destination airport ID'] = pd.to_numeric(df_raw_routers['Destination airport ID'])"
   ]
  },
  {
   "cell_type": "code",
   "execution_count": 15,
   "id": "0ed55334",
   "metadata": {},
   "outputs": [],
   "source": [
    "#добавляем к таблице с аэропорта колонку с ID аэропорта вылета/прилёта, чтобы можно было считать вылеты/прилёты \n",
    "# по коду аэропорта IATA\n",
    "\n",
    "# вылеты (взлетели)\n",
    "took_off = df_raw_airport.merge(df_raw_routers['Source airport ID'], left_on='Airport ID', right_on='Source airport ID', how='left')\n",
    "\n",
    "# прилёты (приземлились)\n",
    "landed = df_raw_airport.merge(df_raw_routers['Destination airport ID'], left_on='Airport ID', right_on='Destination airport ID', how='left')"
   ]
  },
  {
   "cell_type": "code",
   "execution_count": 16,
   "id": "5a1f06b0",
   "metadata": {},
   "outputs": [
    {
     "data": {
      "text/html": [
       "<div>\n",
       "<style scoped>\n",
       "    .dataframe tbody tr th:only-of-type {\n",
       "        vertical-align: middle;\n",
       "    }\n",
       "\n",
       "    .dataframe tbody tr th {\n",
       "        vertical-align: top;\n",
       "    }\n",
       "\n",
       "    .dataframe thead th {\n",
       "        text-align: right;\n",
       "    }\n",
       "</style>\n",
       "<table border=\"1\" class=\"dataframe\">\n",
       "  <thead>\n",
       "    <tr style=\"text-align: right;\">\n",
       "      <th></th>\n",
       "      <th>Airport ID</th>\n",
       "      <th>Name</th>\n",
       "      <th>City</th>\n",
       "      <th>Country</th>\n",
       "      <th>IATA</th>\n",
       "      <th>ICAO</th>\n",
       "      <th>Latitude</th>\n",
       "      <th>Longitude</th>\n",
       "      <th>Altitude</th>\n",
       "      <th>Timezone</th>\n",
       "      <th>DST</th>\n",
       "      <th>Tz database time zone</th>\n",
       "      <th>Type</th>\n",
       "      <th>Source</th>\n",
       "      <th>Continent</th>\n",
       "      <th>Destination airport ID</th>\n",
       "    </tr>\n",
       "  </thead>\n",
       "  <tbody>\n",
       "    <tr>\n",
       "      <th>71066</th>\n",
       "      <td>11868</td>\n",
       "      <td>Zanesville Municipal Airport</td>\n",
       "      <td>Zanesville</td>\n",
       "      <td>United States</td>\n",
       "      <td>ZZV</td>\n",
       "      <td>KZZV</td>\n",
       "      <td>39.944401</td>\n",
       "      <td>-81.892097</td>\n",
       "      <td>900</td>\n",
       "      <td>\\N</td>\n",
       "      <td>\\N</td>\n",
       "      <td>\\N</td>\n",
       "      <td>airport</td>\n",
       "      <td>OurAirports</td>\n",
       "      <td>North America</td>\n",
       "      <td>NaN</td>\n",
       "    </tr>\n",
       "  </tbody>\n",
       "</table>\n",
       "</div>"
      ],
      "text/plain": [
       "       Airport ID                          Name        City        Country  \\\n",
       "71066       11868  Zanesville Municipal Airport  Zanesville  United States   \n",
       "\n",
       "      IATA  ICAO   Latitude  Longitude  Altitude Timezone DST  \\\n",
       "71066  ZZV  KZZV  39.944401 -81.892097       900       \\N  \\N   \n",
       "\n",
       "      Tz database time zone     Type       Source      Continent  \\\n",
       "71066                    \\N  airport  OurAirports  North America   \n",
       "\n",
       "       Destination airport ID  \n",
       "71066                     NaN  "
      ]
     },
     "execution_count": 16,
     "metadata": {},
     "output_type": "execute_result"
    }
   ],
   "source": [
    "#У меня до этого неправильно считались вылеты и прилёты, поэтому я здесь проверял, сюда можно не обращать внимания\n",
    "#display(took_off.head(5))\n",
    "\n",
    "zzv = landed[landed[\"IATA\"] == 'ZZV']\n",
    "zzv"
   ]
  },
  {
   "cell_type": "code",
   "execution_count": 17,
   "id": "05e83e5d",
   "metadata": {},
   "outputs": [
    {
     "data": {
      "text/html": [
       "<div>\n",
       "<style scoped>\n",
       "    .dataframe tbody tr th:only-of-type {\n",
       "        vertical-align: middle;\n",
       "    }\n",
       "\n",
       "    .dataframe tbody tr th {\n",
       "        vertical-align: top;\n",
       "    }\n",
       "\n",
       "    .dataframe thead th {\n",
       "        text-align: right;\n",
       "    }\n",
       "</style>\n",
       "<table border=\"1\" class=\"dataframe\">\n",
       "  <thead>\n",
       "    <tr style=\"text-align: right;\">\n",
       "      <th></th>\n",
       "      <th>IATA</th>\n",
       "      <th>took-off</th>\n",
       "      <th>landed</th>\n",
       "    </tr>\n",
       "  </thead>\n",
       "  <tbody>\n",
       "    <tr>\n",
       "      <th>0</th>\n",
       "      <td>AAA</td>\n",
       "      <td>0</td>\n",
       "      <td>0</td>\n",
       "    </tr>\n",
       "    <tr>\n",
       "      <th>1</th>\n",
       "      <td>AAC</td>\n",
       "      <td>0</td>\n",
       "      <td>0</td>\n",
       "    </tr>\n",
       "    <tr>\n",
       "      <th>2</th>\n",
       "      <td>AAE</td>\n",
       "      <td>9</td>\n",
       "      <td>9</td>\n",
       "    </tr>\n",
       "    <tr>\n",
       "      <th>3</th>\n",
       "      <td>AAF</td>\n",
       "      <td>0</td>\n",
       "      <td>0</td>\n",
       "    </tr>\n",
       "    <tr>\n",
       "      <th>4</th>\n",
       "      <td>AAH</td>\n",
       "      <td>0</td>\n",
       "      <td>0</td>\n",
       "    </tr>\n",
       "    <tr>\n",
       "      <th>...</th>\n",
       "      <td>...</td>\n",
       "      <td>...</td>\n",
       "      <td>...</td>\n",
       "    </tr>\n",
       "    <tr>\n",
       "      <th>6068</th>\n",
       "      <td>ZYI</td>\n",
       "      <td>15</td>\n",
       "      <td>15</td>\n",
       "    </tr>\n",
       "    <tr>\n",
       "      <th>6069</th>\n",
       "      <td>ZYL</td>\n",
       "      <td>4</td>\n",
       "      <td>6</td>\n",
       "    </tr>\n",
       "    <tr>\n",
       "      <th>6070</th>\n",
       "      <td>ZZU</td>\n",
       "      <td>0</td>\n",
       "      <td>0</td>\n",
       "    </tr>\n",
       "    <tr>\n",
       "      <th>6071</th>\n",
       "      <td>ZZV</td>\n",
       "      <td>0</td>\n",
       "      <td>0</td>\n",
       "    </tr>\n",
       "    <tr>\n",
       "      <th>6072</th>\n",
       "      <td>\\N</td>\n",
       "      <td>176</td>\n",
       "      <td>178</td>\n",
       "    </tr>\n",
       "  </tbody>\n",
       "</table>\n",
       "<p>6073 rows × 3 columns</p>\n",
       "</div>"
      ],
      "text/plain": [
       "     IATA  took-off  landed\n",
       "0     AAA         0       0\n",
       "1     AAC         0       0\n",
       "2     AAE         9       9\n",
       "3     AAF         0       0\n",
       "4     AAH         0       0\n",
       "...   ...       ...     ...\n",
       "6068  ZYI        15      15\n",
       "6069  ZYL         4       6\n",
       "6070  ZZU         0       0\n",
       "6071  ZZV         0       0\n",
       "6072   \\N       176     178\n",
       "\n",
       "[6073 rows x 3 columns]"
      ]
     },
     "execution_count": 17,
     "metadata": {},
     "output_type": "execute_result"
    }
   ],
   "source": [
    "#Создание искомой таблицы, где took_off - количество вылетов, landed - количество прилётов. Мёрджим по коду \n",
    "# аэропортов IATA. Сначала пробовал считать по любому столбцу, но тогда считало все записи, даже если \n",
    "# прилёта/вылета не было, поэтому функцию count запускаем только для ID аэропорта источника или назначения, тк там\n",
    "# есть значения NaN, что значит что вылета/прилёта не было\n",
    "\n",
    "table3 = took_off.groupby('IATA', as_index=False).agg({'Source airport ID':'count'})\\\n",
    "                    .merge(landed.groupby('IATA', as_index=False).agg({'Destination airport ID':'count'}), on='IATA')\\\n",
    "                    .rename(columns = {'Source airport ID':'took-off', 'Destination airport ID':'landed'})\n",
    "\n",
    "table3"
   ]
  },
  {
   "cell_type": "markdown",
   "id": "ac16eddf",
   "metadata": {},
   "source": [
    "# Задание 4\n",
    "\n",
    "Используя в качестве ключа код аэропорта слить данные для отобранного континента и собрать таблицу - страна, название аэропорта, количество взлет/посадок (сумма взлетов и посадок)"
   ]
  },
  {
   "cell_type": "code",
   "execution_count": 18,
   "id": "3cc8245e",
   "metadata": {},
   "outputs": [
    {
     "data": {
      "text/html": [
       "<div>\n",
       "<style scoped>\n",
       "    .dataframe tbody tr th:only-of-type {\n",
       "        vertical-align: middle;\n",
       "    }\n",
       "\n",
       "    .dataframe tbody tr th {\n",
       "        vertical-align: top;\n",
       "    }\n",
       "\n",
       "    .dataframe thead th {\n",
       "        text-align: right;\n",
       "    }\n",
       "</style>\n",
       "<table border=\"1\" class=\"dataframe\">\n",
       "  <thead>\n",
       "    <tr style=\"text-align: right;\">\n",
       "      <th></th>\n",
       "      <th>Country</th>\n",
       "      <th>Name</th>\n",
       "      <th>took-off_landed</th>\n",
       "    </tr>\n",
       "  </thead>\n",
       "  <tbody>\n",
       "    <tr>\n",
       "      <th>0</th>\n",
       "      <td>American Samoa</td>\n",
       "      <td>Fitiuta Airport</td>\n",
       "      <td>0</td>\n",
       "    </tr>\n",
       "    <tr>\n",
       "      <th>1</th>\n",
       "      <td>American Samoa</td>\n",
       "      <td>Pago Pago International Airport</td>\n",
       "      <td>2</td>\n",
       "    </tr>\n",
       "    <tr>\n",
       "      <th>2</th>\n",
       "      <td>Australia</td>\n",
       "      <td>Adelaide International Airport</td>\n",
       "      <td>102</td>\n",
       "    </tr>\n",
       "    <tr>\n",
       "      <th>3</th>\n",
       "      <td>Australia</td>\n",
       "      <td>Adelaide Parafield Airport</td>\n",
       "      <td>354</td>\n",
       "    </tr>\n",
       "    <tr>\n",
       "      <th>4</th>\n",
       "      <td>Australia</td>\n",
       "      <td>Albany Airport</td>\n",
       "      <td>6</td>\n",
       "    </tr>\n",
       "    <tr>\n",
       "      <th>...</th>\n",
       "      <td>...</td>\n",
       "      <td>...</td>\n",
       "      <td>...</td>\n",
       "    </tr>\n",
       "    <tr>\n",
       "      <th>611</th>\n",
       "      <td>Vanuatu</td>\n",
       "      <td>Uléi Airport</td>\n",
       "      <td>5</td>\n",
       "    </tr>\n",
       "    <tr>\n",
       "      <th>612</th>\n",
       "      <td>Vanuatu</td>\n",
       "      <td>Valesdir Airport</td>\n",
       "      <td>2</td>\n",
       "    </tr>\n",
       "    <tr>\n",
       "      <th>613</th>\n",
       "      <td>Vanuatu</td>\n",
       "      <td>Walaha Airport</td>\n",
       "      <td>2</td>\n",
       "    </tr>\n",
       "    <tr>\n",
       "      <th>614</th>\n",
       "      <td>Wallis and Futuna</td>\n",
       "      <td>Hihifo Airport</td>\n",
       "      <td>6</td>\n",
       "    </tr>\n",
       "    <tr>\n",
       "      <th>615</th>\n",
       "      <td>Wallis and Futuna</td>\n",
       "      <td>Pointe Vele Airport</td>\n",
       "      <td>2</td>\n",
       "    </tr>\n",
       "  </tbody>\n",
       "</table>\n",
       "<p>616 rows × 3 columns</p>\n",
       "</div>"
      ],
      "text/plain": [
       "               Country                             Name  took-off_landed\n",
       "0       American Samoa                  Fitiuta Airport                0\n",
       "1       American Samoa  Pago Pago International Airport                2\n",
       "2            Australia   Adelaide International Airport              102\n",
       "3            Australia       Adelaide Parafield Airport              354\n",
       "4            Australia                   Albany Airport                6\n",
       "..                 ...                              ...              ...\n",
       "611            Vanuatu                     Uléi Airport                5\n",
       "612            Vanuatu                 Valesdir Airport                2\n",
       "613            Vanuatu                   Walaha Airport                2\n",
       "614  Wallis and Futuna                   Hihifo Airport                6\n",
       "615  Wallis and Futuna              Pointe Vele Airport                2\n",
       "\n",
       "[616 rows x 3 columns]"
      ]
     },
     "execution_count": 18,
     "metadata": {},
     "output_type": "execute_result"
    }
   ],
   "source": [
    "table4 = df_raw_airport[df_raw_airport['Continent'] == cont_random].merge(table3, how='left', on='IATA')\\\n",
    "                        .groupby(['Country', 'Name'], as_index=False).agg({'took-off': 'sum', 'landed': 'sum'})\n",
    "\n",
    "table4['took-off_landed'] = table4['took-off'] + table4['landed']\n",
    "table4.drop(['took-off', 'landed'], axis=1, inplace=True)\n",
    "\n",
    "table4"
   ]
  },
  {
   "cell_type": "markdown",
   "id": "c7fed1c4",
   "metadata": {},
   "source": [
    "# Задание 5\n",
    "\n",
    "1. Найти коды аэропортов для которых нет взлет/посадок в таблице аэропортов.\n",
    "2. Найти коды аэропортов для которых нет названий в таблице связей аэропортов."
   ]
  },
  {
   "cell_type": "code",
   "execution_count": 19,
   "id": "74af05d8",
   "metadata": {},
   "outputs": [],
   "source": [
    "# Задание 5.1\n",
    "# Смёрджим к табличке аэропортов колонку ID аэропорта вылета/прилёта и авиакомпании (где нет вылета, будет пусто)\n",
    "\n",
    "took_off_empty = df_raw_airport.merge(df_raw_routers[['Source airport ID', 'Airline']], left_on='Airport ID', \n",
    "                                    right_on='Source airport ID', how='left')\n",
    "\n",
    "landed_empty = df_raw_airport.merge(df_raw_routers[['Destination airport ID', 'Airline']], left_on='Airport ID', \n",
    "                                    right_on='Destination airport ID', how='left')\n",
    "\n"
   ]
  },
  {
   "cell_type": "code",
   "execution_count": 20,
   "id": "e263075d",
   "metadata": {},
   "outputs": [
    {
     "data": {
      "text/html": [
       "<div>\n",
       "<style scoped>\n",
       "    .dataframe tbody tr th:only-of-type {\n",
       "        vertical-align: middle;\n",
       "    }\n",
       "\n",
       "    .dataframe tbody tr th {\n",
       "        vertical-align: top;\n",
       "    }\n",
       "\n",
       "    .dataframe thead th {\n",
       "        text-align: right;\n",
       "    }\n",
       "</style>\n",
       "<table border=\"1\" class=\"dataframe\">\n",
       "  <thead>\n",
       "    <tr style=\"text-align: right;\">\n",
       "      <th></th>\n",
       "      <th>Airport ID</th>\n",
       "      <th>Name</th>\n",
       "      <th>City</th>\n",
       "      <th>Country</th>\n",
       "      <th>IATA</th>\n",
       "      <th>ICAO</th>\n",
       "      <th>Latitude</th>\n",
       "      <th>Longitude</th>\n",
       "      <th>Altitude</th>\n",
       "      <th>Timezone</th>\n",
       "      <th>DST</th>\n",
       "      <th>Tz database time zone</th>\n",
       "      <th>Type</th>\n",
       "      <th>Source</th>\n",
       "      <th>Continent</th>\n",
       "      <th>Source airport ID</th>\n",
       "      <th>Airline</th>\n",
       "    </tr>\n",
       "  </thead>\n",
       "  <tbody>\n",
       "    <tr>\n",
       "      <th>0</th>\n",
       "      <td>1</td>\n",
       "      <td>Goroka Airport</td>\n",
       "      <td>Goroka</td>\n",
       "      <td>Papua New Guinea</td>\n",
       "      <td>GKA</td>\n",
       "      <td>AYGA</td>\n",
       "      <td>-6.08169</td>\n",
       "      <td>145.391998</td>\n",
       "      <td>5282</td>\n",
       "      <td>10</td>\n",
       "      <td>U</td>\n",
       "      <td>Pacific/Port_Moresby</td>\n",
       "      <td>airport</td>\n",
       "      <td>OurAirports</td>\n",
       "      <td>Australia</td>\n",
       "      <td>1.0</td>\n",
       "      <td>CG</td>\n",
       "    </tr>\n",
       "    <tr>\n",
       "      <th>1</th>\n",
       "      <td>1</td>\n",
       "      <td>Goroka Airport</td>\n",
       "      <td>Goroka</td>\n",
       "      <td>Papua New Guinea</td>\n",
       "      <td>GKA</td>\n",
       "      <td>AYGA</td>\n",
       "      <td>-6.08169</td>\n",
       "      <td>145.391998</td>\n",
       "      <td>5282</td>\n",
       "      <td>10</td>\n",
       "      <td>U</td>\n",
       "      <td>Pacific/Port_Moresby</td>\n",
       "      <td>airport</td>\n",
       "      <td>OurAirports</td>\n",
       "      <td>Australia</td>\n",
       "      <td>1.0</td>\n",
       "      <td>CG</td>\n",
       "    </tr>\n",
       "  </tbody>\n",
       "</table>\n",
       "</div>"
      ],
      "text/plain": [
       "   Airport ID            Name    City           Country IATA  ICAO  Latitude  \\\n",
       "0           1  Goroka Airport  Goroka  Papua New Guinea  GKA  AYGA  -6.08169   \n",
       "1           1  Goroka Airport  Goroka  Papua New Guinea  GKA  AYGA  -6.08169   \n",
       "\n",
       "    Longitude  Altitude Timezone DST Tz database time zone     Type  \\\n",
       "0  145.391998      5282       10   U  Pacific/Port_Moresby  airport   \n",
       "1  145.391998      5282       10   U  Pacific/Port_Moresby  airport   \n",
       "\n",
       "        Source  Continent  Source airport ID Airline  \n",
       "0  OurAirports  Australia                1.0      CG  \n",
       "1  OurAirports  Australia                1.0      CG  "
      ]
     },
     "execution_count": 20,
     "metadata": {},
     "output_type": "execute_result"
    }
   ],
   "source": [
    "took_off_empty.head(2)"
   ]
  },
  {
   "cell_type": "code",
   "execution_count": 21,
   "id": "805f1dee",
   "metadata": {},
   "outputs": [
    {
     "data": {
      "text/html": [
       "<div>\n",
       "<style scoped>\n",
       "    .dataframe tbody tr th:only-of-type {\n",
       "        vertical-align: middle;\n",
       "    }\n",
       "\n",
       "    .dataframe tbody tr th {\n",
       "        vertical-align: top;\n",
       "    }\n",
       "\n",
       "    .dataframe thead th {\n",
       "        text-align: right;\n",
       "    }\n",
       "</style>\n",
       "<table border=\"1\" class=\"dataframe\">\n",
       "  <thead>\n",
       "    <tr style=\"text-align: right;\">\n",
       "      <th></th>\n",
       "      <th>Airport ID</th>\n",
       "      <th>Name</th>\n",
       "      <th>City</th>\n",
       "      <th>Country</th>\n",
       "      <th>IATA</th>\n",
       "      <th>ICAO</th>\n",
       "      <th>Latitude</th>\n",
       "      <th>Longitude</th>\n",
       "      <th>Altitude</th>\n",
       "      <th>Timezone</th>\n",
       "      <th>DST</th>\n",
       "      <th>Tz database time zone</th>\n",
       "      <th>Type</th>\n",
       "      <th>Source</th>\n",
       "      <th>Continent</th>\n",
       "      <th>Destination airport ID</th>\n",
       "      <th>Airline</th>\n",
       "    </tr>\n",
       "  </thead>\n",
       "  <tbody>\n",
       "    <tr>\n",
       "      <th>0</th>\n",
       "      <td>1</td>\n",
       "      <td>Goroka Airport</td>\n",
       "      <td>Goroka</td>\n",
       "      <td>Papua New Guinea</td>\n",
       "      <td>GKA</td>\n",
       "      <td>AYGA</td>\n",
       "      <td>-6.08169</td>\n",
       "      <td>145.391998</td>\n",
       "      <td>5282</td>\n",
       "      <td>10</td>\n",
       "      <td>U</td>\n",
       "      <td>Pacific/Port_Moresby</td>\n",
       "      <td>airport</td>\n",
       "      <td>OurAirports</td>\n",
       "      <td>Australia</td>\n",
       "      <td>1.0</td>\n",
       "      <td>CG</td>\n",
       "    </tr>\n",
       "    <tr>\n",
       "      <th>1</th>\n",
       "      <td>1</td>\n",
       "      <td>Goroka Airport</td>\n",
       "      <td>Goroka</td>\n",
       "      <td>Papua New Guinea</td>\n",
       "      <td>GKA</td>\n",
       "      <td>AYGA</td>\n",
       "      <td>-6.08169</td>\n",
       "      <td>145.391998</td>\n",
       "      <td>5282</td>\n",
       "      <td>10</td>\n",
       "      <td>U</td>\n",
       "      <td>Pacific/Port_Moresby</td>\n",
       "      <td>airport</td>\n",
       "      <td>OurAirports</td>\n",
       "      <td>Australia</td>\n",
       "      <td>1.0</td>\n",
       "      <td>CG</td>\n",
       "    </tr>\n",
       "  </tbody>\n",
       "</table>\n",
       "</div>"
      ],
      "text/plain": [
       "   Airport ID            Name    City           Country IATA  ICAO  Latitude  \\\n",
       "0           1  Goroka Airport  Goroka  Papua New Guinea  GKA  AYGA  -6.08169   \n",
       "1           1  Goroka Airport  Goroka  Papua New Guinea  GKA  AYGA  -6.08169   \n",
       "\n",
       "    Longitude  Altitude Timezone DST Tz database time zone     Type  \\\n",
       "0  145.391998      5282       10   U  Pacific/Port_Moresby  airport   \n",
       "1  145.391998      5282       10   U  Pacific/Port_Moresby  airport   \n",
       "\n",
       "        Source  Continent  Destination airport ID Airline  \n",
       "0  OurAirports  Australia                     1.0      CG  \n",
       "1  OurAirports  Australia                     1.0      CG  "
      ]
     },
     "execution_count": 21,
     "metadata": {},
     "output_type": "execute_result"
    }
   ],
   "source": [
    "landed_empty.head(2)"
   ]
  },
  {
   "cell_type": "code",
   "execution_count": 22,
   "id": "47858a86",
   "metadata": {},
   "outputs": [],
   "source": [
    "took_off_landed_empty = set(took_off_empty[pd.isnull(took_off_empty['Airline'])]['IATA'].unique())\\\n",
    "    & set(landed_empty[pd.isnull(landed_empty['Airline'])]['IATA'].unique()) "
   ]
  },
  {
   "cell_type": "code",
   "execution_count": 23,
   "id": "baaa379e",
   "metadata": {
    "scrolled": true
   },
   "outputs": [
    {
     "data": {
      "text/plain": [
       "{'BXG',\n",
       " 'DRA',\n",
       " 'FRG',\n",
       " 'IDP',\n",
       " 'HSZ',\n",
       " 'MQU',\n",
       " 'CLP',\n",
       " 'SGQ',\n",
       " 'NIS',\n",
       " 'MVQ',\n",
       " 'MCJ',\n",
       " 'HHZ',\n",
       " 'POE',\n",
       " 'LGH',\n",
       " 'PCF',\n",
       " 'IEJ',\n",
       " 'HLE',\n",
       " 'WUN',\n",
       " 'MGC',\n",
       " 'GOB',\n",
       " 'STP',\n",
       " 'CYI',\n",
       " 'DBB',\n",
       " 'WIO',\n",
       " 'BSU',\n",
       " 'BNU',\n",
       " 'JSK',\n",
       " 'LVK',\n",
       " 'PCD',\n",
       " 'HUQ',\n",
       " 'POX',\n",
       " 'YRO',\n",
       " 'CXP',\n",
       " 'YVG',\n",
       " 'AVB',\n",
       " 'ADM',\n",
       " 'HSM',\n",
       " 'PHN',\n",
       " 'CCA',\n",
       " 'ELY',\n",
       " 'VQQ',\n",
       " 'LNL',\n",
       " 'DAA',\n",
       " 'TCH',\n",
       " 'YMH',\n",
       " 'NNA',\n",
       " 'HAR',\n",
       " 'STB',\n",
       " 'NSE',\n",
       " 'FAC',\n",
       " 'UAR',\n",
       " 'WTS',\n",
       " 'SHY',\n",
       " 'AEH',\n",
       " 'KDL',\n",
       " 'IYK',\n",
       " 'PTZ',\n",
       " 'TGN',\n",
       " 'BCT',\n",
       " 'KAU',\n",
       " 'MFQ',\n",
       " 'BPE',\n",
       " 'AEU',\n",
       " 'CCL',\n",
       " 'ANP',\n",
       " 'ERG',\n",
       " 'YQI',\n",
       " 'MNZ',\n",
       " 'AMN',\n",
       " 'UGU',\n",
       " 'LMR',\n",
       " 'NGF',\n",
       " 'WOS',\n",
       " 'KLZ',\n",
       " 'SFK',\n",
       " 'CNR',\n",
       " 'GLZ',\n",
       " 'MXN',\n",
       " 'AKR',\n",
       " 'ZMM',\n",
       " 'POT',\n",
       " 'KDT',\n",
       " 'SEY',\n",
       " 'KFE',\n",
       " 'VCD',\n",
       " 'CKT',\n",
       " 'YAI',\n",
       " 'IRD',\n",
       " 'VOK',\n",
       " 'SXN',\n",
       " 'VLR',\n",
       " 'LFM',\n",
       " 'NZJ',\n",
       " 'MGY',\n",
       " 'SNS',\n",
       " 'YKH',\n",
       " 'HYV',\n",
       " 'KGG',\n",
       " 'ALX',\n",
       " 'GQQ',\n",
       " 'MVV',\n",
       " 'CFG',\n",
       " 'DTI',\n",
       " 'YSH',\n",
       " 'RHP',\n",
       " 'LIQ',\n",
       " 'ORP',\n",
       " 'YVA',\n",
       " 'BTL',\n",
       " 'NVS',\n",
       " 'TXG',\n",
       " 'YQV',\n",
       " 'WAQ',\n",
       " 'RMY',\n",
       " 'MIU',\n",
       " 'AYO',\n",
       " 'ATO',\n",
       " 'AYK',\n",
       " 'BJW',\n",
       " 'XSI',\n",
       " 'LID',\n",
       " 'RTC',\n",
       " 'ZZV',\n",
       " 'SPF',\n",
       " 'SSC',\n",
       " 'HMG',\n",
       " 'CBD',\n",
       " 'PUZ',\n",
       " 'XAU',\n",
       " 'ECH',\n",
       " 'QRR',\n",
       " 'GAH',\n",
       " 'GUF',\n",
       " 'BZU',\n",
       " 'NMS',\n",
       " 'YZD',\n",
       " 'HWD',\n",
       " 'CLU',\n",
       " 'WMH',\n",
       " 'YZX',\n",
       " 'SZY',\n",
       " 'AKA',\n",
       " 'LYX',\n",
       " 'XIQ',\n",
       " 'AEI',\n",
       " 'ZMG',\n",
       " 'RRR',\n",
       " 'YCK',\n",
       " 'NGI',\n",
       " 'VTB',\n",
       " 'DOB',\n",
       " 'WPR',\n",
       " 'MYL',\n",
       " 'ASH',\n",
       " 'ARE',\n",
       " 'IFL',\n",
       " 'TNH',\n",
       " 'KPS',\n",
       " 'SOZ',\n",
       " 'TKA',\n",
       " 'LPC',\n",
       " 'AAF',\n",
       " 'INK',\n",
       " 'BUG',\n",
       " 'MEU',\n",
       " 'MCC',\n",
       " 'CGJ',\n",
       " 'PTK',\n",
       " 'BEM',\n",
       " 'BQJ',\n",
       " 'TNF',\n",
       " 'FCM',\n",
       " 'MNH',\n",
       " 'TOJ',\n",
       " 'QPD',\n",
       " 'ACD',\n",
       " 'ASI',\n",
       " 'GEC',\n",
       " 'PRZ',\n",
       " 'KDX',\n",
       " 'ATJ',\n",
       " 'EIE',\n",
       " 'YVE',\n",
       " 'BEV',\n",
       " 'ZNA',\n",
       " 'MYE',\n",
       " 'RBK',\n",
       " 'BBT',\n",
       " 'NLI',\n",
       " 'DLK',\n",
       " 'CYT',\n",
       " 'BNO',\n",
       " 'MSH',\n",
       " 'EKA',\n",
       " 'HGE',\n",
       " 'LHK',\n",
       " 'YZH',\n",
       " 'MOJ',\n",
       " 'CDE',\n",
       " 'AUF',\n",
       " 'CSV',\n",
       " 'RME',\n",
       " 'SFQ',\n",
       " 'GLU',\n",
       " 'SIS',\n",
       " 'KMO',\n",
       " 'LCQ',\n",
       " 'BDR',\n",
       " 'DBN',\n",
       " 'IRB',\n",
       " 'HLI',\n",
       " 'YDT',\n",
       " 'GWY',\n",
       " 'DYS',\n",
       " 'ADJ',\n",
       " 'CWI',\n",
       " 'KRA',\n",
       " 'QLA',\n",
       " 'FFD',\n",
       " 'PBN',\n",
       " 'GSJ',\n",
       " 'DAN',\n",
       " 'BXY',\n",
       " 'EDD',\n",
       " 'HII',\n",
       " 'VDR',\n",
       " 'BLH',\n",
       " 'PLP',\n",
       " 'NPR',\n",
       " 'XPL',\n",
       " 'RMU',\n",
       " 'BCA',\n",
       " 'BJY',\n",
       " 'DSS',\n",
       " 'LOU',\n",
       " 'UGA',\n",
       " 'CXL',\n",
       " 'NBW',\n",
       " 'DOG',\n",
       " 'SIK',\n",
       " 'GAY',\n",
       " 'OKM',\n",
       " 'YWS',\n",
       " 'MBW',\n",
       " 'CLN',\n",
       " 'KBN',\n",
       " 'NVP',\n",
       " 'WAF',\n",
       " 'TCM',\n",
       " 'IXY',\n",
       " 'TZL',\n",
       " 'PRU',\n",
       " 'BMM',\n",
       " 'KAI',\n",
       " 'TPH',\n",
       " 'TTH',\n",
       " 'FOD',\n",
       " 'UCK',\n",
       " 'SAY',\n",
       " 'GYU',\n",
       " 'ERD',\n",
       " 'JMO',\n",
       " 'JKR',\n",
       " 'FDO',\n",
       " 'UTC',\n",
       " 'TMB',\n",
       " 'BMT',\n",
       " 'IHR',\n",
       " 'YQN',\n",
       " 'MPV',\n",
       " 'GYM',\n",
       " 'JCR',\n",
       " 'CRZ',\n",
       " 'BJC',\n",
       " 'RBE',\n",
       " 'BNJ',\n",
       " 'LCJ',\n",
       " 'IRI',\n",
       " 'DCU',\n",
       " 'MGL',\n",
       " 'VRB',\n",
       " 'BEO',\n",
       " 'NZL',\n",
       " 'RER',\n",
       " 'RNT',\n",
       " 'SEU',\n",
       " 'MNX',\n",
       " 'FRZ',\n",
       " 'AAZ',\n",
       " 'FGI',\n",
       " 'SQA',\n",
       " 'ODB',\n",
       " 'ESG',\n",
       " 'SHO',\n",
       " 'MAE',\n",
       " 'MNM',\n",
       " 'TND',\n",
       " 'CLS',\n",
       " 'SHT',\n",
       " 'YRM',\n",
       " 'IQA',\n",
       " 'YGG',\n",
       " 'BFT',\n",
       " 'CBU',\n",
       " 'RGT',\n",
       " 'LSV',\n",
       " 'ALJ',\n",
       " 'TVA',\n",
       " 'INQ',\n",
       " 'FYV',\n",
       " 'EFG',\n",
       " 'ECG',\n",
       " 'RVY',\n",
       " 'ADH',\n",
       " 'LAF',\n",
       " 'XME',\n",
       " 'CBG',\n",
       " 'LRU',\n",
       " 'DKS',\n",
       " 'BJP',\n",
       " 'AMI',\n",
       " 'NEU',\n",
       " 'TCE',\n",
       " 'GWO',\n",
       " 'RCL',\n",
       " 'CVO',\n",
       " 'JAU',\n",
       " 'TCL',\n",
       " 'LFK',\n",
       " 'DAM',\n",
       " 'LEY',\n",
       " 'AMT',\n",
       " 'WTB',\n",
       " 'LWC',\n",
       " 'SST',\n",
       " 'YOO',\n",
       " 'NMB',\n",
       " 'ADI',\n",
       " 'UTO',\n",
       " 'EPA',\n",
       " 'WVK',\n",
       " 'PKT',\n",
       " 'JAM',\n",
       " 'LVP',\n",
       " 'CYW',\n",
       " 'GCH',\n",
       " 'PZE',\n",
       " 'BYR',\n",
       " 'CHR',\n",
       " 'NOD',\n",
       " 'TTL',\n",
       " 'MYP',\n",
       " 'MQC',\n",
       " 'OKO',\n",
       " 'PSZ',\n",
       " 'JVA',\n",
       " 'SWP',\n",
       " 'KJH',\n",
       " 'PEQ',\n",
       " 'SBG',\n",
       " 'OKD',\n",
       " 'SOT',\n",
       " 'JAD',\n",
       " 'LEL',\n",
       " 'KHE',\n",
       " 'ASN',\n",
       " 'LNO',\n",
       " 'NOG',\n",
       " 'OTR',\n",
       " 'AFW',\n",
       " 'OKU',\n",
       " 'AVO',\n",
       " 'BAU',\n",
       " 'DUC',\n",
       " 'HUE',\n",
       " 'BAG',\n",
       " 'TBO',\n",
       " 'LBT',\n",
       " 'SOO',\n",
       " 'IXT',\n",
       " 'QLT',\n",
       " 'LYM',\n",
       " 'ISO',\n",
       " 'NLC',\n",
       " 'RMS',\n",
       " 'TKV',\n",
       " 'PAO',\n",
       " 'RCY',\n",
       " 'HTV',\n",
       " 'EDW',\n",
       " 'PPE',\n",
       " 'LBY',\n",
       " 'OZR',\n",
       " 'BOA',\n",
       " 'YNM',\n",
       " 'RPB',\n",
       " 'NRB',\n",
       " 'JVL',\n",
       " 'QHR',\n",
       " 'AVK',\n",
       " 'IOW',\n",
       " 'BJO',\n",
       " 'WPB',\n",
       " 'YPG',\n",
       " 'VTM',\n",
       " 'AOL',\n",
       " 'LDX',\n",
       " 'OLL',\n",
       " 'GYL',\n",
       " 'CQD',\n",
       " 'SWD',\n",
       " 'CPQ',\n",
       " 'SSI',\n",
       " 'SQD',\n",
       " 'HEI',\n",
       " 'BGZ',\n",
       " 'OSN',\n",
       " 'RTS',\n",
       " 'MBD',\n",
       " 'YHA',\n",
       " 'VIR',\n",
       " 'DRT',\n",
       " 'KHZ',\n",
       " 'ESE',\n",
       " 'HHP',\n",
       " 'OHA',\n",
       " 'PAM',\n",
       " 'LDM',\n",
       " 'LSZ',\n",
       " 'HTL',\n",
       " 'LFI',\n",
       " 'KIO',\n",
       " 'CMF',\n",
       " 'CYR',\n",
       " 'SEB',\n",
       " 'YDL',\n",
       " 'WTA',\n",
       " 'XYA',\n",
       " 'SYA',\n",
       " 'SWS',\n",
       " 'YXD',\n",
       " 'HHE',\n",
       " 'GBG',\n",
       " 'BGL',\n",
       " 'BKD',\n",
       " 'OCM',\n",
       " 'MZJ',\n",
       " 'LFB',\n",
       " 'GUZ',\n",
       " 'MMT',\n",
       " 'TLU',\n",
       " 'AGE',\n",
       " 'SJY',\n",
       " 'PKG',\n",
       " 'CVS',\n",
       " 'EME',\n",
       " 'YBE',\n",
       " 'GBK',\n",
       " 'FLB',\n",
       " 'GHF',\n",
       " 'YSD',\n",
       " 'CVQ',\n",
       " 'EUF',\n",
       " 'OLM',\n",
       " 'POB',\n",
       " 'BYH',\n",
       " 'QND',\n",
       " 'MVS',\n",
       " 'AFS',\n",
       " 'VTN',\n",
       " 'BKH',\n",
       " 'YJN',\n",
       " 'VRU',\n",
       " 'MWK',\n",
       " 'QLP',\n",
       " 'IGL',\n",
       " 'SNJ',\n",
       " 'UTA',\n",
       " 'MPK',\n",
       " 'YZY',\n",
       " 'CMK',\n",
       " 'ESF',\n",
       " 'NNR',\n",
       " 'YKO',\n",
       " 'PCN',\n",
       " 'EBD',\n",
       " 'KZF',\n",
       " 'SNZ',\n",
       " 'DCF',\n",
       " 'PUR',\n",
       " 'QSZ',\n",
       " 'YOD',\n",
       " 'YYW',\n",
       " 'FST',\n",
       " 'TCS',\n",
       " 'BMB',\n",
       " 'PMD',\n",
       " 'IKK',\n",
       " 'NCO',\n",
       " 'BBC',\n",
       " 'WUU',\n",
       " 'COG',\n",
       " 'TBR',\n",
       " 'BFO',\n",
       " 'NON',\n",
       " 'BEX',\n",
       " 'MWL',\n",
       " 'JRN',\n",
       " 'FBD',\n",
       " 'OSK',\n",
       " 'WST',\n",
       " 'EOZ',\n",
       " 'UPL',\n",
       " 'PUD',\n",
       " 'HTR',\n",
       " 'RDS',\n",
       " 'MRR',\n",
       " 'BEF',\n",
       " 'MKZ',\n",
       " 'ESR',\n",
       " 'MOA',\n",
       " 'VIY',\n",
       " 'NYW',\n",
       " 'YEU',\n",
       " 'OKK',\n",
       " 'BGX',\n",
       " 'WTN',\n",
       " 'FCN',\n",
       " 'CKI',\n",
       " 'DUM',\n",
       " 'IMM',\n",
       " 'LPG',\n",
       " 'FIG',\n",
       " 'EHM',\n",
       " 'OKE',\n",
       " 'JMJ',\n",
       " 'OMB',\n",
       " 'VHY',\n",
       " 'SUU',\n",
       " 'HUL',\n",
       " 'SWQ',\n",
       " 'BFX',\n",
       " 'SLJ',\n",
       " 'NCG',\n",
       " 'NXX',\n",
       " 'YIP',\n",
       " 'DTU',\n",
       " 'XTL',\n",
       " 'WHF',\n",
       " 'TRA',\n",
       " 'SKY',\n",
       " 'NKX',\n",
       " 'YCT',\n",
       " 'MSE',\n",
       " 'DZO',\n",
       " 'INT',\n",
       " 'ENW',\n",
       " 'BWW',\n",
       " 'HZK',\n",
       " 'SRT',\n",
       " 'HRS',\n",
       " 'SXV',\n",
       " 'RBB',\n",
       " 'KRQ',\n",
       " 'BMO',\n",
       " 'TGT',\n",
       " 'BOX',\n",
       " 'HXX',\n",
       " 'GPO',\n",
       " 'MZP',\n",
       " 'CAR',\n",
       " 'TGK',\n",
       " 'FTI',\n",
       " 'TED',\n",
       " 'IGT',\n",
       " 'NTR',\n",
       " 'WJF',\n",
       " 'GJL',\n",
       " 'TIE',\n",
       " 'WVN',\n",
       " 'OTI',\n",
       " 'VCR',\n",
       " 'APK',\n",
       " 'KFG',\n",
       " 'MOG',\n",
       " 'ABB',\n",
       " 'END',\n",
       " 'TTB',\n",
       " 'ERH',\n",
       " 'CES',\n",
       " 'BBL',\n",
       " 'URO',\n",
       " 'PGH',\n",
       " 'BUP',\n",
       " 'TAR',\n",
       " 'GLS',\n",
       " 'ZIN',\n",
       " 'BYJ',\n",
       " 'ORL',\n",
       " 'SFD',\n",
       " 'YLK',\n",
       " 'GFO',\n",
       " 'ENV',\n",
       " 'RBD',\n",
       " 'YSG',\n",
       " 'NBG',\n",
       " 'KPC',\n",
       " 'ALI',\n",
       " 'WFK',\n",
       " 'MFG',\n",
       " 'CET',\n",
       " 'IMK',\n",
       " 'QUY',\n",
       " 'PRB',\n",
       " 'ACP',\n",
       " 'CUD',\n",
       " 'YKZ',\n",
       " 'OGN',\n",
       " 'AMV',\n",
       " 'ZIC',\n",
       " 'AVR',\n",
       " 'TDL',\n",
       " 'FNB',\n",
       " 'RWN',\n",
       " 'BOU',\n",
       " 'IAB',\n",
       " 'VLK',\n",
       " 'EMP',\n",
       " 'OSH',\n",
       " 'MOE',\n",
       " 'LSF',\n",
       " 'OOM',\n",
       " 'LKZ',\n",
       " 'GAQ',\n",
       " 'NDC',\n",
       " 'KYI',\n",
       " 'LDK',\n",
       " 'CIW',\n",
       " 'TBI',\n",
       " 'PSH',\n",
       " 'PDU',\n",
       " 'RAL',\n",
       " 'SMV',\n",
       " 'JAE',\n",
       " 'TIN',\n",
       " 'CJF',\n",
       " 'YZW',\n",
       " 'QNJ',\n",
       " 'DTN',\n",
       " 'YCC',\n",
       " 'GUU',\n",
       " 'GXG',\n",
       " 'TCN',\n",
       " 'BPF',\n",
       " 'URD',\n",
       " 'YGQ',\n",
       " 'NZA',\n",
       " 'ILF',\n",
       " 'HYR',\n",
       " 'DOD',\n",
       " 'APG',\n",
       " 'MHX',\n",
       " 'PSL',\n",
       " 'CTH',\n",
       " 'GPZ',\n",
       " 'MHZ',\n",
       " 'BLN',\n",
       " 'ORW',\n",
       " 'HCN',\n",
       " 'EDM',\n",
       " 'MIE',\n",
       " 'PNB',\n",
       " 'MGJ',\n",
       " 'YGO',\n",
       " 'GKL',\n",
       " 'VLP',\n",
       " 'FCB',\n",
       " 'PCS',\n",
       " 'ONK',\n",
       " 'CRQ',\n",
       " 'YBV',\n",
       " 'AST',\n",
       " 'RHT',\n",
       " 'TQS',\n",
       " 'LLV',\n",
       " 'WKR',\n",
       " 'RUK',\n",
       " 'KUG',\n",
       " 'KRI',\n",
       " 'SUP',\n",
       " 'NQA',\n",
       " 'KTU',\n",
       " 'GLW',\n",
       " 'PNC',\n",
       " 'EBG',\n",
       " 'CFO',\n",
       " 'SGV',\n",
       " 'QKX',\n",
       " 'YQW',\n",
       " 'BWH',\n",
       " 'ULU',\n",
       " 'IBB',\n",
       " 'AEG',\n",
       " 'YGM',\n",
       " 'TEZ',\n",
       " 'EKI',\n",
       " 'RJB',\n",
       " 'LBZ',\n",
       " 'SPA',\n",
       " 'MEY',\n",
       " 'KGW',\n",
       " 'KDC',\n",
       " 'SBK',\n",
       " 'LRA',\n",
       " 'ILZ',\n",
       " 'OFF',\n",
       " 'MTP',\n",
       " 'UHE',\n",
       " 'ZIX',\n",
       " 'SSZ',\n",
       " 'BHN',\n",
       " 'HHI',\n",
       " 'TBH',\n",
       " 'SZT',\n",
       " 'IDY',\n",
       " 'CBL',\n",
       " 'CEQ',\n",
       " 'TTD',\n",
       " 'BKB',\n",
       " 'RBX',\n",
       " 'UGN',\n",
       " 'XOG',\n",
       " 'AAO',\n",
       " 'OUK',\n",
       " 'BYF',\n",
       " 'OBF',\n",
       " 'IWS',\n",
       " 'KSS',\n",
       " 'STA',\n",
       " 'RDG',\n",
       " 'MHP',\n",
       " 'CDS',\n",
       " 'TIX',\n",
       " 'DKK',\n",
       " 'TSB',\n",
       " 'AVX',\n",
       " 'ZFD',\n",
       " 'NUW',\n",
       " 'TPJ',\n",
       " 'CWJ',\n",
       " 'NMT',\n",
       " 'LBI',\n",
       " 'HMJ',\n",
       " 'ZJI',\n",
       " 'LYN',\n",
       " 'MIP',\n",
       " 'MSC',\n",
       " 'RSS',\n",
       " 'YSL',\n",
       " 'TWZ',\n",
       " 'TGA',\n",
       " 'COJ',\n",
       " 'MFA',\n",
       " 'CIS',\n",
       " 'DET',\n",
       " 'LCC',\n",
       " 'FSS',\n",
       " 'MXI',\n",
       " 'VGT',\n",
       " 'BCU',\n",
       " 'YSU',\n",
       " 'HBG',\n",
       " 'QYD',\n",
       " 'SMO',\n",
       " 'RIJ',\n",
       " 'MNB',\n",
       " 'GSQ',\n",
       " 'ANQ',\n",
       " 'BTC',\n",
       " 'BBP',\n",
       " 'SQZ',\n",
       " 'GER',\n",
       " 'ATR',\n",
       " 'TKQ',\n",
       " 'CVC',\n",
       " 'FFA',\n",
       " 'JRF',\n",
       " 'CRE',\n",
       " 'CDU',\n",
       " 'VIT',\n",
       " 'TIW',\n",
       " 'SKV',\n",
       " 'WCH',\n",
       " 'ONO',\n",
       " 'ELB',\n",
       " 'CMJ',\n",
       " 'SUY',\n",
       " 'SKA',\n",
       " 'GTN',\n",
       " 'TRQ',\n",
       " 'HLT',\n",
       " 'YRJ',\n",
       " 'TCC',\n",
       " 'LOV',\n",
       " 'XQC',\n",
       " 'PIO',\n",
       " 'SCH',\n",
       " 'BJH',\n",
       " 'MBH',\n",
       " 'TJS',\n",
       " 'SRH',\n",
       " 'PSX',\n",
       " 'GFY',\n",
       " 'WDS',\n",
       " 'FIK',\n",
       " 'MUS',\n",
       " 'DTD',\n",
       " 'YXZ',\n",
       " 'CYA',\n",
       " 'NAA',\n",
       " 'ZIS',\n",
       " 'BSX',\n",
       " 'BQT',\n",
       " 'BZA',\n",
       " 'BEC',\n",
       " 'SGZ',\n",
       " 'PBF',\n",
       " 'GHU',\n",
       " 'BBX',\n",
       " 'RRK',\n",
       " 'SPG',\n",
       " 'CTY',\n",
       " 'CKV',\n",
       " 'PTM',\n",
       " 'FBE',\n",
       " 'NCA',\n",
       " 'BZZ',\n",
       " 'BMG',\n",
       " 'VSG',\n",
       " 'HLF',\n",
       " 'ROZ',\n",
       " 'BYT',\n",
       " 'MRB',\n",
       " 'TPL',\n",
       " 'BUU',\n",
       " 'AKC',\n",
       " 'MMD',\n",
       " 'TYL',\n",
       " 'CFD',\n",
       " 'RKO',\n",
       " 'HUT',\n",
       " 'AND',\n",
       " 'RCA',\n",
       " 'TDG',\n",
       " 'GSI',\n",
       " 'TFL',\n",
       " 'DUE',\n",
       " 'RAC',\n",
       " 'CER',\n",
       " 'ROD',\n",
       " 'YZU',\n",
       " 'XJD',\n",
       " 'QQT',\n",
       " 'BMP',\n",
       " 'SGX',\n",
       " 'INO',\n",
       " 'UZR',\n",
       " 'OLJ',\n",
       " 'YZE',\n",
       " 'RNE',\n",
       " 'GIF',\n",
       " 'NKW',\n",
       " 'BUY',\n",
       " 'HUA',\n",
       " 'NZY',\n",
       " 'CRV',\n",
       " 'JYR',\n",
       " 'XJM',\n",
       " 'QIG',\n",
       " 'LEK',\n",
       " 'YRQ',\n",
       " 'TDS',\n",
       " 'CKL',\n",
       " 'WPU',\n",
       " 'MZK',\n",
       " 'YCE',\n",
       " 'PIM',\n",
       " 'KGJ',\n",
       " 'DMA',\n",
       " 'PYK',\n",
       " 'YLT',\n",
       " 'LOO',\n",
       " 'SDB',\n",
       " 'WKK',\n",
       " 'AJK',\n",
       " 'UTI',\n",
       " 'ANE',\n",
       " 'APC',\n",
       " 'XAB',\n",
       " 'COZ',\n",
       " 'PKO',\n",
       " 'VPN',\n",
       " 'ZCN',\n",
       " 'MHA',\n",
       " 'XVS',\n",
       " 'PWA',\n",
       " 'JAG',\n",
       " 'VRK',\n",
       " 'SWC',\n",
       " 'BZK',\n",
       " 'BOW',\n",
       " 'KQH',\n",
       " 'RKP',\n",
       " 'WMP',\n",
       " 'PWT',\n",
       " 'BXN',\n",
       " 'SYS',\n",
       " 'PPM',\n",
       " 'NRD',\n",
       " 'NCS',\n",
       " 'MBO',\n",
       " 'WSD',\n",
       " 'LIY',\n",
       " 'PNV',\n",
       " 'NIG',\n",
       " 'CEW',\n",
       " 'ZFA',\n",
       " 'YTD',\n",
       " 'NKB',\n",
       " 'PSY',\n",
       " 'HDH',\n",
       " 'PRV',\n",
       " 'LGU',\n",
       " 'MRN',\n",
       " 'ITP',\n",
       " 'QCY',\n",
       " 'MRK',\n",
       " 'LME',\n",
       " 'ILU',\n",
       " 'BNM',\n",
       " 'MNC',\n",
       " 'ARA',\n",
       " 'VRO',\n",
       " 'BDM',\n",
       " 'BLF',\n",
       " 'SBS',\n",
       " 'UJE',\n",
       " 'YXK',\n",
       " 'HEM',\n",
       " 'KTQ',\n",
       " 'JIW',\n",
       " 'HAF',\n",
       " 'TJG',\n",
       " 'XSD',\n",
       " 'BMC',\n",
       " 'JAS',\n",
       " 'ACS',\n",
       " 'KKX',\n",
       " 'JJM',\n",
       " 'FNU',\n",
       " 'CBV',\n",
       " 'CHN',\n",
       " 'GNI',\n",
       " 'PCQ',\n",
       " 'COE',\n",
       " 'TUV',\n",
       " 'TEV',\n",
       " 'GZI',\n",
       " 'FME',\n",
       " 'KNO',\n",
       " 'UUK',\n",
       " 'RUD',\n",
       " 'BFP',\n",
       " 'SHN',\n",
       " 'SMN',\n",
       " 'UPB',\n",
       " 'HHQ',\n",
       " 'PNE',\n",
       " 'YND',\n",
       " 'DNN',\n",
       " 'LAK',\n",
       " 'CMD',\n",
       " 'HTT',\n",
       " 'TNE',\n",
       " 'BLG',\n",
       " 'MXF',\n",
       " 'CCH',\n",
       " 'JUI',\n",
       " 'JGO',\n",
       " 'UNT',\n",
       " 'FYJ',\n",
       " 'YLR',\n",
       " 'PMB',\n",
       " 'KOU',\n",
       " 'HVS',\n",
       " 'KOQ',\n",
       " 'NHT',\n",
       " 'ENK',\n",
       " 'LPK',\n",
       " 'HDD',\n",
       " ...}"
      ]
     },
     "execution_count": 23,
     "metadata": {},
     "output_type": "execute_result"
    }
   ],
   "source": [
    "# Коды аэропортов, для которых нет взлётов/посадок в таблице\n",
    "\n",
    "took_off_landed_empty"
   ]
  },
  {
   "cell_type": "code",
   "execution_count": 24,
   "id": "5f777cb1",
   "metadata": {},
   "outputs": [],
   "source": [
    "# Место для отдыха глаз\n",
    "#\n",
    "#\n",
    "#\n",
    "#\n",
    "#\n",
    "#\n",
    "# Конец места для отдыха глаз"
   ]
  },
  {
   "cell_type": "code",
   "execution_count": 25,
   "id": "957d7425",
   "metadata": {},
   "outputs": [],
   "source": [
    "# Задание 5.2\n",
    "# Смёрджим к табличке маршрутов колонку ID аэропорта вылета/прилёта и названия аэропорта\n",
    "\n",
    "took_off_names_empty = df_raw_routers.merge(df_raw_airport[['Airport ID', 'Name']], left_on='Source airport ID', \n",
    "                                    right_on='Airport ID', how='left')\n",
    "\n",
    "landed_names_empty = df_raw_routers.merge(df_raw_airport[['Airport ID', 'Name']], left_on='Destination airport ID', \n",
    "                                    right_on='Airport ID', how='left')"
   ]
  },
  {
   "cell_type": "code",
   "execution_count": 26,
   "id": "daed7deb",
   "metadata": {},
   "outputs": [
    {
     "data": {
      "text/html": [
       "<div>\n",
       "<style scoped>\n",
       "    .dataframe tbody tr th:only-of-type {\n",
       "        vertical-align: middle;\n",
       "    }\n",
       "\n",
       "    .dataframe tbody tr th {\n",
       "        vertical-align: top;\n",
       "    }\n",
       "\n",
       "    .dataframe thead th {\n",
       "        text-align: right;\n",
       "    }\n",
       "</style>\n",
       "<table border=\"1\" class=\"dataframe\">\n",
       "  <thead>\n",
       "    <tr style=\"text-align: right;\">\n",
       "      <th></th>\n",
       "      <th>Airline</th>\n",
       "      <th>Airline ID</th>\n",
       "      <th>Source airport</th>\n",
       "      <th>Source airport ID</th>\n",
       "      <th>Destination airport</th>\n",
       "      <th>Destination airport ID</th>\n",
       "      <th>Codeshare</th>\n",
       "      <th>Stops</th>\n",
       "      <th>Equipment</th>\n",
       "      <th>Airport ID</th>\n",
       "      <th>Name</th>\n",
       "    </tr>\n",
       "  </thead>\n",
       "  <tbody>\n",
       "    <tr>\n",
       "      <th>0</th>\n",
       "      <td>2B</td>\n",
       "      <td>410</td>\n",
       "      <td>AER</td>\n",
       "      <td>2965.0</td>\n",
       "      <td>KZN</td>\n",
       "      <td>2990.0</td>\n",
       "      <td>NaN</td>\n",
       "      <td>0</td>\n",
       "      <td>CR2</td>\n",
       "      <td>2965.0</td>\n",
       "      <td>Sochi International Airport</td>\n",
       "    </tr>\n",
       "    <tr>\n",
       "      <th>1</th>\n",
       "      <td>2B</td>\n",
       "      <td>410</td>\n",
       "      <td>ASF</td>\n",
       "      <td>2966.0</td>\n",
       "      <td>KZN</td>\n",
       "      <td>2990.0</td>\n",
       "      <td>NaN</td>\n",
       "      <td>0</td>\n",
       "      <td>CR2</td>\n",
       "      <td>2966.0</td>\n",
       "      <td>Astrakhan Airport</td>\n",
       "    </tr>\n",
       "  </tbody>\n",
       "</table>\n",
       "</div>"
      ],
      "text/plain": [
       "  Airline Airline ID Source airport  Source airport ID Destination airport  \\\n",
       "0      2B        410            AER             2965.0                 KZN   \n",
       "1      2B        410            ASF             2966.0                 KZN   \n",
       "\n",
       "   Destination airport ID Codeshare  Stops Equipment  Airport ID  \\\n",
       "0                  2990.0       NaN      0       CR2      2965.0   \n",
       "1                  2990.0       NaN      0       CR2      2966.0   \n",
       "\n",
       "                          Name  \n",
       "0  Sochi International Airport  \n",
       "1            Astrakhan Airport  "
      ]
     },
     "execution_count": 26,
     "metadata": {},
     "output_type": "execute_result"
    }
   ],
   "source": [
    "took_off_names_empty.head(2)"
   ]
  },
  {
   "cell_type": "code",
   "execution_count": 27,
   "id": "c6702fad",
   "metadata": {},
   "outputs": [
    {
     "data": {
      "text/html": [
       "<div>\n",
       "<style scoped>\n",
       "    .dataframe tbody tr th:only-of-type {\n",
       "        vertical-align: middle;\n",
       "    }\n",
       "\n",
       "    .dataframe tbody tr th {\n",
       "        vertical-align: top;\n",
       "    }\n",
       "\n",
       "    .dataframe thead th {\n",
       "        text-align: right;\n",
       "    }\n",
       "</style>\n",
       "<table border=\"1\" class=\"dataframe\">\n",
       "  <thead>\n",
       "    <tr style=\"text-align: right;\">\n",
       "      <th></th>\n",
       "      <th>Airline</th>\n",
       "      <th>Airline ID</th>\n",
       "      <th>Source airport</th>\n",
       "      <th>Source airport ID</th>\n",
       "      <th>Destination airport</th>\n",
       "      <th>Destination airport ID</th>\n",
       "      <th>Codeshare</th>\n",
       "      <th>Stops</th>\n",
       "      <th>Equipment</th>\n",
       "      <th>Airport ID</th>\n",
       "      <th>Name</th>\n",
       "    </tr>\n",
       "  </thead>\n",
       "  <tbody>\n",
       "    <tr>\n",
       "      <th>0</th>\n",
       "      <td>2B</td>\n",
       "      <td>410</td>\n",
       "      <td>AER</td>\n",
       "      <td>2965.0</td>\n",
       "      <td>KZN</td>\n",
       "      <td>2990.0</td>\n",
       "      <td>NaN</td>\n",
       "      <td>0</td>\n",
       "      <td>CR2</td>\n",
       "      <td>2990.0</td>\n",
       "      <td>Kazan International Airport</td>\n",
       "    </tr>\n",
       "    <tr>\n",
       "      <th>1</th>\n",
       "      <td>2B</td>\n",
       "      <td>410</td>\n",
       "      <td>ASF</td>\n",
       "      <td>2966.0</td>\n",
       "      <td>KZN</td>\n",
       "      <td>2990.0</td>\n",
       "      <td>NaN</td>\n",
       "      <td>0</td>\n",
       "      <td>CR2</td>\n",
       "      <td>2990.0</td>\n",
       "      <td>Kazan International Airport</td>\n",
       "    </tr>\n",
       "  </tbody>\n",
       "</table>\n",
       "</div>"
      ],
      "text/plain": [
       "  Airline Airline ID Source airport  Source airport ID Destination airport  \\\n",
       "0      2B        410            AER             2965.0                 KZN   \n",
       "1      2B        410            ASF             2966.0                 KZN   \n",
       "\n",
       "   Destination airport ID Codeshare  Stops Equipment  Airport ID  \\\n",
       "0                  2990.0       NaN      0       CR2      2990.0   \n",
       "1                  2990.0       NaN      0       CR2      2990.0   \n",
       "\n",
       "                          Name  \n",
       "0  Kazan International Airport  \n",
       "1  Kazan International Airport  "
      ]
     },
     "execution_count": 27,
     "metadata": {},
     "output_type": "execute_result"
    }
   ],
   "source": [
    "landed_names_empty.head(2)"
   ]
  },
  {
   "cell_type": "code",
   "execution_count": 28,
   "id": "94c6d988",
   "metadata": {},
   "outputs": [],
   "source": [
    "names_empty = set(took_off_names_empty[pd.isnull(took_off_names_empty['Name'])]['Source airport'].unique()) |\\\n",
    "            set(landed_names_empty[pd.isnull(landed_names_empty['Name'])]['Destination airport'].unique())"
   ]
  },
  {
   "cell_type": "code",
   "execution_count": 29,
   "id": "e82ad50f",
   "metadata": {},
   "outputs": [
    {
     "data": {
      "text/plain": [
       "{'ABB',\n",
       " 'ACU',\n",
       " 'AOQ',\n",
       " 'AOS',\n",
       " 'ATT',\n",
       " 'BFQ',\n",
       " 'BLD',\n",
       " 'BNY',\n",
       " 'BSS',\n",
       " 'BTC',\n",
       " 'BUL',\n",
       " 'BVV',\n",
       " 'CBS',\n",
       " 'CFK',\n",
       " 'CGA',\n",
       " 'CKD',\n",
       " 'CKX',\n",
       " 'CUK',\n",
       " 'CXF',\n",
       " 'CZH',\n",
       " 'CZJ',\n",
       " 'DEF',\n",
       " 'DGA',\n",
       " 'DHB',\n",
       " 'DIW',\n",
       " 'DOB',\n",
       " 'EAR',\n",
       " 'EBH',\n",
       " 'EDA',\n",
       " 'EKS',\n",
       " 'ELL',\n",
       " 'EXI',\n",
       " 'FBS',\n",
       " 'FDE',\n",
       " 'FSZ',\n",
       " 'FVM',\n",
       " 'GCH',\n",
       " 'GCW',\n",
       " 'GHE',\n",
       " 'GLN',\n",
       " 'GMO',\n",
       " 'GNU',\n",
       " 'GSM',\n",
       " 'HOE',\n",
       " 'HYD',\n",
       " 'HYL',\n",
       " 'IGM',\n",
       " 'IKE',\n",
       " 'INB',\n",
       " 'IOQ',\n",
       " 'IOT',\n",
       " 'IUI',\n",
       " 'JAU',\n",
       " 'JGS',\n",
       " 'JJA',\n",
       " 'JKR',\n",
       " 'JUK',\n",
       " 'JUU',\n",
       " 'KAE',\n",
       " 'KBC',\n",
       " 'KBU',\n",
       " 'KCC',\n",
       " 'KCG',\n",
       " 'KCK',\n",
       " 'KCL',\n",
       " 'KCO',\n",
       " 'KCQ',\n",
       " 'KGQ',\n",
       " 'KGX',\n",
       " 'KHQ',\n",
       " 'KHY',\n",
       " 'KHZ',\n",
       " 'KKB',\n",
       " 'KKI',\n",
       " 'KLL',\n",
       " 'KOZ',\n",
       " 'KPB',\n",
       " 'KPR',\n",
       " 'KQT',\n",
       " 'KSE',\n",
       " 'KTB',\n",
       " 'KUS',\n",
       " 'KUZ',\n",
       " 'KWF',\n",
       " 'KXU',\n",
       " 'KZB',\n",
       " 'LBP',\n",
       " 'LCR',\n",
       " 'LFM',\n",
       " 'LGQ',\n",
       " 'LKE',\n",
       " 'LLB',\n",
       " 'LMA',\n",
       " 'LMC',\n",
       " 'LNV',\n",
       " 'LSA',\n",
       " 'MCM',\n",
       " 'MEU',\n",
       " 'MJU',\n",
       " 'MLH',\n",
       " 'MNS',\n",
       " 'MNT',\n",
       " 'MPP',\n",
       " 'MQJ',\n",
       " 'MRA',\n",
       " 'MTE',\n",
       " 'MZW',\n",
       " 'NER',\n",
       " 'NGK',\n",
       " 'NIQ',\n",
       " 'NKI',\n",
       " 'NOP',\n",
       " 'NSQ',\n",
       " 'NTG',\n",
       " 'NUP',\n",
       " 'OGM',\n",
       " 'OHH',\n",
       " 'OLH',\n",
       " 'OLL',\n",
       " 'ORI',\n",
       " 'ORU',\n",
       " 'ORZ',\n",
       " 'OSM',\n",
       " 'OTD',\n",
       " 'PBZ',\n",
       " 'PEC',\n",
       " 'PHB',\n",
       " 'PHO',\n",
       " 'PLJ',\n",
       " 'PND',\n",
       " 'PPV',\n",
       " 'PQM',\n",
       " 'PQS',\n",
       " 'PUM',\n",
       " 'PVE',\n",
       " 'PYC',\n",
       " 'QFG',\n",
       " 'QFN',\n",
       " 'QFX',\n",
       " 'QJH',\n",
       " 'QOQ',\n",
       " 'QUB',\n",
       " 'QUV',\n",
       " 'QUW',\n",
       " 'RCE',\n",
       " 'RCY',\n",
       " 'RDV',\n",
       " 'RIG',\n",
       " 'RKA',\n",
       " 'RMP',\n",
       " 'SAE',\n",
       " 'SAX',\n",
       " 'SGG',\n",
       " 'SHC',\n",
       " 'SQS',\n",
       " 'SRK',\n",
       " 'SRV',\n",
       " 'SSB',\n",
       " 'SUK',\n",
       " 'SVC',\n",
       " 'SVK',\n",
       " 'SVR',\n",
       " 'SVS',\n",
       " 'SXI',\n",
       " 'SXP',\n",
       " 'SYB',\n",
       " 'SZE',\n",
       " 'SZI',\n",
       " 'TAL',\n",
       " 'TBI',\n",
       " 'TCD',\n",
       " 'TCR',\n",
       " 'TCT',\n",
       " 'TFI',\n",
       " 'TGC',\n",
       " 'TGK',\n",
       " 'TGP',\n",
       " 'THD',\n",
       " 'THX',\n",
       " 'TKE',\n",
       " 'TLT',\n",
       " 'TNK',\n",
       " 'TQA',\n",
       " 'TQI',\n",
       " 'TVS',\n",
       " 'TZA',\n",
       " 'TZL',\n",
       " 'UGB',\n",
       " 'ULZ',\n",
       " 'UPK',\n",
       " 'UTS',\n",
       " 'WAE',\n",
       " 'WBB',\n",
       " 'WNH',\n",
       " 'WSX',\n",
       " 'WTL',\n",
       " 'WWP',\n",
       " 'WWT',\n",
       " 'XEQ',\n",
       " 'YKT',\n",
       " 'YNP',\n",
       " 'ZBL',\n",
       " 'ZDY',\n",
       " 'ZGS'}"
      ]
     },
     "execution_count": 29,
     "metadata": {},
     "output_type": "execute_result"
    }
   ],
   "source": [
    "# Коды аэропортов для которых нет названий в таблице\n",
    "\n",
    "names_empty"
   ]
  },
  {
   "cell_type": "markdown",
   "id": "94052bbe",
   "metadata": {},
   "source": [
    "# Задание 6\n",
    "\n",
    "Для таблицы в задании 4, для трех крупнейших аэропортов для каждой страны, собрать ряд - первый индекс: название страны, второй индекс: название аэропорта, значение: количество взлет посадок. Первый индекс упорядочен по названию страны (по алфавиту), а назание аэропорта по количеству взлет посадок от большего к меньшему."
   ]
  },
  {
   "cell_type": "code",
   "execution_count": 30,
   "id": "aa26a1d3",
   "metadata": {
    "scrolled": true
   },
   "outputs": [
    {
     "data": {
      "text/html": [
       "<div>\n",
       "<style scoped>\n",
       "    .dataframe tbody tr th:only-of-type {\n",
       "        vertical-align: middle;\n",
       "    }\n",
       "\n",
       "    .dataframe tbody tr th {\n",
       "        vertical-align: top;\n",
       "    }\n",
       "\n",
       "    .dataframe thead th {\n",
       "        text-align: right;\n",
       "    }\n",
       "</style>\n",
       "<table border=\"1\" class=\"dataframe\">\n",
       "  <thead>\n",
       "    <tr style=\"text-align: right;\">\n",
       "      <th></th>\n",
       "      <th>Country</th>\n",
       "      <th>Name</th>\n",
       "      <th>took-off_landed</th>\n",
       "    </tr>\n",
       "  </thead>\n",
       "  <tbody>\n",
       "    <tr>\n",
       "      <th>0</th>\n",
       "      <td>American Samoa</td>\n",
       "      <td>Fitiuta Airport</td>\n",
       "      <td>0</td>\n",
       "    </tr>\n",
       "    <tr>\n",
       "      <th>1</th>\n",
       "      <td>American Samoa</td>\n",
       "      <td>Pago Pago International Airport</td>\n",
       "      <td>2</td>\n",
       "    </tr>\n",
       "    <tr>\n",
       "      <th>2</th>\n",
       "      <td>Australia</td>\n",
       "      <td>Adelaide International Airport</td>\n",
       "      <td>102</td>\n",
       "    </tr>\n",
       "    <tr>\n",
       "      <th>3</th>\n",
       "      <td>Australia</td>\n",
       "      <td>Adelaide Parafield Airport</td>\n",
       "      <td>354</td>\n",
       "    </tr>\n",
       "    <tr>\n",
       "      <th>4</th>\n",
       "      <td>Australia</td>\n",
       "      <td>Albany Airport</td>\n",
       "      <td>6</td>\n",
       "    </tr>\n",
       "  </tbody>\n",
       "</table>\n",
       "</div>"
      ],
      "text/plain": [
       "          Country                             Name  took-off_landed\n",
       "0  American Samoa                  Fitiuta Airport                0\n",
       "1  American Samoa  Pago Pago International Airport                2\n",
       "2       Australia   Adelaide International Airport              102\n",
       "3       Australia       Adelaide Parafield Airport              354\n",
       "4       Australia                   Albany Airport                6"
      ]
     },
     "execution_count": 30,
     "metadata": {},
     "output_type": "execute_result"
    }
   ],
   "source": [
    "table4.head()"
   ]
  },
  {
   "cell_type": "code",
   "execution_count": 31,
   "id": "6ecd6ea9",
   "metadata": {},
   "outputs": [
    {
     "data": {
      "text/html": [
       "<div>\n",
       "<style scoped>\n",
       "    .dataframe tbody tr th:only-of-type {\n",
       "        vertical-align: middle;\n",
       "    }\n",
       "\n",
       "    .dataframe tbody tr th {\n",
       "        vertical-align: top;\n",
       "    }\n",
       "\n",
       "    .dataframe thead th {\n",
       "        text-align: right;\n",
       "    }\n",
       "</style>\n",
       "<table border=\"1\" class=\"dataframe\">\n",
       "  <thead>\n",
       "    <tr style=\"text-align: right;\">\n",
       "      <th></th>\n",
       "      <th>Country</th>\n",
       "      <th>level_1</th>\n",
       "      <th>took-off_landed</th>\n",
       "    </tr>\n",
       "  </thead>\n",
       "  <tbody>\n",
       "    <tr>\n",
       "      <th>0</th>\n",
       "      <td>American Samoa</td>\n",
       "      <td>1</td>\n",
       "      <td>2</td>\n",
       "    </tr>\n",
       "    <tr>\n",
       "      <th>1</th>\n",
       "      <td>American Samoa</td>\n",
       "      <td>0</td>\n",
       "      <td>0</td>\n",
       "    </tr>\n",
       "    <tr>\n",
       "      <th>2</th>\n",
       "      <td>Australia</td>\n",
       "      <td>283</td>\n",
       "      <td>410</td>\n",
       "    </tr>\n",
       "    <tr>\n",
       "      <th>3</th>\n",
       "      <td>Australia</td>\n",
       "      <td>106</td>\n",
       "      <td>357</td>\n",
       "    </tr>\n",
       "    <tr>\n",
       "      <th>4</th>\n",
       "      <td>Australia</td>\n",
       "      <td>3</td>\n",
       "      <td>354</td>\n",
       "    </tr>\n",
       "    <tr>\n",
       "      <th>5</th>\n",
       "      <td>Cook Islands</td>\n",
       "      <td>341</td>\n",
       "      <td>27</td>\n",
       "    </tr>\n",
       "    <tr>\n",
       "      <th>6</th>\n",
       "      <td>Cook Islands</td>\n",
       "      <td>335</td>\n",
       "      <td>5</td>\n",
       "    </tr>\n",
       "    <tr>\n",
       "      <th>7</th>\n",
       "      <td>Cook Islands</td>\n",
       "      <td>336</td>\n",
       "      <td>3</td>\n",
       "    </tr>\n",
       "    <tr>\n",
       "      <th>8</th>\n",
       "      <td>Fiji</td>\n",
       "      <td>353</td>\n",
       "      <td>83</td>\n",
       "    </tr>\n",
       "    <tr>\n",
       "      <th>9</th>\n",
       "      <td>Fiji</td>\n",
       "      <td>354</td>\n",
       "      <td>23</td>\n",
       "    </tr>\n",
       "    <tr>\n",
       "      <th>10</th>\n",
       "      <td>Fiji</td>\n",
       "      <td>351</td>\n",
       "      <td>6</td>\n",
       "    </tr>\n",
       "    <tr>\n",
       "      <th>11</th>\n",
       "      <td>French Polynesia</td>\n",
       "      <td>367</td>\n",
       "      <td>77</td>\n",
       "    </tr>\n",
       "    <tr>\n",
       "      <th>12</th>\n",
       "      <td>French Polynesia</td>\n",
       "      <td>366</td>\n",
       "      <td>12</td>\n",
       "    </tr>\n",
       "    <tr>\n",
       "      <th>13</th>\n",
       "      <td>French Polynesia</td>\n",
       "      <td>390</td>\n",
       "      <td>11</td>\n",
       "    </tr>\n",
       "    <tr>\n",
       "      <th>14</th>\n",
       "      <td>Guam</td>\n",
       "      <td>407</td>\n",
       "      <td>70</td>\n",
       "    </tr>\n",
       "    <tr>\n",
       "      <th>15</th>\n",
       "      <td>Guam</td>\n",
       "      <td>406</td>\n",
       "      <td>0</td>\n",
       "    </tr>\n",
       "    <tr>\n",
       "      <th>16</th>\n",
       "      <td>Kiribati</td>\n",
       "      <td>416</td>\n",
       "      <td>8</td>\n",
       "    </tr>\n",
       "    <tr>\n",
       "      <th>17</th>\n",
       "      <td>Kiribati</td>\n",
       "      <td>412</td>\n",
       "      <td>6</td>\n",
       "    </tr>\n",
       "    <tr>\n",
       "      <th>18</th>\n",
       "      <td>Kiribati</td>\n",
       "      <td>408</td>\n",
       "      <td>0</td>\n",
       "    </tr>\n",
       "    <tr>\n",
       "      <th>19</th>\n",
       "      <td>Marshall Islands</td>\n",
       "      <td>427</td>\n",
       "      <td>354</td>\n",
       "    </tr>\n",
       "    <tr>\n",
       "      <th>20</th>\n",
       "      <td>Marshall Islands</td>\n",
       "      <td>430</td>\n",
       "      <td>8</td>\n",
       "    </tr>\n",
       "    <tr>\n",
       "      <th>21</th>\n",
       "      <td>Marshall Islands</td>\n",
       "      <td>426</td>\n",
       "      <td>6</td>\n",
       "    </tr>\n",
       "    <tr>\n",
       "      <th>22</th>\n",
       "      <td>Micronesia</td>\n",
       "      <td>436</td>\n",
       "      <td>6</td>\n",
       "    </tr>\n",
       "    <tr>\n",
       "      <th>23</th>\n",
       "      <td>Micronesia</td>\n",
       "      <td>434</td>\n",
       "      <td>4</td>\n",
       "    </tr>\n",
       "    <tr>\n",
       "      <th>24</th>\n",
       "      <td>Micronesia</td>\n",
       "      <td>435</td>\n",
       "      <td>4</td>\n",
       "    </tr>\n",
       "    <tr>\n",
       "      <th>25</th>\n",
       "      <td>Nauru</td>\n",
       "      <td>438</td>\n",
       "      <td>6</td>\n",
       "    </tr>\n",
       "    <tr>\n",
       "      <th>26</th>\n",
       "      <td>New Caledonia</td>\n",
       "      <td>441</td>\n",
       "      <td>26</td>\n",
       "    </tr>\n",
       "    <tr>\n",
       "      <th>27</th>\n",
       "      <td>New Caledonia</td>\n",
       "      <td>444</td>\n",
       "      <td>17</td>\n",
       "    </tr>\n",
       "    <tr>\n",
       "      <th>28</th>\n",
       "      <td>New Caledonia</td>\n",
       "      <td>442</td>\n",
       "      <td>6</td>\n",
       "    </tr>\n",
       "    <tr>\n",
       "      <th>29</th>\n",
       "      <td>New Zealand</td>\n",
       "      <td>457</td>\n",
       "      <td>354</td>\n",
       "    </tr>\n",
       "    <tr>\n",
       "      <th>30</th>\n",
       "      <td>New Zealand</td>\n",
       "      <td>460</td>\n",
       "      <td>354</td>\n",
       "    </tr>\n",
       "    <tr>\n",
       "      <th>31</th>\n",
       "      <td>New Zealand</td>\n",
       "      <td>462</td>\n",
       "      <td>354</td>\n",
       "    </tr>\n",
       "    <tr>\n",
       "      <th>32</th>\n",
       "      <td>Niue</td>\n",
       "      <td>510</td>\n",
       "      <td>1</td>\n",
       "    </tr>\n",
       "    <tr>\n",
       "      <th>33</th>\n",
       "      <td>Norfolk Island</td>\n",
       "      <td>511</td>\n",
       "      <td>5</td>\n",
       "    </tr>\n",
       "    <tr>\n",
       "      <th>34</th>\n",
       "      <td>Northern Mariana Islands</td>\n",
       "      <td>513</td>\n",
       "      <td>20</td>\n",
       "    </tr>\n",
       "    <tr>\n",
       "      <th>35</th>\n",
       "      <td>Northern Mariana Islands</td>\n",
       "      <td>512</td>\n",
       "      <td>4</td>\n",
       "    </tr>\n",
       "    <tr>\n",
       "      <th>36</th>\n",
       "      <td>Northern Mariana Islands</td>\n",
       "      <td>514</td>\n",
       "      <td>0</td>\n",
       "    </tr>\n",
       "    <tr>\n",
       "      <th>37</th>\n",
       "      <td>Palau</td>\n",
       "      <td>515</td>\n",
       "      <td>19</td>\n",
       "    </tr>\n",
       "    <tr>\n",
       "      <th>38</th>\n",
       "      <td>Papua New Guinea</td>\n",
       "      <td>542</td>\n",
       "      <td>102</td>\n",
       "    </tr>\n",
       "    <tr>\n",
       "      <th>39</th>\n",
       "      <td>Papua New Guinea</td>\n",
       "      <td>547</td>\n",
       "      <td>25</td>\n",
       "    </tr>\n",
       "    <tr>\n",
       "      <th>40</th>\n",
       "      <td>Papua New Guinea</td>\n",
       "      <td>539</td>\n",
       "      <td>22</td>\n",
       "    </tr>\n",
       "    <tr>\n",
       "      <th>41</th>\n",
       "      <td>Samoa</td>\n",
       "      <td>552</td>\n",
       "      <td>11</td>\n",
       "    </tr>\n",
       "    <tr>\n",
       "      <th>42</th>\n",
       "      <td>Samoa</td>\n",
       "      <td>551</td>\n",
       "      <td>0</td>\n",
       "    </tr>\n",
       "    <tr>\n",
       "      <th>43</th>\n",
       "      <td>Samoa</td>\n",
       "      <td>553</td>\n",
       "      <td>0</td>\n",
       "    </tr>\n",
       "    <tr>\n",
       "      <th>44</th>\n",
       "      <td>Solomon Islands</td>\n",
       "      <td>561</td>\n",
       "      <td>48</td>\n",
       "    </tr>\n",
       "    <tr>\n",
       "      <th>45</th>\n",
       "      <td>Solomon Islands</td>\n",
       "      <td>567</td>\n",
       "      <td>9</td>\n",
       "    </tr>\n",
       "    <tr>\n",
       "      <th>46</th>\n",
       "      <td>Solomon Islands</td>\n",
       "      <td>565</td>\n",
       "      <td>8</td>\n",
       "    </tr>\n",
       "    <tr>\n",
       "      <th>47</th>\n",
       "      <td>Tonga</td>\n",
       "      <td>578</td>\n",
       "      <td>10</td>\n",
       "    </tr>\n",
       "    <tr>\n",
       "      <th>48</th>\n",
       "      <td>Tonga</td>\n",
       "      <td>579</td>\n",
       "      <td>0</td>\n",
       "    </tr>\n",
       "    <tr>\n",
       "      <th>49</th>\n",
       "      <td>Tonga</td>\n",
       "      <td>580</td>\n",
       "      <td>0</td>\n",
       "    </tr>\n",
       "    <tr>\n",
       "      <th>50</th>\n",
       "      <td>Tuvalu</td>\n",
       "      <td>584</td>\n",
       "      <td>2</td>\n",
       "    </tr>\n",
       "    <tr>\n",
       "      <th>51</th>\n",
       "      <td>Vanuatu</td>\n",
       "      <td>587</td>\n",
       "      <td>56</td>\n",
       "    </tr>\n",
       "    <tr>\n",
       "      <th>52</th>\n",
       "      <td>Vanuatu</td>\n",
       "      <td>602</td>\n",
       "      <td>22</td>\n",
       "    </tr>\n",
       "    <tr>\n",
       "      <th>53</th>\n",
       "      <td>Vanuatu</td>\n",
       "      <td>599</td>\n",
       "      <td>10</td>\n",
       "    </tr>\n",
       "    <tr>\n",
       "      <th>54</th>\n",
       "      <td>Wallis and Futuna</td>\n",
       "      <td>614</td>\n",
       "      <td>6</td>\n",
       "    </tr>\n",
       "    <tr>\n",
       "      <th>55</th>\n",
       "      <td>Wallis and Futuna</td>\n",
       "      <td>615</td>\n",
       "      <td>2</td>\n",
       "    </tr>\n",
       "  </tbody>\n",
       "</table>\n",
       "</div>"
      ],
      "text/plain": [
       "                     Country  level_1  took-off_landed\n",
       "0             American Samoa        1                2\n",
       "1             American Samoa        0                0\n",
       "2                  Australia      283              410\n",
       "3                  Australia      106              357\n",
       "4                  Australia        3              354\n",
       "5               Cook Islands      341               27\n",
       "6               Cook Islands      335                5\n",
       "7               Cook Islands      336                3\n",
       "8                       Fiji      353               83\n",
       "9                       Fiji      354               23\n",
       "10                      Fiji      351                6\n",
       "11          French Polynesia      367               77\n",
       "12          French Polynesia      366               12\n",
       "13          French Polynesia      390               11\n",
       "14                      Guam      407               70\n",
       "15                      Guam      406                0\n",
       "16                  Kiribati      416                8\n",
       "17                  Kiribati      412                6\n",
       "18                  Kiribati      408                0\n",
       "19          Marshall Islands      427              354\n",
       "20          Marshall Islands      430                8\n",
       "21          Marshall Islands      426                6\n",
       "22                Micronesia      436                6\n",
       "23                Micronesia      434                4\n",
       "24                Micronesia      435                4\n",
       "25                     Nauru      438                6\n",
       "26             New Caledonia      441               26\n",
       "27             New Caledonia      444               17\n",
       "28             New Caledonia      442                6\n",
       "29               New Zealand      457              354\n",
       "30               New Zealand      460              354\n",
       "31               New Zealand      462              354\n",
       "32                      Niue      510                1\n",
       "33            Norfolk Island      511                5\n",
       "34  Northern Mariana Islands      513               20\n",
       "35  Northern Mariana Islands      512                4\n",
       "36  Northern Mariana Islands      514                0\n",
       "37                     Palau      515               19\n",
       "38          Papua New Guinea      542              102\n",
       "39          Papua New Guinea      547               25\n",
       "40          Papua New Guinea      539               22\n",
       "41                     Samoa      552               11\n",
       "42                     Samoa      551                0\n",
       "43                     Samoa      553                0\n",
       "44           Solomon Islands      561               48\n",
       "45           Solomon Islands      567                9\n",
       "46           Solomon Islands      565                8\n",
       "47                     Tonga      578               10\n",
       "48                     Tonga      579                0\n",
       "49                     Tonga      580                0\n",
       "50                    Tuvalu      584                2\n",
       "51                   Vanuatu      587               56\n",
       "52                   Vanuatu      602               22\n",
       "53                   Vanuatu      599               10\n",
       "54         Wallis and Futuna      614                6\n",
       "55         Wallis and Futuna      615                2"
      ]
     },
     "metadata": {},
     "output_type": "display_data"
    }
   ],
   "source": [
    "display(table4.groupby(['Country'])['took-off_landed'].nlargest(3).reset_index())"
   ]
  },
  {
   "cell_type": "code",
   "execution_count": 32,
   "id": "b9a7b22c",
   "metadata": {},
   "outputs": [],
   "source": [
    "# Функция nlargest() возвращает первые n строк, упорядоченных по столбцам в порядке убывания.\n",
    "\n",
    "table4_sorted = (table4.groupby(['Country'])['took-off_landed'].nlargest(3).reset_index().\\\n",
    "                merge(table4['Name'], left_on='level_1', right_on = table4.index).drop('level_1', axis=1)).\\\n",
    "                sort_values(['Country', 'took-off_landed'], ascending=[True, False]).\\\n",
    "                set_index(['Country', 'Name']) \n",
    "\n",
    "# По строкам:\n",
    "# Группируем по странам и делаем выборку 3 строк для каждой страны с наибольш. кол-вом действий\n",
    "# Добавляем по первоначальному индексу название аэропорта\n",
    "## Упорядочиваем страны по алфавиту, количество действий в аэропорту от большего к меньшему\n",
    "# первый индекс: название страны, второй индекс: название аэропорта"
   ]
  },
  {
   "cell_type": "code",
   "execution_count": 33,
   "id": "08347528",
   "metadata": {},
   "outputs": [
    {
     "data": {
      "text/html": [
       "<div>\n",
       "<style scoped>\n",
       "    .dataframe tbody tr th:only-of-type {\n",
       "        vertical-align: middle;\n",
       "    }\n",
       "\n",
       "    .dataframe tbody tr th {\n",
       "        vertical-align: top;\n",
       "    }\n",
       "\n",
       "    .dataframe thead th {\n",
       "        text-align: right;\n",
       "    }\n",
       "</style>\n",
       "<table border=\"1\" class=\"dataframe\">\n",
       "  <thead>\n",
       "    <tr style=\"text-align: right;\">\n",
       "      <th></th>\n",
       "      <th></th>\n",
       "      <th>took-off_landed</th>\n",
       "    </tr>\n",
       "    <tr>\n",
       "      <th>Country</th>\n",
       "      <th>Name</th>\n",
       "      <th></th>\n",
       "    </tr>\n",
       "  </thead>\n",
       "  <tbody>\n",
       "    <tr>\n",
       "      <th rowspan=\"2\" valign=\"top\">American Samoa</th>\n",
       "      <th>Pago Pago International Airport</th>\n",
       "      <td>2</td>\n",
       "    </tr>\n",
       "    <tr>\n",
       "      <th>Fitiuta Airport</th>\n",
       "      <td>0</td>\n",
       "    </tr>\n",
       "    <tr>\n",
       "      <th rowspan=\"3\" valign=\"top\">Australia</th>\n",
       "      <th>Sydney Kingsford Smith International Airport</th>\n",
       "      <td>410</td>\n",
       "    </tr>\n",
       "    <tr>\n",
       "      <th>Flinders Island Airport</th>\n",
       "      <td>357</td>\n",
       "    </tr>\n",
       "    <tr>\n",
       "      <th>Adelaide Parafield Airport</th>\n",
       "      <td>354</td>\n",
       "    </tr>\n",
       "    <tr>\n",
       "      <th rowspan=\"3\" valign=\"top\">Cook Islands</th>\n",
       "      <th>Rarotonga International Airport</th>\n",
       "      <td>27</td>\n",
       "    </tr>\n",
       "    <tr>\n",
       "      <th>Aitutaki Airport</th>\n",
       "      <td>5</td>\n",
       "    </tr>\n",
       "    <tr>\n",
       "      <th>Enua Airport</th>\n",
       "      <td>3</td>\n",
       "    </tr>\n",
       "    <tr>\n",
       "      <th rowspan=\"3\" valign=\"top\">Fiji</th>\n",
       "      <th>Nadi International Airport</th>\n",
       "      <td>83</td>\n",
       "    </tr>\n",
       "    <tr>\n",
       "      <th>Nausori International Airport</th>\n",
       "      <td>23</td>\n",
       "    </tr>\n",
       "    <tr>\n",
       "      <th>Matei Airport</th>\n",
       "      <td>6</td>\n",
       "    </tr>\n",
       "    <tr>\n",
       "      <th rowspan=\"3\" valign=\"top\">French Polynesia</th>\n",
       "      <th>Faa'a International Airport</th>\n",
       "      <td>77</td>\n",
       "    </tr>\n",
       "    <tr>\n",
       "      <th>Bora Bora Airport</th>\n",
       "      <td>12</td>\n",
       "    </tr>\n",
       "    <tr>\n",
       "      <th>Rangiroa Airport</th>\n",
       "      <td>11</td>\n",
       "    </tr>\n",
       "    <tr>\n",
       "      <th rowspan=\"2\" valign=\"top\">Guam</th>\n",
       "      <th>Antonio B. Won Pat International Airport</th>\n",
       "      <td>70</td>\n",
       "    </tr>\n",
       "    <tr>\n",
       "      <th>Andersen Air Force Base</th>\n",
       "      <td>0</td>\n",
       "    </tr>\n",
       "    <tr>\n",
       "      <th rowspan=\"3\" valign=\"top\">Kiribati</th>\n",
       "      <th>Cassidy International Airport</th>\n",
       "      <td>8</td>\n",
       "    </tr>\n",
       "    <tr>\n",
       "      <th>Bonriki International Airport</th>\n",
       "      <td>6</td>\n",
       "    </tr>\n",
       "    <tr>\n",
       "      <th>Abaiang Airport</th>\n",
       "      <td>0</td>\n",
       "    </tr>\n",
       "    <tr>\n",
       "      <th rowspan=\"3\" valign=\"top\">Marshall Islands</th>\n",
       "      <th>Dyess Army Air Field</th>\n",
       "      <td>354</td>\n",
       "    </tr>\n",
       "    <tr>\n",
       "      <th>Marshall Islands International Airport</th>\n",
       "      <td>8</td>\n",
       "    </tr>\n",
       "    <tr>\n",
       "      <th>Bucholz Army Air Field</th>\n",
       "      <td>6</td>\n",
       "    </tr>\n",
       "    <tr>\n",
       "      <th rowspan=\"3\" valign=\"top\">Micronesia</th>\n",
       "      <th>Pohnpei International Airport</th>\n",
       "      <td>6</td>\n",
       "    </tr>\n",
       "    <tr>\n",
       "      <th>Chuuk International Airport</th>\n",
       "      <td>4</td>\n",
       "    </tr>\n",
       "    <tr>\n",
       "      <th>Kosrae International Airport</th>\n",
       "      <td>4</td>\n",
       "    </tr>\n",
       "    <tr>\n",
       "      <th>Nauru</th>\n",
       "      <th>Nauru International Airport</th>\n",
       "      <td>6</td>\n",
       "    </tr>\n",
       "    <tr>\n",
       "      <th rowspan=\"3\" valign=\"top\">New Caledonia</th>\n",
       "      <th>La Tontouta International Airport</th>\n",
       "      <td>26</td>\n",
       "    </tr>\n",
       "    <tr>\n",
       "      <th>Nouméa Magenta Airport</th>\n",
       "      <td>17</td>\n",
       "    </tr>\n",
       "    <tr>\n",
       "      <th>Lifou Airport</th>\n",
       "      <td>6</td>\n",
       "    </tr>\n",
       "    <tr>\n",
       "      <th rowspan=\"3\" valign=\"top\">New Zealand</th>\n",
       "      <th>Glacier Country Heliport</th>\n",
       "      <td>354</td>\n",
       "    </tr>\n",
       "    <tr>\n",
       "      <th>Haast Aerodrome</th>\n",
       "      <td>354</td>\n",
       "    </tr>\n",
       "    <tr>\n",
       "      <th>Hastings Aerodrome</th>\n",
       "      <td>354</td>\n",
       "    </tr>\n",
       "    <tr>\n",
       "      <th>Niue</th>\n",
       "      <th>Niue International Airport</th>\n",
       "      <td>1</td>\n",
       "    </tr>\n",
       "    <tr>\n",
       "      <th>Norfolk Island</th>\n",
       "      <th>Norfolk Island International Airport</th>\n",
       "      <td>5</td>\n",
       "    </tr>\n",
       "    <tr>\n",
       "      <th rowspan=\"3\" valign=\"top\">Northern Mariana Islands</th>\n",
       "      <th>Saipan International Airport</th>\n",
       "      <td>20</td>\n",
       "    </tr>\n",
       "    <tr>\n",
       "      <th>Rota International Airport</th>\n",
       "      <td>4</td>\n",
       "    </tr>\n",
       "    <tr>\n",
       "      <th>Tinian International Airport</th>\n",
       "      <td>0</td>\n",
       "    </tr>\n",
       "    <tr>\n",
       "      <th>Palau</th>\n",
       "      <th>Babelthuap Airport</th>\n",
       "      <td>19</td>\n",
       "    </tr>\n",
       "    <tr>\n",
       "      <th rowspan=\"3\" valign=\"top\">Papua New Guinea</th>\n",
       "      <th>Port Moresby Jacksons International Airport</th>\n",
       "      <td>102</td>\n",
       "    </tr>\n",
       "    <tr>\n",
       "      <th>Tokua Airport</th>\n",
       "      <td>25</td>\n",
       "    </tr>\n",
       "    <tr>\n",
       "      <th>Mount Hagen Kagamuga Airport</th>\n",
       "      <td>22</td>\n",
       "    </tr>\n",
       "    <tr>\n",
       "      <th rowspan=\"3\" valign=\"top\">Samoa</th>\n",
       "      <th>Faleolo International Airport</th>\n",
       "      <td>11</td>\n",
       "    </tr>\n",
       "    <tr>\n",
       "      <th>Fagali'i Airport</th>\n",
       "      <td>0</td>\n",
       "    </tr>\n",
       "    <tr>\n",
       "      <th>Maota Airport</th>\n",
       "      <td>0</td>\n",
       "    </tr>\n",
       "    <tr>\n",
       "      <th rowspan=\"3\" valign=\"top\">Solomon Islands</th>\n",
       "      <th>Honiara International Airport</th>\n",
       "      <td>48</td>\n",
       "    </tr>\n",
       "    <tr>\n",
       "      <th>Nusatupe Airport</th>\n",
       "      <td>9</td>\n",
       "    </tr>\n",
       "    <tr>\n",
       "      <th>Munda Airport</th>\n",
       "      <td>8</td>\n",
       "    </tr>\n",
       "    <tr>\n",
       "      <th rowspan=\"3\" valign=\"top\">Tonga</th>\n",
       "      <th>Fua'amotu International Airport</th>\n",
       "      <td>10</td>\n",
       "    </tr>\n",
       "    <tr>\n",
       "      <th>Kaufana Airport</th>\n",
       "      <td>0</td>\n",
       "    </tr>\n",
       "    <tr>\n",
       "      <th>Kuini Lavenia Airport</th>\n",
       "      <td>0</td>\n",
       "    </tr>\n",
       "    <tr>\n",
       "      <th>Tuvalu</th>\n",
       "      <th>Funafuti International Airport</th>\n",
       "      <td>2</td>\n",
       "    </tr>\n",
       "    <tr>\n",
       "      <th rowspan=\"3\" valign=\"top\">Vanuatu</th>\n",
       "      <th>Bauerfield International Airport</th>\n",
       "      <td>56</td>\n",
       "    </tr>\n",
       "    <tr>\n",
       "      <th>Santo Pekoa International Airport</th>\n",
       "      <td>22</td>\n",
       "    </tr>\n",
       "    <tr>\n",
       "      <th>Norsup Airport</th>\n",
       "      <td>10</td>\n",
       "    </tr>\n",
       "    <tr>\n",
       "      <th rowspan=\"2\" valign=\"top\">Wallis and Futuna</th>\n",
       "      <th>Hihifo Airport</th>\n",
       "      <td>6</td>\n",
       "    </tr>\n",
       "    <tr>\n",
       "      <th>Pointe Vele Airport</th>\n",
       "      <td>2</td>\n",
       "    </tr>\n",
       "  </tbody>\n",
       "</table>\n",
       "</div>"
      ],
      "text/plain": [
       "                                                                       took-off_landed\n",
       "Country                  Name                                                         \n",
       "American Samoa           Pago Pago International Airport                             2\n",
       "                         Fitiuta Airport                                             0\n",
       "Australia                Sydney Kingsford Smith International Airport              410\n",
       "                         Flinders Island Airport                                   357\n",
       "                         Adelaide Parafield Airport                                354\n",
       "Cook Islands             Rarotonga International Airport                            27\n",
       "                         Aitutaki Airport                                            5\n",
       "                         Enua Airport                                                3\n",
       "Fiji                     Nadi International Airport                                 83\n",
       "                         Nausori International Airport                              23\n",
       "                         Matei Airport                                               6\n",
       "French Polynesia         Faa'a International Airport                                77\n",
       "                         Bora Bora Airport                                          12\n",
       "                         Rangiroa Airport                                           11\n",
       "Guam                     Antonio B. Won Pat International Airport                   70\n",
       "                         Andersen Air Force Base                                     0\n",
       "Kiribati                 Cassidy International Airport                               8\n",
       "                         Bonriki International Airport                               6\n",
       "                         Abaiang Airport                                             0\n",
       "Marshall Islands         Dyess Army Air Field                                      354\n",
       "                         Marshall Islands International Airport                      8\n",
       "                         Bucholz Army Air Field                                      6\n",
       "Micronesia               Pohnpei International Airport                               6\n",
       "                         Chuuk International Airport                                 4\n",
       "                         Kosrae International Airport                                4\n",
       "Nauru                    Nauru International Airport                                 6\n",
       "New Caledonia            La Tontouta International Airport                          26\n",
       "                         Nouméa Magenta Airport                                     17\n",
       "                         Lifou Airport                                               6\n",
       "New Zealand              Glacier Country Heliport                                  354\n",
       "                         Haast Aerodrome                                           354\n",
       "                         Hastings Aerodrome                                        354\n",
       "Niue                     Niue International Airport                                  1\n",
       "Norfolk Island           Norfolk Island International Airport                        5\n",
       "Northern Mariana Islands Saipan International Airport                               20\n",
       "                         Rota International Airport                                  4\n",
       "                         Tinian International Airport                                0\n",
       "Palau                    Babelthuap Airport                                         19\n",
       "Papua New Guinea         Port Moresby Jacksons International Airport               102\n",
       "                         Tokua Airport                                              25\n",
       "                         Mount Hagen Kagamuga Airport                               22\n",
       "Samoa                    Faleolo International Airport                              11\n",
       "                         Fagali'i Airport                                            0\n",
       "                         Maota Airport                                               0\n",
       "Solomon Islands          Honiara International Airport                              48\n",
       "                         Nusatupe Airport                                            9\n",
       "                         Munda Airport                                               8\n",
       "Tonga                    Fua'amotu International Airport                            10\n",
       "                         Kaufana Airport                                             0\n",
       "                         Kuini Lavenia Airport                                       0\n",
       "Tuvalu                   Funafuti International Airport                              2\n",
       "Vanuatu                  Bauerfield International Airport                           56\n",
       "                         Santo Pekoa International Airport                          22\n",
       "                         Norsup Airport                                             10\n",
       "Wallis and Futuna        Hihifo Airport                                              6\n",
       "                         Pointe Vele Airport                                         2"
      ]
     },
     "execution_count": 33,
     "metadata": {},
     "output_type": "execute_result"
    }
   ],
   "source": [
    "# Итоговая таблица\n",
    "table4_sorted"
   ]
  },
  {
   "cell_type": "markdown",
   "id": "57d36cd8",
   "metadata": {},
   "source": [
    "# Задание 7\n",
    "\n",
    "Для каждого континента отобрать не более 3 стран с наибольшим количеством взлет посадок и нанести их на географическую карту. "
   ]
  },
  {
   "cell_type": "code",
   "execution_count": 34,
   "id": "055535cf",
   "metadata": {
    "scrolled": true
   },
   "outputs": [
    {
     "data": {
      "text/html": [
       "<div>\n",
       "<style scoped>\n",
       "    .dataframe tbody tr th:only-of-type {\n",
       "        vertical-align: middle;\n",
       "    }\n",
       "\n",
       "    .dataframe tbody tr th {\n",
       "        vertical-align: top;\n",
       "    }\n",
       "\n",
       "    .dataframe thead th {\n",
       "        text-align: right;\n",
       "    }\n",
       "</style>\n",
       "<table border=\"1\" class=\"dataframe\">\n",
       "  <thead>\n",
       "    <tr style=\"text-align: right;\">\n",
       "      <th></th>\n",
       "      <th>Continent</th>\n",
       "      <th>took_off_landed</th>\n",
       "      <th>Country</th>\n",
       "    </tr>\n",
       "  </thead>\n",
       "  <tbody>\n",
       "    <tr>\n",
       "      <th>0</th>\n",
       "      <td>Africa</td>\n",
       "      <td>14695</td>\n",
       "      <td>South Africa</td>\n",
       "    </tr>\n",
       "    <tr>\n",
       "      <th>1</th>\n",
       "      <td>Africa</td>\n",
       "      <td>4295</td>\n",
       "      <td>Kenya</td>\n",
       "    </tr>\n",
       "    <tr>\n",
       "      <th>2</th>\n",
       "      <td>Africa</td>\n",
       "      <td>2547</td>\n",
       "      <td>Uganda</td>\n",
       "    </tr>\n",
       "    <tr>\n",
       "      <th>3</th>\n",
       "      <td>Antarctica</td>\n",
       "      <td>2124</td>\n",
       "      <td>Antarctica</td>\n",
       "    </tr>\n",
       "    <tr>\n",
       "      <th>4</th>\n",
       "      <td>Asia</td>\n",
       "      <td>18417</td>\n",
       "      <td>China</td>\n",
       "    </tr>\n",
       "  </tbody>\n",
       "</table>\n",
       "</div>"
      ],
      "text/plain": [
       "    Continent  took_off_landed       Country\n",
       "0      Africa            14695  South Africa\n",
       "1      Africa             4295         Kenya\n",
       "2      Africa             2547        Uganda\n",
       "3  Antarctica             2124    Antarctica\n",
       "4        Asia            18417         China"
      ]
     },
     "execution_count": 34,
     "metadata": {},
     "output_type": "execute_result"
    }
   ],
   "source": [
    "table7 = df_raw_airport.merge(table3, how='left', on='IATA')\\\n",
    "                        .groupby(['Country'], as_index=False)\\\n",
    "                        .agg({'took-off': 'sum', 'landed': 'sum'})\n",
    "table7['took_off_landed'] = table7['took-off'] + table7['landed']\n",
    "table7.drop(['took-off', 'landed'], axis=1, inplace=True)\n",
    "\n",
    "table7_cont = df_raw_airport[['Continent', 'Country']].drop_duplicates().merge(table7, how='left', on='Country')\n",
    "\n",
    "\n",
    "top3_for_cont = table7_cont.groupby(['Continent'])['took_off_landed'].nlargest(3).reset_index()\\\n",
    "                                    .merge(table7_cont['Country'], left_on='level_1', \n",
    "                                        right_on = table7_cont.index)\\\n",
    "                                    .drop('level_1', axis=1)     \n",
    "\n",
    "\n",
    "top3_for_cont.head()"
   ]
  },
  {
   "cell_type": "code",
   "execution_count": 37,
   "id": "67ff1815",
   "metadata": {
    "scrolled": true
   },
   "outputs": [
    {
     "data": {
      "text/html": [
       "<div>\n",
       "<style scoped>\n",
       "    .dataframe tbody tr th:only-of-type {\n",
       "        vertical-align: middle;\n",
       "    }\n",
       "\n",
       "    .dataframe tbody tr th {\n",
       "        vertical-align: top;\n",
       "    }\n",
       "\n",
       "    .dataframe thead th {\n",
       "        text-align: right;\n",
       "    }\n",
       "</style>\n",
       "<table border=\"1\" class=\"dataframe\">\n",
       "  <thead>\n",
       "    <tr style=\"text-align: right;\">\n",
       "      <th></th>\n",
       "      <th>Continent</th>\n",
       "      <th>took_off_landed</th>\n",
       "      <th>Country</th>\n",
       "      <th>Latitude</th>\n",
       "      <th>Longitude</th>\n",
       "    </tr>\n",
       "  </thead>\n",
       "  <tbody>\n",
       "    <tr>\n",
       "      <th>0</th>\n",
       "      <td>Africa</td>\n",
       "      <td>14695</td>\n",
       "      <td>South Africa</td>\n",
       "      <td>-28.816624</td>\n",
       "      <td>24.991639</td>\n",
       "    </tr>\n",
       "    <tr>\n",
       "      <th>1</th>\n",
       "      <td>Africa</td>\n",
       "      <td>4295</td>\n",
       "      <td>Kenya</td>\n",
       "      <td>1.441968</td>\n",
       "      <td>38.431398</td>\n",
       "    </tr>\n",
       "    <tr>\n",
       "      <th>2</th>\n",
       "      <td>Africa</td>\n",
       "      <td>2547</td>\n",
       "      <td>Uganda</td>\n",
       "      <td>1.533355</td>\n",
       "      <td>32.216658</td>\n",
       "    </tr>\n",
       "    <tr>\n",
       "      <th>3</th>\n",
       "      <td>Antarctica</td>\n",
       "      <td>2124</td>\n",
       "      <td>Antarctica</td>\n",
       "      <td>-79.406307</td>\n",
       "      <td>0.314931</td>\n",
       "    </tr>\n",
       "    <tr>\n",
       "      <th>4</th>\n",
       "      <td>Asia</td>\n",
       "      <td>18417</td>\n",
       "      <td>China</td>\n",
       "      <td>35.000074</td>\n",
       "      <td>104.999927</td>\n",
       "    </tr>\n",
       "  </tbody>\n",
       "</table>\n",
       "</div>"
      ],
      "text/plain": [
       "    Continent  took_off_landed       Country   Latitude   Longitude\n",
       "0      Africa            14695  South Africa -28.816624   24.991639\n",
       "1      Africa             4295         Kenya   1.441968   38.431398\n",
       "2      Africa             2547        Uganda   1.533355   32.216658\n",
       "3  Antarctica             2124    Antarctica -79.406307    0.314931\n",
       "4        Asia            18417         China  35.000074  104.999927"
      ]
     },
     "execution_count": 37,
     "metadata": {},
     "output_type": "execute_result"
    }
   ],
   "source": [
    "# Находим координаты стран с помощью geopy\n",
    "longitude = []\n",
    "latitude = []\n",
    "\n",
    "def findGeocode(country):\n",
    "    try:\n",
    "        geolocator = Nominatim(user_agent=\"Aero_Shamov\")\n",
    "        return geolocator.geocode(country)\n",
    "    except GeocoderTimedOut:\n",
    "        return findGeocode(country)    \n",
    "  \n",
    "for i in (top3_for_cont[\"Country\"]):\n",
    "    if findGeocode(i) != None:\n",
    "        loc = findGeocode(i)\n",
    "        latitude.append(loc.latitude)\n",
    "        longitude.append(loc.longitude)\n",
    "    else:\n",
    "        latitude.append(np.nan)\n",
    "        longitude.append(np.nan)\n",
    "        \n",
    "top3_for_cont[\"Latitude\"] = latitude\n",
    "top3_for_cont[\"Longitude\"] = longitude\n",
    "\n",
    "top3_for_cont.head()"
   ]
  },
  {
   "cell_type": "code",
   "execution_count": 38,
   "id": "348f0783",
   "metadata": {},
   "outputs": [
    {
     "data": {
      "application/vnd.plotly.v1+json": {
       "config": {
        "plotlyServerURL": "https://plot.ly"
       },
       "data": [
        {
         "lat": [
          -28.8166236,
          1.4419683,
          1.5333554,
          -79.4063075,
          35.000074,
          36.5748441,
          22.3511148,
          -24.7761086,
          -41.5000831,
          8.9995549,
          51.0834196,
          46.603354,
          64.6863136,
          39.7837304,
          61.0666922,
          77.6192349,
          -10.3333333,
          -1.3397668,
          -34.9964963
         ],
         "lon": [
          24.991639,
          38.4313975,
          32.2166578,
          0.3149312,
          104.999927,
          139.2394179,
          78.6677428,
          134.755,
          172.8344077,
          168.0002575,
          10.4234469,
          1.8883335,
          97.7453061,
          -100.445882,
          -107.991707,
          -42.8125967,
          -53.2,
          -79.3666965,
          -64.9672817
         ],
         "marker": {
          "color": [
           14695,
           4295,
           2547,
           2124,
           18417,
           12843,
           12420,
           20618,
           5422,
           368,
           59204,
           36778,
           34456,
           118585,
           21391,
           9715,
           21900,
           4798,
           4759
          ],
          "colorbar": {
           "title": {
            "text": "Кол-во взлёт/посадок"
           }
          }
         },
         "text": [
          "South Africa",
          "Kenya",
          "Uganda",
          "Antarctica",
          "China",
          "Japan",
          "India",
          "Australia",
          "New Zealand",
          "Marshall Islands",
          "Germany",
          "France",
          "Russia",
          "United States",
          "Canada",
          "Greenland",
          "Brazil",
          "Ecuador",
          "Argentina"
         ],
         "type": "scattermapbox"
        }
       ],
       "layout": {
        "mapbox": {
         "style": "open-street-map"
        },
        "template": {
         "data": {
          "bar": [
           {
            "error_x": {
             "color": "#2a3f5f"
            },
            "error_y": {
             "color": "#2a3f5f"
            },
            "marker": {
             "line": {
              "color": "#E5ECF6",
              "width": 0.5
             },
             "pattern": {
              "fillmode": "overlay",
              "size": 10,
              "solidity": 0.2
             }
            },
            "type": "bar"
           }
          ],
          "barpolar": [
           {
            "marker": {
             "line": {
              "color": "#E5ECF6",
              "width": 0.5
             },
             "pattern": {
              "fillmode": "overlay",
              "size": 10,
              "solidity": 0.2
             }
            },
            "type": "barpolar"
           }
          ],
          "carpet": [
           {
            "aaxis": {
             "endlinecolor": "#2a3f5f",
             "gridcolor": "white",
             "linecolor": "white",
             "minorgridcolor": "white",
             "startlinecolor": "#2a3f5f"
            },
            "baxis": {
             "endlinecolor": "#2a3f5f",
             "gridcolor": "white",
             "linecolor": "white",
             "minorgridcolor": "white",
             "startlinecolor": "#2a3f5f"
            },
            "type": "carpet"
           }
          ],
          "choropleth": [
           {
            "colorbar": {
             "outlinewidth": 0,
             "ticks": ""
            },
            "type": "choropleth"
           }
          ],
          "contour": [
           {
            "colorbar": {
             "outlinewidth": 0,
             "ticks": ""
            },
            "colorscale": [
             [
              0,
              "#0d0887"
             ],
             [
              0.1111111111111111,
              "#46039f"
             ],
             [
              0.2222222222222222,
              "#7201a8"
             ],
             [
              0.3333333333333333,
              "#9c179e"
             ],
             [
              0.4444444444444444,
              "#bd3786"
             ],
             [
              0.5555555555555556,
              "#d8576b"
             ],
             [
              0.6666666666666666,
              "#ed7953"
             ],
             [
              0.7777777777777778,
              "#fb9f3a"
             ],
             [
              0.8888888888888888,
              "#fdca26"
             ],
             [
              1,
              "#f0f921"
             ]
            ],
            "type": "contour"
           }
          ],
          "contourcarpet": [
           {
            "colorbar": {
             "outlinewidth": 0,
             "ticks": ""
            },
            "type": "contourcarpet"
           }
          ],
          "heatmap": [
           {
            "colorbar": {
             "outlinewidth": 0,
             "ticks": ""
            },
            "colorscale": [
             [
              0,
              "#0d0887"
             ],
             [
              0.1111111111111111,
              "#46039f"
             ],
             [
              0.2222222222222222,
              "#7201a8"
             ],
             [
              0.3333333333333333,
              "#9c179e"
             ],
             [
              0.4444444444444444,
              "#bd3786"
             ],
             [
              0.5555555555555556,
              "#d8576b"
             ],
             [
              0.6666666666666666,
              "#ed7953"
             ],
             [
              0.7777777777777778,
              "#fb9f3a"
             ],
             [
              0.8888888888888888,
              "#fdca26"
             ],
             [
              1,
              "#f0f921"
             ]
            ],
            "type": "heatmap"
           }
          ],
          "heatmapgl": [
           {
            "colorbar": {
             "outlinewidth": 0,
             "ticks": ""
            },
            "colorscale": [
             [
              0,
              "#0d0887"
             ],
             [
              0.1111111111111111,
              "#46039f"
             ],
             [
              0.2222222222222222,
              "#7201a8"
             ],
             [
              0.3333333333333333,
              "#9c179e"
             ],
             [
              0.4444444444444444,
              "#bd3786"
             ],
             [
              0.5555555555555556,
              "#d8576b"
             ],
             [
              0.6666666666666666,
              "#ed7953"
             ],
             [
              0.7777777777777778,
              "#fb9f3a"
             ],
             [
              0.8888888888888888,
              "#fdca26"
             ],
             [
              1,
              "#f0f921"
             ]
            ],
            "type": "heatmapgl"
           }
          ],
          "histogram": [
           {
            "marker": {
             "pattern": {
              "fillmode": "overlay",
              "size": 10,
              "solidity": 0.2
             }
            },
            "type": "histogram"
           }
          ],
          "histogram2d": [
           {
            "colorbar": {
             "outlinewidth": 0,
             "ticks": ""
            },
            "colorscale": [
             [
              0,
              "#0d0887"
             ],
             [
              0.1111111111111111,
              "#46039f"
             ],
             [
              0.2222222222222222,
              "#7201a8"
             ],
             [
              0.3333333333333333,
              "#9c179e"
             ],
             [
              0.4444444444444444,
              "#bd3786"
             ],
             [
              0.5555555555555556,
              "#d8576b"
             ],
             [
              0.6666666666666666,
              "#ed7953"
             ],
             [
              0.7777777777777778,
              "#fb9f3a"
             ],
             [
              0.8888888888888888,
              "#fdca26"
             ],
             [
              1,
              "#f0f921"
             ]
            ],
            "type": "histogram2d"
           }
          ],
          "histogram2dcontour": [
           {
            "colorbar": {
             "outlinewidth": 0,
             "ticks": ""
            },
            "colorscale": [
             [
              0,
              "#0d0887"
             ],
             [
              0.1111111111111111,
              "#46039f"
             ],
             [
              0.2222222222222222,
              "#7201a8"
             ],
             [
              0.3333333333333333,
              "#9c179e"
             ],
             [
              0.4444444444444444,
              "#bd3786"
             ],
             [
              0.5555555555555556,
              "#d8576b"
             ],
             [
              0.6666666666666666,
              "#ed7953"
             ],
             [
              0.7777777777777778,
              "#fb9f3a"
             ],
             [
              0.8888888888888888,
              "#fdca26"
             ],
             [
              1,
              "#f0f921"
             ]
            ],
            "type": "histogram2dcontour"
           }
          ],
          "mesh3d": [
           {
            "colorbar": {
             "outlinewidth": 0,
             "ticks": ""
            },
            "type": "mesh3d"
           }
          ],
          "parcoords": [
           {
            "line": {
             "colorbar": {
              "outlinewidth": 0,
              "ticks": ""
             }
            },
            "type": "parcoords"
           }
          ],
          "pie": [
           {
            "automargin": true,
            "type": "pie"
           }
          ],
          "scatter": [
           {
            "fillpattern": {
             "fillmode": "overlay",
             "size": 10,
             "solidity": 0.2
            },
            "type": "scatter"
           }
          ],
          "scatter3d": [
           {
            "line": {
             "colorbar": {
              "outlinewidth": 0,
              "ticks": ""
             }
            },
            "marker": {
             "colorbar": {
              "outlinewidth": 0,
              "ticks": ""
             }
            },
            "type": "scatter3d"
           }
          ],
          "scattercarpet": [
           {
            "marker": {
             "colorbar": {
              "outlinewidth": 0,
              "ticks": ""
             }
            },
            "type": "scattercarpet"
           }
          ],
          "scattergeo": [
           {
            "marker": {
             "colorbar": {
              "outlinewidth": 0,
              "ticks": ""
             }
            },
            "type": "scattergeo"
           }
          ],
          "scattergl": [
           {
            "marker": {
             "colorbar": {
              "outlinewidth": 0,
              "ticks": ""
             }
            },
            "type": "scattergl"
           }
          ],
          "scattermapbox": [
           {
            "marker": {
             "colorbar": {
              "outlinewidth": 0,
              "ticks": ""
             }
            },
            "type": "scattermapbox"
           }
          ],
          "scatterpolar": [
           {
            "marker": {
             "colorbar": {
              "outlinewidth": 0,
              "ticks": ""
             }
            },
            "type": "scatterpolar"
           }
          ],
          "scatterpolargl": [
           {
            "marker": {
             "colorbar": {
              "outlinewidth": 0,
              "ticks": ""
             }
            },
            "type": "scatterpolargl"
           }
          ],
          "scatterternary": [
           {
            "marker": {
             "colorbar": {
              "outlinewidth": 0,
              "ticks": ""
             }
            },
            "type": "scatterternary"
           }
          ],
          "surface": [
           {
            "colorbar": {
             "outlinewidth": 0,
             "ticks": ""
            },
            "colorscale": [
             [
              0,
              "#0d0887"
             ],
             [
              0.1111111111111111,
              "#46039f"
             ],
             [
              0.2222222222222222,
              "#7201a8"
             ],
             [
              0.3333333333333333,
              "#9c179e"
             ],
             [
              0.4444444444444444,
              "#bd3786"
             ],
             [
              0.5555555555555556,
              "#d8576b"
             ],
             [
              0.6666666666666666,
              "#ed7953"
             ],
             [
              0.7777777777777778,
              "#fb9f3a"
             ],
             [
              0.8888888888888888,
              "#fdca26"
             ],
             [
              1,
              "#f0f921"
             ]
            ],
            "type": "surface"
           }
          ],
          "table": [
           {
            "cells": {
             "fill": {
              "color": "#EBF0F8"
             },
             "line": {
              "color": "white"
             }
            },
            "header": {
             "fill": {
              "color": "#C8D4E3"
             },
             "line": {
              "color": "white"
             }
            },
            "type": "table"
           }
          ]
         },
         "layout": {
          "annotationdefaults": {
           "arrowcolor": "#2a3f5f",
           "arrowhead": 0,
           "arrowwidth": 1
          },
          "autotypenumbers": "strict",
          "coloraxis": {
           "colorbar": {
            "outlinewidth": 0,
            "ticks": ""
           }
          },
          "colorscale": {
           "diverging": [
            [
             0,
             "#8e0152"
            ],
            [
             0.1,
             "#c51b7d"
            ],
            [
             0.2,
             "#de77ae"
            ],
            [
             0.3,
             "#f1b6da"
            ],
            [
             0.4,
             "#fde0ef"
            ],
            [
             0.5,
             "#f7f7f7"
            ],
            [
             0.6,
             "#e6f5d0"
            ],
            [
             0.7,
             "#b8e186"
            ],
            [
             0.8,
             "#7fbc41"
            ],
            [
             0.9,
             "#4d9221"
            ],
            [
             1,
             "#276419"
            ]
           ],
           "sequential": [
            [
             0,
             "#0d0887"
            ],
            [
             0.1111111111111111,
             "#46039f"
            ],
            [
             0.2222222222222222,
             "#7201a8"
            ],
            [
             0.3333333333333333,
             "#9c179e"
            ],
            [
             0.4444444444444444,
             "#bd3786"
            ],
            [
             0.5555555555555556,
             "#d8576b"
            ],
            [
             0.6666666666666666,
             "#ed7953"
            ],
            [
             0.7777777777777778,
             "#fb9f3a"
            ],
            [
             0.8888888888888888,
             "#fdca26"
            ],
            [
             1,
             "#f0f921"
            ]
           ],
           "sequentialminus": [
            [
             0,
             "#0d0887"
            ],
            [
             0.1111111111111111,
             "#46039f"
            ],
            [
             0.2222222222222222,
             "#7201a8"
            ],
            [
             0.3333333333333333,
             "#9c179e"
            ],
            [
             0.4444444444444444,
             "#bd3786"
            ],
            [
             0.5555555555555556,
             "#d8576b"
            ],
            [
             0.6666666666666666,
             "#ed7953"
            ],
            [
             0.7777777777777778,
             "#fb9f3a"
            ],
            [
             0.8888888888888888,
             "#fdca26"
            ],
            [
             1,
             "#f0f921"
            ]
           ]
          },
          "colorway": [
           "#636efa",
           "#EF553B",
           "#00cc96",
           "#ab63fa",
           "#FFA15A",
           "#19d3f3",
           "#FF6692",
           "#B6E880",
           "#FF97FF",
           "#FECB52"
          ],
          "font": {
           "color": "#2a3f5f"
          },
          "geo": {
           "bgcolor": "white",
           "lakecolor": "white",
           "landcolor": "#E5ECF6",
           "showlakes": true,
           "showland": true,
           "subunitcolor": "white"
          },
          "hoverlabel": {
           "align": "left"
          },
          "hovermode": "closest",
          "mapbox": {
           "style": "light"
          },
          "paper_bgcolor": "white",
          "plot_bgcolor": "#E5ECF6",
          "polar": {
           "angularaxis": {
            "gridcolor": "white",
            "linecolor": "white",
            "ticks": ""
           },
           "bgcolor": "#E5ECF6",
           "radialaxis": {
            "gridcolor": "white",
            "linecolor": "white",
            "ticks": ""
           }
          },
          "scene": {
           "xaxis": {
            "backgroundcolor": "#E5ECF6",
            "gridcolor": "white",
            "gridwidth": 2,
            "linecolor": "white",
            "showbackground": true,
            "ticks": "",
            "zerolinecolor": "white"
           },
           "yaxis": {
            "backgroundcolor": "#E5ECF6",
            "gridcolor": "white",
            "gridwidth": 2,
            "linecolor": "white",
            "showbackground": true,
            "ticks": "",
            "zerolinecolor": "white"
           },
           "zaxis": {
            "backgroundcolor": "#E5ECF6",
            "gridcolor": "white",
            "gridwidth": 2,
            "linecolor": "white",
            "showbackground": true,
            "ticks": "",
            "zerolinecolor": "white"
           }
          },
          "shapedefaults": {
           "line": {
            "color": "#2a3f5f"
           }
          },
          "ternary": {
           "aaxis": {
            "gridcolor": "white",
            "linecolor": "white",
            "ticks": ""
           },
           "baxis": {
            "gridcolor": "white",
            "linecolor": "white",
            "ticks": ""
           },
           "bgcolor": "#E5ECF6",
           "caxis": {
            "gridcolor": "white",
            "linecolor": "white",
            "ticks": ""
           }
          },
          "title": {
           "x": 0.05
          },
          "xaxis": {
           "automargin": true,
           "gridcolor": "white",
           "linecolor": "white",
           "ticks": "",
           "title": {
            "standoff": 15
           },
           "zerolinecolor": "white",
           "zerolinewidth": 2
          },
          "yaxis": {
           "automargin": true,
           "gridcolor": "white",
           "linecolor": "white",
           "ticks": "",
           "title": {
            "standoff": 15
           },
           "zerolinecolor": "white",
           "zerolinewidth": 2
          }
         }
        },
        "title": {
         "text": "Страны с наибольшим количеством взлётов/посадок для каждого континента"
        }
       }
      },
      "text/html": [
       "<div>                            <div id=\"1a346b97-e46e-4008-88a0-bb3af002d5d6\" class=\"plotly-graph-div\" style=\"height:525px; width:100%;\"></div>            <script type=\"text/javascript\">                require([\"plotly\"], function(Plotly) {                    window.PLOTLYENV=window.PLOTLYENV || {};                                    if (document.getElementById(\"1a346b97-e46e-4008-88a0-bb3af002d5d6\")) {                    Plotly.newPlot(                        \"1a346b97-e46e-4008-88a0-bb3af002d5d6\",                        [{\"lat\":[-28.8166236,1.4419683,1.5333554,-79.4063075,35.000074,36.5748441,22.3511148,-24.7761086,-41.5000831,8.9995549,51.0834196,46.603354,64.6863136,39.7837304,61.0666922,77.6192349,-10.3333333,-1.3397668,-34.9964963],\"lon\":[24.991639,38.4313975,32.2166578,0.3149312,104.999927,139.2394179,78.6677428,134.755,172.8344077,168.0002575,10.4234469,1.8883335,97.7453061,-100.445882,-107.991707,-42.8125967,-53.2,-79.3666965,-64.9672817],\"marker\":{\"color\":[14695,4295,2547,2124,18417,12843,12420,20618,5422,368,59204,36778,34456,118585,21391,9715,21900,4798,4759],\"colorbar\":{\"title\":{\"text\":\"\\u041a\\u043e\\u043b-\\u0432\\u043e \\u0432\\u0437\\u043b\\u0451\\u0442/\\u043f\\u043e\\u0441\\u0430\\u0434\\u043e\\u043a\"}}},\"text\":[\"South Africa\",\"Kenya\",\"Uganda\",\"Antarctica\",\"China\",\"Japan\",\"India\",\"Australia\",\"New Zealand\",\"Marshall Islands\",\"Germany\",\"France\",\"Russia\",\"United States\",\"Canada\",\"Greenland\",\"Brazil\",\"Ecuador\",\"Argentina\"],\"type\":\"scattermapbox\"}],                        {\"template\":{\"data\":{\"histogram2dcontour\":[{\"type\":\"histogram2dcontour\",\"colorbar\":{\"outlinewidth\":0,\"ticks\":\"\"},\"colorscale\":[[0.0,\"#0d0887\"],[0.1111111111111111,\"#46039f\"],[0.2222222222222222,\"#7201a8\"],[0.3333333333333333,\"#9c179e\"],[0.4444444444444444,\"#bd3786\"],[0.5555555555555556,\"#d8576b\"],[0.6666666666666666,\"#ed7953\"],[0.7777777777777778,\"#fb9f3a\"],[0.8888888888888888,\"#fdca26\"],[1.0,\"#f0f921\"]]}],\"choropleth\":[{\"type\":\"choropleth\",\"colorbar\":{\"outlinewidth\":0,\"ticks\":\"\"}}],\"histogram2d\":[{\"type\":\"histogram2d\",\"colorbar\":{\"outlinewidth\":0,\"ticks\":\"\"},\"colorscale\":[[0.0,\"#0d0887\"],[0.1111111111111111,\"#46039f\"],[0.2222222222222222,\"#7201a8\"],[0.3333333333333333,\"#9c179e\"],[0.4444444444444444,\"#bd3786\"],[0.5555555555555556,\"#d8576b\"],[0.6666666666666666,\"#ed7953\"],[0.7777777777777778,\"#fb9f3a\"],[0.8888888888888888,\"#fdca26\"],[1.0,\"#f0f921\"]]}],\"heatmap\":[{\"type\":\"heatmap\",\"colorbar\":{\"outlinewidth\":0,\"ticks\":\"\"},\"colorscale\":[[0.0,\"#0d0887\"],[0.1111111111111111,\"#46039f\"],[0.2222222222222222,\"#7201a8\"],[0.3333333333333333,\"#9c179e\"],[0.4444444444444444,\"#bd3786\"],[0.5555555555555556,\"#d8576b\"],[0.6666666666666666,\"#ed7953\"],[0.7777777777777778,\"#fb9f3a\"],[0.8888888888888888,\"#fdca26\"],[1.0,\"#f0f921\"]]}],\"heatmapgl\":[{\"type\":\"heatmapgl\",\"colorbar\":{\"outlinewidth\":0,\"ticks\":\"\"},\"colorscale\":[[0.0,\"#0d0887\"],[0.1111111111111111,\"#46039f\"],[0.2222222222222222,\"#7201a8\"],[0.3333333333333333,\"#9c179e\"],[0.4444444444444444,\"#bd3786\"],[0.5555555555555556,\"#d8576b\"],[0.6666666666666666,\"#ed7953\"],[0.7777777777777778,\"#fb9f3a\"],[0.8888888888888888,\"#fdca26\"],[1.0,\"#f0f921\"]]}],\"contourcarpet\":[{\"type\":\"contourcarpet\",\"colorbar\":{\"outlinewidth\":0,\"ticks\":\"\"}}],\"contour\":[{\"type\":\"contour\",\"colorbar\":{\"outlinewidth\":0,\"ticks\":\"\"},\"colorscale\":[[0.0,\"#0d0887\"],[0.1111111111111111,\"#46039f\"],[0.2222222222222222,\"#7201a8\"],[0.3333333333333333,\"#9c179e\"],[0.4444444444444444,\"#bd3786\"],[0.5555555555555556,\"#d8576b\"],[0.6666666666666666,\"#ed7953\"],[0.7777777777777778,\"#fb9f3a\"],[0.8888888888888888,\"#fdca26\"],[1.0,\"#f0f921\"]]}],\"surface\":[{\"type\":\"surface\",\"colorbar\":{\"outlinewidth\":0,\"ticks\":\"\"},\"colorscale\":[[0.0,\"#0d0887\"],[0.1111111111111111,\"#46039f\"],[0.2222222222222222,\"#7201a8\"],[0.3333333333333333,\"#9c179e\"],[0.4444444444444444,\"#bd3786\"],[0.5555555555555556,\"#d8576b\"],[0.6666666666666666,\"#ed7953\"],[0.7777777777777778,\"#fb9f3a\"],[0.8888888888888888,\"#fdca26\"],[1.0,\"#f0f921\"]]}],\"mesh3d\":[{\"type\":\"mesh3d\",\"colorbar\":{\"outlinewidth\":0,\"ticks\":\"\"}}],\"scatter\":[{\"fillpattern\":{\"fillmode\":\"overlay\",\"size\":10,\"solidity\":0.2},\"type\":\"scatter\"}],\"parcoords\":[{\"type\":\"parcoords\",\"line\":{\"colorbar\":{\"outlinewidth\":0,\"ticks\":\"\"}}}],\"scatterpolargl\":[{\"type\":\"scatterpolargl\",\"marker\":{\"colorbar\":{\"outlinewidth\":0,\"ticks\":\"\"}}}],\"bar\":[{\"error_x\":{\"color\":\"#2a3f5f\"},\"error_y\":{\"color\":\"#2a3f5f\"},\"marker\":{\"line\":{\"color\":\"#E5ECF6\",\"width\":0.5},\"pattern\":{\"fillmode\":\"overlay\",\"size\":10,\"solidity\":0.2}},\"type\":\"bar\"}],\"scattergeo\":[{\"type\":\"scattergeo\",\"marker\":{\"colorbar\":{\"outlinewidth\":0,\"ticks\":\"\"}}}],\"scatterpolar\":[{\"type\":\"scatterpolar\",\"marker\":{\"colorbar\":{\"outlinewidth\":0,\"ticks\":\"\"}}}],\"histogram\":[{\"marker\":{\"pattern\":{\"fillmode\":\"overlay\",\"size\":10,\"solidity\":0.2}},\"type\":\"histogram\"}],\"scattergl\":[{\"type\":\"scattergl\",\"marker\":{\"colorbar\":{\"outlinewidth\":0,\"ticks\":\"\"}}}],\"scatter3d\":[{\"type\":\"scatter3d\",\"line\":{\"colorbar\":{\"outlinewidth\":0,\"ticks\":\"\"}},\"marker\":{\"colorbar\":{\"outlinewidth\":0,\"ticks\":\"\"}}}],\"scattermapbox\":[{\"type\":\"scattermapbox\",\"marker\":{\"colorbar\":{\"outlinewidth\":0,\"ticks\":\"\"}}}],\"scatterternary\":[{\"type\":\"scatterternary\",\"marker\":{\"colorbar\":{\"outlinewidth\":0,\"ticks\":\"\"}}}],\"scattercarpet\":[{\"type\":\"scattercarpet\",\"marker\":{\"colorbar\":{\"outlinewidth\":0,\"ticks\":\"\"}}}],\"carpet\":[{\"aaxis\":{\"endlinecolor\":\"#2a3f5f\",\"gridcolor\":\"white\",\"linecolor\":\"white\",\"minorgridcolor\":\"white\",\"startlinecolor\":\"#2a3f5f\"},\"baxis\":{\"endlinecolor\":\"#2a3f5f\",\"gridcolor\":\"white\",\"linecolor\":\"white\",\"minorgridcolor\":\"white\",\"startlinecolor\":\"#2a3f5f\"},\"type\":\"carpet\"}],\"table\":[{\"cells\":{\"fill\":{\"color\":\"#EBF0F8\"},\"line\":{\"color\":\"white\"}},\"header\":{\"fill\":{\"color\":\"#C8D4E3\"},\"line\":{\"color\":\"white\"}},\"type\":\"table\"}],\"barpolar\":[{\"marker\":{\"line\":{\"color\":\"#E5ECF6\",\"width\":0.5},\"pattern\":{\"fillmode\":\"overlay\",\"size\":10,\"solidity\":0.2}},\"type\":\"barpolar\"}],\"pie\":[{\"automargin\":true,\"type\":\"pie\"}]},\"layout\":{\"autotypenumbers\":\"strict\",\"colorway\":[\"#636efa\",\"#EF553B\",\"#00cc96\",\"#ab63fa\",\"#FFA15A\",\"#19d3f3\",\"#FF6692\",\"#B6E880\",\"#FF97FF\",\"#FECB52\"],\"font\":{\"color\":\"#2a3f5f\"},\"hovermode\":\"closest\",\"hoverlabel\":{\"align\":\"left\"},\"paper_bgcolor\":\"white\",\"plot_bgcolor\":\"#E5ECF6\",\"polar\":{\"bgcolor\":\"#E5ECF6\",\"angularaxis\":{\"gridcolor\":\"white\",\"linecolor\":\"white\",\"ticks\":\"\"},\"radialaxis\":{\"gridcolor\":\"white\",\"linecolor\":\"white\",\"ticks\":\"\"}},\"ternary\":{\"bgcolor\":\"#E5ECF6\",\"aaxis\":{\"gridcolor\":\"white\",\"linecolor\":\"white\",\"ticks\":\"\"},\"baxis\":{\"gridcolor\":\"white\",\"linecolor\":\"white\",\"ticks\":\"\"},\"caxis\":{\"gridcolor\":\"white\",\"linecolor\":\"white\",\"ticks\":\"\"}},\"coloraxis\":{\"colorbar\":{\"outlinewidth\":0,\"ticks\":\"\"}},\"colorscale\":{\"sequential\":[[0.0,\"#0d0887\"],[0.1111111111111111,\"#46039f\"],[0.2222222222222222,\"#7201a8\"],[0.3333333333333333,\"#9c179e\"],[0.4444444444444444,\"#bd3786\"],[0.5555555555555556,\"#d8576b\"],[0.6666666666666666,\"#ed7953\"],[0.7777777777777778,\"#fb9f3a\"],[0.8888888888888888,\"#fdca26\"],[1.0,\"#f0f921\"]],\"sequentialminus\":[[0.0,\"#0d0887\"],[0.1111111111111111,\"#46039f\"],[0.2222222222222222,\"#7201a8\"],[0.3333333333333333,\"#9c179e\"],[0.4444444444444444,\"#bd3786\"],[0.5555555555555556,\"#d8576b\"],[0.6666666666666666,\"#ed7953\"],[0.7777777777777778,\"#fb9f3a\"],[0.8888888888888888,\"#fdca26\"],[1.0,\"#f0f921\"]],\"diverging\":[[0,\"#8e0152\"],[0.1,\"#c51b7d\"],[0.2,\"#de77ae\"],[0.3,\"#f1b6da\"],[0.4,\"#fde0ef\"],[0.5,\"#f7f7f7\"],[0.6,\"#e6f5d0\"],[0.7,\"#b8e186\"],[0.8,\"#7fbc41\"],[0.9,\"#4d9221\"],[1,\"#276419\"]]},\"xaxis\":{\"gridcolor\":\"white\",\"linecolor\":\"white\",\"ticks\":\"\",\"title\":{\"standoff\":15},\"zerolinecolor\":\"white\",\"automargin\":true,\"zerolinewidth\":2},\"yaxis\":{\"gridcolor\":\"white\",\"linecolor\":\"white\",\"ticks\":\"\",\"title\":{\"standoff\":15},\"zerolinecolor\":\"white\",\"automargin\":true,\"zerolinewidth\":2},\"scene\":{\"xaxis\":{\"backgroundcolor\":\"#E5ECF6\",\"gridcolor\":\"white\",\"linecolor\":\"white\",\"showbackground\":true,\"ticks\":\"\",\"zerolinecolor\":\"white\",\"gridwidth\":2},\"yaxis\":{\"backgroundcolor\":\"#E5ECF6\",\"gridcolor\":\"white\",\"linecolor\":\"white\",\"showbackground\":true,\"ticks\":\"\",\"zerolinecolor\":\"white\",\"gridwidth\":2},\"zaxis\":{\"backgroundcolor\":\"#E5ECF6\",\"gridcolor\":\"white\",\"linecolor\":\"white\",\"showbackground\":true,\"ticks\":\"\",\"zerolinecolor\":\"white\",\"gridwidth\":2}},\"shapedefaults\":{\"line\":{\"color\":\"#2a3f5f\"}},\"annotationdefaults\":{\"arrowcolor\":\"#2a3f5f\",\"arrowhead\":0,\"arrowwidth\":1},\"geo\":{\"bgcolor\":\"white\",\"landcolor\":\"#E5ECF6\",\"subunitcolor\":\"white\",\"showland\":true,\"showlakes\":true,\"lakecolor\":\"white\"},\"title\":{\"x\":0.05},\"mapbox\":{\"style\":\"light\"}}},\"mapbox\":{\"style\":\"open-street-map\"},\"title\":{\"text\":\"\\u0421\\u0442\\u0440\\u0430\\u043d\\u044b \\u0441 \\u043d\\u0430\\u0438\\u0431\\u043e\\u043b\\u044c\\u0448\\u0438\\u043c \\u043a\\u043e\\u043b\\u0438\\u0447\\u0435\\u0441\\u0442\\u0432\\u043e\\u043c \\u0432\\u0437\\u043b\\u0451\\u0442\\u043e\\u0432/\\u043f\\u043e\\u0441\\u0430\\u0434\\u043e\\u043a \\u0434\\u043b\\u044f \\u043a\\u0430\\u0436\\u0434\\u043e\\u0433\\u043e \\u043a\\u043e\\u043d\\u0442\\u0438\\u043d\\u0435\\u043d\\u0442\\u0430\"}},                        {\"responsive\": true}                    ).then(function(){\n",
       "                            \n",
       "var gd = document.getElementById('1a346b97-e46e-4008-88a0-bb3af002d5d6');\n",
       "var x = new MutationObserver(function (mutations, observer) {{\n",
       "        var display = window.getComputedStyle(gd).display;\n",
       "        if (!display || display === 'none') {{\n",
       "            console.log([gd, 'removed!']);\n",
       "            Plotly.purge(gd);\n",
       "            observer.disconnect();\n",
       "        }}\n",
       "}});\n",
       "\n",
       "// Listen for the removal of the full notebook cells\n",
       "var notebookContainer = gd.closest('#notebook-container');\n",
       "if (notebookContainer) {{\n",
       "    x.observe(notebookContainer, {childList: true});\n",
       "}}\n",
       "\n",
       "// Listen for the clearing of the current output cell\n",
       "var outputEl = gd.closest('.output');\n",
       "if (outputEl) {{\n",
       "    x.observe(outputEl, {childList: true});\n",
       "}}\n",
       "\n",
       "                        })                };                });            </script>        </div>"
      ]
     },
     "metadata": {},
     "output_type": "display_data"
    }
   ],
   "source": [
    "# Нанесение стран на карту\n",
    "fig = go.Figure(go.Scattermapbox(lat=top3_for_cont['Latitude'], \n",
    "                                 lon=top3_for_cont['Longitude'], \n",
    "                                 text=top3_for_cont['Country'],\n",
    "                                 marker=dict(colorbar=dict(title=\"Кол-во взлёт/посадок\"),\n",
    "                                             color=top3_for_cont['took_off_landed']\n",
    "                                             #size=top5_for_cont_coord['took_off_landed'] /50)\n",
    "                                )))\n",
    "\n",
    "title7 = 'Страны с наибольшим количеством взлётов/посадок для каждого континента'\n",
    "\n",
    "fig.update_layout(title = title7, mapbox_style=\"open-street-map\")\n",
    "\n",
    "fig.show()"
   ]
  },
  {
   "cell_type": "markdown",
   "id": "50f39571",
   "metadata": {},
   "source": [
    "# Задание 8\n",
    "\n",
    "Для каждого континента отобрать 5 наиболее крупных аэропортов с наибольшим количеством взлет посадок и нанести их на географическую карту. "
   ]
  },
  {
   "cell_type": "code",
   "execution_count": 39,
   "id": "543b8591",
   "metadata": {
    "scrolled": true
   },
   "outputs": [
    {
     "data": {
      "text/html": [
       "<div>\n",
       "<style scoped>\n",
       "    .dataframe tbody tr th:only-of-type {\n",
       "        vertical-align: middle;\n",
       "    }\n",
       "\n",
       "    .dataframe tbody tr th {\n",
       "        vertical-align: top;\n",
       "    }\n",
       "\n",
       "    .dataframe thead th {\n",
       "        text-align: right;\n",
       "    }\n",
       "</style>\n",
       "<table border=\"1\" class=\"dataframe\">\n",
       "  <thead>\n",
       "    <tr style=\"text-align: right;\">\n",
       "      <th></th>\n",
       "      <th>Continent</th>\n",
       "      <th>took_off_landed</th>\n",
       "      <th>Name</th>\n",
       "      <th>Latitude</th>\n",
       "      <th>Longitude</th>\n",
       "    </tr>\n",
       "  </thead>\n",
       "  <tbody>\n",
       "    <tr>\n",
       "      <th>0</th>\n",
       "      <td>Africa</td>\n",
       "      <td>354</td>\n",
       "      <td>Ain Oussera Airport</td>\n",
       "      <td>35.525398</td>\n",
       "      <td>2.878710</td>\n",
       "    </tr>\n",
       "    <tr>\n",
       "      <th>1</th>\n",
       "      <td>Africa</td>\n",
       "      <td>354</td>\n",
       "      <td>Aliwal North Airport</td>\n",
       "      <td>-30.680000</td>\n",
       "      <td>26.730000</td>\n",
       "    </tr>\n",
       "    <tr>\n",
       "      <th>2</th>\n",
       "      <td>Africa</td>\n",
       "      <td>354</td>\n",
       "      <td>Alkantpan Copper Airport</td>\n",
       "      <td>-29.906401</td>\n",
       "      <td>22.316700</td>\n",
       "    </tr>\n",
       "    <tr>\n",
       "      <th>3</th>\n",
       "      <td>Africa</td>\n",
       "      <td>354</td>\n",
       "      <td>Almaza Air Force Base</td>\n",
       "      <td>30.091801</td>\n",
       "      <td>31.360001</td>\n",
       "    </tr>\n",
       "    <tr>\n",
       "      <th>4</th>\n",
       "      <td>Africa</td>\n",
       "      <td>354</td>\n",
       "      <td>Alphonse Airport</td>\n",
       "      <td>-7.004780</td>\n",
       "      <td>52.726200</td>\n",
       "    </tr>\n",
       "  </tbody>\n",
       "</table>\n",
       "</div>"
      ],
      "text/plain": [
       "  Continent  took_off_landed                      Name   Latitude  Longitude\n",
       "0    Africa              354       Ain Oussera Airport  35.525398   2.878710\n",
       "1    Africa              354      Aliwal North Airport -30.680000  26.730000\n",
       "2    Africa              354  Alkantpan Copper Airport -29.906401  22.316700\n",
       "3    Africa              354     Almaza Air Force Base  30.091801  31.360001\n",
       "4    Africa              354          Alphonse Airport  -7.004780  52.726200"
      ]
     },
     "execution_count": 39,
     "metadata": {},
     "output_type": "execute_result"
    }
   ],
   "source": [
    "table8 = df_raw_airport.merge(table3, how='left', on='IATA')\\\n",
    "                   .groupby(['Continent', 'Name'], as_index=False)\\\n",
    "                   .agg({'took-off': 'sum', 'landed': 'sum'})\n",
    "\n",
    "table8['took_off_landed'] = table8['took-off'] + table8['landed']\n",
    "table8.drop(['took-off', 'landed'], axis=1, inplace=True)\n",
    "\n",
    "top5_for_cont = table8.groupby(['Continent'])['took_off_landed'].nlargest(5).reset_index()\\\n",
    "                                    .merge(table8['Name'], left_on='level_1', \n",
    "                                        right_on = table8.index)\\\n",
    "                                    .drop('level_1', axis=1)    \n",
    "\n",
    "top5_for_cont_coord = top5_for_cont.merge(df_raw_airport[['Name', 'Latitude','Longitude']], \n",
    "                                                left_on='Name', right_on = 'Name')\n",
    "\n",
    "\n",
    "top5_for_cont_coord['Latitude'] = pd.to_numeric(top5_for_cont_coord['Latitude'])\n",
    "top5_for_cont_coord['Longitude'] = pd.to_numeric(top5_for_cont_coord['Longitude'])\n",
    "\n",
    "top5_for_cont_coord.head()"
   ]
  },
  {
   "cell_type": "code",
   "execution_count": 40,
   "id": "19629ad8",
   "metadata": {},
   "outputs": [
    {
     "data": {
      "application/vnd.plotly.v1+json": {
       "config": {
        "plotlyServerURL": "https://plot.ly"
       },
       "data": [
        {
         "lat": [
          35.52539825439453,
          -30.68000030517578,
          -29.906400680541992,
          30.091800689697266,
          -7.00478,
          -64.2382965088,
          -77.85399627685547,
          -77.9634017944336,
          -90,
          -66.690833,
          40.0801010131836,
          31.143400192260746,
          1.35019,
          37.46910095214844,
          40.976898,
          -33.94609832763672,
          -40.0917015076,
          -33.730989,
          -34.7933006287,
          -21.655000686645508,
          -24.066699981689453,
          51.4706,
          49.012798,
          50.033333,
          52.308601,
          41.2971,
          33.6367,
          41.9786,
          33.94250107,
          32.896801,
          40.63980103,
          -23.435556411743164,
          4.998505,
          -8.833330154418945,
          2.5235,
          -3.3196699619293213
         ],
         "lon": [
          2.8787100315093994,
          26.729999542236328,
          22.316699981689453,
          31.36000061035156,
          52.7262,
          -56.6307983398,
          166.468994140625,
          166.52499389648438,
          0,
          111.523611,
          116.58499908447266,
          121.80500030517578,
          103.994003,
          126.45099639892578,
          28.8146,
          151.177001953125,
          147.992996216,
          134.501,
          138.632995605,
          135.22999572753906,
          132.26699829101562,
          -0.461941,
          2.55,
          8.570556,
          4.76389,
          2.07846,
          -84.428101,
          -87.9048,
          -118.4079971,
          -97.038002,
          -73.77890015,
          -46.47305679321289,
          -54.992033,
          -74.68329620361328,
          -56.3247,
          -79.76920318603516
         ],
         "marker": {
          "color": [
           354,
           354,
           354,
           354,
           354,
           354,
           354,
           354,
           354,
           354,
           1069,
           825,
           820,
           740,
           719,
           410,
           357,
           357,
           354,
           354,
           354,
           1051,
           1041,
           990,
           903,
           783,
           1826,
           1108,
           990,
           936,
           911,
           387,
           354,
           354,
           354,
           354
          ],
          "colorbar": {
           "title": {
            "text": "Кол-во взлёт/посадок"
           }
          }
         },
         "text": [
          "Ain Oussera Airport",
          "Aliwal North Airport",
          "Alkantpan Copper Airport",
          "Almaza Air Force Base",
          "Alphonse Airport",
          "Marambio Base",
          "McMurdo Station Ice Runway",
          "McMurdo Station Pegasus Field",
          "South Pole Station Airport",
          "Wilkins Runway",
          "Beijing Capital International Airport",
          "Shanghai Pudong International Airport",
          "Singapore Changi Airport",
          "Incheon International Airport",
          "Atatürk International Airport",
          "Sydney Kingsford Smith International Airport",
          "Flinders Island Airport",
          "Flinders Island Airport",
          "Adelaide Parafield Airport",
          "Ampilatwatja Airport",
          "Areyonga Airport",
          "London Heathrow Airport",
          "Charles de Gaulle International Airport",
          "Frankfurt am Main Airport",
          "Amsterdam Airport Schiphol",
          "Barcelona International Airport",
          "Hartsfield Jackson Atlanta International Airport",
          "Chicago O'Hare International Airport",
          "Los Angeles International Airport",
          "Dallas Fort Worth International Airport",
          "John F Kennedy International Airport",
          "Guarulhos - Governador André Franco Montoro International Airport",
          "Afobakka Airstrip",
          "Aguas Calientes Airport",
          "Alalapadu Airstrip",
          "Amable Calle Gutierrez Airport"
         ],
         "type": "scattermapbox"
        }
       ],
       "layout": {
        "mapbox": {
         "style": "open-street-map"
        },
        "template": {
         "data": {
          "bar": [
           {
            "error_x": {
             "color": "#2a3f5f"
            },
            "error_y": {
             "color": "#2a3f5f"
            },
            "marker": {
             "line": {
              "color": "#E5ECF6",
              "width": 0.5
             },
             "pattern": {
              "fillmode": "overlay",
              "size": 10,
              "solidity": 0.2
             }
            },
            "type": "bar"
           }
          ],
          "barpolar": [
           {
            "marker": {
             "line": {
              "color": "#E5ECF6",
              "width": 0.5
             },
             "pattern": {
              "fillmode": "overlay",
              "size": 10,
              "solidity": 0.2
             }
            },
            "type": "barpolar"
           }
          ],
          "carpet": [
           {
            "aaxis": {
             "endlinecolor": "#2a3f5f",
             "gridcolor": "white",
             "linecolor": "white",
             "minorgridcolor": "white",
             "startlinecolor": "#2a3f5f"
            },
            "baxis": {
             "endlinecolor": "#2a3f5f",
             "gridcolor": "white",
             "linecolor": "white",
             "minorgridcolor": "white",
             "startlinecolor": "#2a3f5f"
            },
            "type": "carpet"
           }
          ],
          "choropleth": [
           {
            "colorbar": {
             "outlinewidth": 0,
             "ticks": ""
            },
            "type": "choropleth"
           }
          ],
          "contour": [
           {
            "colorbar": {
             "outlinewidth": 0,
             "ticks": ""
            },
            "colorscale": [
             [
              0,
              "#0d0887"
             ],
             [
              0.1111111111111111,
              "#46039f"
             ],
             [
              0.2222222222222222,
              "#7201a8"
             ],
             [
              0.3333333333333333,
              "#9c179e"
             ],
             [
              0.4444444444444444,
              "#bd3786"
             ],
             [
              0.5555555555555556,
              "#d8576b"
             ],
             [
              0.6666666666666666,
              "#ed7953"
             ],
             [
              0.7777777777777778,
              "#fb9f3a"
             ],
             [
              0.8888888888888888,
              "#fdca26"
             ],
             [
              1,
              "#f0f921"
             ]
            ],
            "type": "contour"
           }
          ],
          "contourcarpet": [
           {
            "colorbar": {
             "outlinewidth": 0,
             "ticks": ""
            },
            "type": "contourcarpet"
           }
          ],
          "heatmap": [
           {
            "colorbar": {
             "outlinewidth": 0,
             "ticks": ""
            },
            "colorscale": [
             [
              0,
              "#0d0887"
             ],
             [
              0.1111111111111111,
              "#46039f"
             ],
             [
              0.2222222222222222,
              "#7201a8"
             ],
             [
              0.3333333333333333,
              "#9c179e"
             ],
             [
              0.4444444444444444,
              "#bd3786"
             ],
             [
              0.5555555555555556,
              "#d8576b"
             ],
             [
              0.6666666666666666,
              "#ed7953"
             ],
             [
              0.7777777777777778,
              "#fb9f3a"
             ],
             [
              0.8888888888888888,
              "#fdca26"
             ],
             [
              1,
              "#f0f921"
             ]
            ],
            "type": "heatmap"
           }
          ],
          "heatmapgl": [
           {
            "colorbar": {
             "outlinewidth": 0,
             "ticks": ""
            },
            "colorscale": [
             [
              0,
              "#0d0887"
             ],
             [
              0.1111111111111111,
              "#46039f"
             ],
             [
              0.2222222222222222,
              "#7201a8"
             ],
             [
              0.3333333333333333,
              "#9c179e"
             ],
             [
              0.4444444444444444,
              "#bd3786"
             ],
             [
              0.5555555555555556,
              "#d8576b"
             ],
             [
              0.6666666666666666,
              "#ed7953"
             ],
             [
              0.7777777777777778,
              "#fb9f3a"
             ],
             [
              0.8888888888888888,
              "#fdca26"
             ],
             [
              1,
              "#f0f921"
             ]
            ],
            "type": "heatmapgl"
           }
          ],
          "histogram": [
           {
            "marker": {
             "pattern": {
              "fillmode": "overlay",
              "size": 10,
              "solidity": 0.2
             }
            },
            "type": "histogram"
           }
          ],
          "histogram2d": [
           {
            "colorbar": {
             "outlinewidth": 0,
             "ticks": ""
            },
            "colorscale": [
             [
              0,
              "#0d0887"
             ],
             [
              0.1111111111111111,
              "#46039f"
             ],
             [
              0.2222222222222222,
              "#7201a8"
             ],
             [
              0.3333333333333333,
              "#9c179e"
             ],
             [
              0.4444444444444444,
              "#bd3786"
             ],
             [
              0.5555555555555556,
              "#d8576b"
             ],
             [
              0.6666666666666666,
              "#ed7953"
             ],
             [
              0.7777777777777778,
              "#fb9f3a"
             ],
             [
              0.8888888888888888,
              "#fdca26"
             ],
             [
              1,
              "#f0f921"
             ]
            ],
            "type": "histogram2d"
           }
          ],
          "histogram2dcontour": [
           {
            "colorbar": {
             "outlinewidth": 0,
             "ticks": ""
            },
            "colorscale": [
             [
              0,
              "#0d0887"
             ],
             [
              0.1111111111111111,
              "#46039f"
             ],
             [
              0.2222222222222222,
              "#7201a8"
             ],
             [
              0.3333333333333333,
              "#9c179e"
             ],
             [
              0.4444444444444444,
              "#bd3786"
             ],
             [
              0.5555555555555556,
              "#d8576b"
             ],
             [
              0.6666666666666666,
              "#ed7953"
             ],
             [
              0.7777777777777778,
              "#fb9f3a"
             ],
             [
              0.8888888888888888,
              "#fdca26"
             ],
             [
              1,
              "#f0f921"
             ]
            ],
            "type": "histogram2dcontour"
           }
          ],
          "mesh3d": [
           {
            "colorbar": {
             "outlinewidth": 0,
             "ticks": ""
            },
            "type": "mesh3d"
           }
          ],
          "parcoords": [
           {
            "line": {
             "colorbar": {
              "outlinewidth": 0,
              "ticks": ""
             }
            },
            "type": "parcoords"
           }
          ],
          "pie": [
           {
            "automargin": true,
            "type": "pie"
           }
          ],
          "scatter": [
           {
            "fillpattern": {
             "fillmode": "overlay",
             "size": 10,
             "solidity": 0.2
            },
            "type": "scatter"
           }
          ],
          "scatter3d": [
           {
            "line": {
             "colorbar": {
              "outlinewidth": 0,
              "ticks": ""
             }
            },
            "marker": {
             "colorbar": {
              "outlinewidth": 0,
              "ticks": ""
             }
            },
            "type": "scatter3d"
           }
          ],
          "scattercarpet": [
           {
            "marker": {
             "colorbar": {
              "outlinewidth": 0,
              "ticks": ""
             }
            },
            "type": "scattercarpet"
           }
          ],
          "scattergeo": [
           {
            "marker": {
             "colorbar": {
              "outlinewidth": 0,
              "ticks": ""
             }
            },
            "type": "scattergeo"
           }
          ],
          "scattergl": [
           {
            "marker": {
             "colorbar": {
              "outlinewidth": 0,
              "ticks": ""
             }
            },
            "type": "scattergl"
           }
          ],
          "scattermapbox": [
           {
            "marker": {
             "colorbar": {
              "outlinewidth": 0,
              "ticks": ""
             }
            },
            "type": "scattermapbox"
           }
          ],
          "scatterpolar": [
           {
            "marker": {
             "colorbar": {
              "outlinewidth": 0,
              "ticks": ""
             }
            },
            "type": "scatterpolar"
           }
          ],
          "scatterpolargl": [
           {
            "marker": {
             "colorbar": {
              "outlinewidth": 0,
              "ticks": ""
             }
            },
            "type": "scatterpolargl"
           }
          ],
          "scatterternary": [
           {
            "marker": {
             "colorbar": {
              "outlinewidth": 0,
              "ticks": ""
             }
            },
            "type": "scatterternary"
           }
          ],
          "surface": [
           {
            "colorbar": {
             "outlinewidth": 0,
             "ticks": ""
            },
            "colorscale": [
             [
              0,
              "#0d0887"
             ],
             [
              0.1111111111111111,
              "#46039f"
             ],
             [
              0.2222222222222222,
              "#7201a8"
             ],
             [
              0.3333333333333333,
              "#9c179e"
             ],
             [
              0.4444444444444444,
              "#bd3786"
             ],
             [
              0.5555555555555556,
              "#d8576b"
             ],
             [
              0.6666666666666666,
              "#ed7953"
             ],
             [
              0.7777777777777778,
              "#fb9f3a"
             ],
             [
              0.8888888888888888,
              "#fdca26"
             ],
             [
              1,
              "#f0f921"
             ]
            ],
            "type": "surface"
           }
          ],
          "table": [
           {
            "cells": {
             "fill": {
              "color": "#EBF0F8"
             },
             "line": {
              "color": "white"
             }
            },
            "header": {
             "fill": {
              "color": "#C8D4E3"
             },
             "line": {
              "color": "white"
             }
            },
            "type": "table"
           }
          ]
         },
         "layout": {
          "annotationdefaults": {
           "arrowcolor": "#2a3f5f",
           "arrowhead": 0,
           "arrowwidth": 1
          },
          "autotypenumbers": "strict",
          "coloraxis": {
           "colorbar": {
            "outlinewidth": 0,
            "ticks": ""
           }
          },
          "colorscale": {
           "diverging": [
            [
             0,
             "#8e0152"
            ],
            [
             0.1,
             "#c51b7d"
            ],
            [
             0.2,
             "#de77ae"
            ],
            [
             0.3,
             "#f1b6da"
            ],
            [
             0.4,
             "#fde0ef"
            ],
            [
             0.5,
             "#f7f7f7"
            ],
            [
             0.6,
             "#e6f5d0"
            ],
            [
             0.7,
             "#b8e186"
            ],
            [
             0.8,
             "#7fbc41"
            ],
            [
             0.9,
             "#4d9221"
            ],
            [
             1,
             "#276419"
            ]
           ],
           "sequential": [
            [
             0,
             "#0d0887"
            ],
            [
             0.1111111111111111,
             "#46039f"
            ],
            [
             0.2222222222222222,
             "#7201a8"
            ],
            [
             0.3333333333333333,
             "#9c179e"
            ],
            [
             0.4444444444444444,
             "#bd3786"
            ],
            [
             0.5555555555555556,
             "#d8576b"
            ],
            [
             0.6666666666666666,
             "#ed7953"
            ],
            [
             0.7777777777777778,
             "#fb9f3a"
            ],
            [
             0.8888888888888888,
             "#fdca26"
            ],
            [
             1,
             "#f0f921"
            ]
           ],
           "sequentialminus": [
            [
             0,
             "#0d0887"
            ],
            [
             0.1111111111111111,
             "#46039f"
            ],
            [
             0.2222222222222222,
             "#7201a8"
            ],
            [
             0.3333333333333333,
             "#9c179e"
            ],
            [
             0.4444444444444444,
             "#bd3786"
            ],
            [
             0.5555555555555556,
             "#d8576b"
            ],
            [
             0.6666666666666666,
             "#ed7953"
            ],
            [
             0.7777777777777778,
             "#fb9f3a"
            ],
            [
             0.8888888888888888,
             "#fdca26"
            ],
            [
             1,
             "#f0f921"
            ]
           ]
          },
          "colorway": [
           "#636efa",
           "#EF553B",
           "#00cc96",
           "#ab63fa",
           "#FFA15A",
           "#19d3f3",
           "#FF6692",
           "#B6E880",
           "#FF97FF",
           "#FECB52"
          ],
          "font": {
           "color": "#2a3f5f"
          },
          "geo": {
           "bgcolor": "white",
           "lakecolor": "white",
           "landcolor": "#E5ECF6",
           "showlakes": true,
           "showland": true,
           "subunitcolor": "white"
          },
          "hoverlabel": {
           "align": "left"
          },
          "hovermode": "closest",
          "mapbox": {
           "style": "light"
          },
          "paper_bgcolor": "white",
          "plot_bgcolor": "#E5ECF6",
          "polar": {
           "angularaxis": {
            "gridcolor": "white",
            "linecolor": "white",
            "ticks": ""
           },
           "bgcolor": "#E5ECF6",
           "radialaxis": {
            "gridcolor": "white",
            "linecolor": "white",
            "ticks": ""
           }
          },
          "scene": {
           "xaxis": {
            "backgroundcolor": "#E5ECF6",
            "gridcolor": "white",
            "gridwidth": 2,
            "linecolor": "white",
            "showbackground": true,
            "ticks": "",
            "zerolinecolor": "white"
           },
           "yaxis": {
            "backgroundcolor": "#E5ECF6",
            "gridcolor": "white",
            "gridwidth": 2,
            "linecolor": "white",
            "showbackground": true,
            "ticks": "",
            "zerolinecolor": "white"
           },
           "zaxis": {
            "backgroundcolor": "#E5ECF6",
            "gridcolor": "white",
            "gridwidth": 2,
            "linecolor": "white",
            "showbackground": true,
            "ticks": "",
            "zerolinecolor": "white"
           }
          },
          "shapedefaults": {
           "line": {
            "color": "#2a3f5f"
           }
          },
          "ternary": {
           "aaxis": {
            "gridcolor": "white",
            "linecolor": "white",
            "ticks": ""
           },
           "baxis": {
            "gridcolor": "white",
            "linecolor": "white",
            "ticks": ""
           },
           "bgcolor": "#E5ECF6",
           "caxis": {
            "gridcolor": "white",
            "linecolor": "white",
            "ticks": ""
           }
          },
          "title": {
           "x": 0.05
          },
          "xaxis": {
           "automargin": true,
           "gridcolor": "white",
           "linecolor": "white",
           "ticks": "",
           "title": {
            "standoff": 15
           },
           "zerolinecolor": "white",
           "zerolinewidth": 2
          },
          "yaxis": {
           "automargin": true,
           "gridcolor": "white",
           "linecolor": "white",
           "ticks": "",
           "title": {
            "standoff": 15
           },
           "zerolinecolor": "white",
           "zerolinewidth": 2
          }
         }
        },
        "title": {
         "text": "5 наиболее крупных аэропортов с наибольшим количеством взлётов/посадок для каждого континента"
        }
       }
      },
      "text/html": [
       "<div>                            <div id=\"32aa2ae2-666c-4224-b371-73c98fd106cf\" class=\"plotly-graph-div\" style=\"height:525px; width:100%;\"></div>            <script type=\"text/javascript\">                require([\"plotly\"], function(Plotly) {                    window.PLOTLYENV=window.PLOTLYENV || {};                                    if (document.getElementById(\"32aa2ae2-666c-4224-b371-73c98fd106cf\")) {                    Plotly.newPlot(                        \"32aa2ae2-666c-4224-b371-73c98fd106cf\",                        [{\"lat\":[35.52539825439453,-30.68000030517578,-29.906400680541992,30.091800689697266,-7.00478,-64.2382965088,-77.85399627685547,-77.9634017944336,-90.0,-66.690833,40.0801010131836,31.143400192260746,1.35019,37.46910095214844,40.976898,-33.94609832763672,-40.0917015076,-33.730989,-34.7933006287,-21.655000686645508,-24.066699981689453,51.4706,49.012798,50.033333,52.308601,41.2971,33.6367,41.9786,33.94250107,32.896801,40.63980103,-23.435556411743164,4.998505,-8.833330154418945,2.5235,-3.3196699619293213],\"lon\":[2.8787100315093994,26.729999542236328,22.316699981689453,31.36000061035156,52.7262,-56.6307983398,166.468994140625,166.52499389648438,0.0,111.523611,116.58499908447266,121.80500030517578,103.994003,126.45099639892578,28.8146,151.177001953125,147.992996216,134.501,138.632995605,135.22999572753906,132.26699829101562,-0.461941,2.55,8.570556,4.76389,2.07846,-84.428101,-87.9048,-118.4079971,-97.038002,-73.77890015,-46.47305679321289,-54.992033,-74.68329620361328,-56.3247,-79.76920318603516],\"marker\":{\"color\":[354,354,354,354,354,354,354,354,354,354,1069,825,820,740,719,410,357,357,354,354,354,1051,1041,990,903,783,1826,1108,990,936,911,387,354,354,354,354],\"colorbar\":{\"title\":{\"text\":\"\\u041a\\u043e\\u043b-\\u0432\\u043e \\u0432\\u0437\\u043b\\u0451\\u0442/\\u043f\\u043e\\u0441\\u0430\\u0434\\u043e\\u043a\"}}},\"text\":[\"Ain Oussera Airport\",\"Aliwal North Airport\",\"Alkantpan Copper Airport\",\"Almaza Air Force Base\",\"Alphonse Airport\",\"Marambio Base\",\"McMurdo Station Ice Runway\",\"McMurdo Station Pegasus Field\",\"South Pole Station Airport\",\"Wilkins Runway\",\"Beijing Capital International Airport\",\"Shanghai Pudong International Airport\",\"Singapore Changi Airport\",\"Incheon International Airport\",\"Atat\\u00fcrk International Airport\",\"Sydney Kingsford Smith International Airport\",\"Flinders Island Airport\",\"Flinders Island Airport\",\"Adelaide Parafield Airport\",\"Ampilatwatja Airport\",\"Areyonga Airport\",\"London Heathrow Airport\",\"Charles de Gaulle International Airport\",\"Frankfurt am Main Airport\",\"Amsterdam Airport Schiphol\",\"Barcelona International Airport\",\"Hartsfield Jackson Atlanta International Airport\",\"Chicago O'Hare International Airport\",\"Los Angeles International Airport\",\"Dallas Fort Worth International Airport\",\"John F Kennedy International Airport\",\"Guarulhos - Governador Andr\\u00e9 Franco Montoro International Airport\",\"Afobakka Airstrip\",\"Aguas Calientes Airport\",\"Alalapadu Airstrip\",\"Amable Calle Gutierrez Airport\"],\"type\":\"scattermapbox\"}],                        {\"template\":{\"data\":{\"histogram2dcontour\":[{\"type\":\"histogram2dcontour\",\"colorbar\":{\"outlinewidth\":0,\"ticks\":\"\"},\"colorscale\":[[0.0,\"#0d0887\"],[0.1111111111111111,\"#46039f\"],[0.2222222222222222,\"#7201a8\"],[0.3333333333333333,\"#9c179e\"],[0.4444444444444444,\"#bd3786\"],[0.5555555555555556,\"#d8576b\"],[0.6666666666666666,\"#ed7953\"],[0.7777777777777778,\"#fb9f3a\"],[0.8888888888888888,\"#fdca26\"],[1.0,\"#f0f921\"]]}],\"choropleth\":[{\"type\":\"choropleth\",\"colorbar\":{\"outlinewidth\":0,\"ticks\":\"\"}}],\"histogram2d\":[{\"type\":\"histogram2d\",\"colorbar\":{\"outlinewidth\":0,\"ticks\":\"\"},\"colorscale\":[[0.0,\"#0d0887\"],[0.1111111111111111,\"#46039f\"],[0.2222222222222222,\"#7201a8\"],[0.3333333333333333,\"#9c179e\"],[0.4444444444444444,\"#bd3786\"],[0.5555555555555556,\"#d8576b\"],[0.6666666666666666,\"#ed7953\"],[0.7777777777777778,\"#fb9f3a\"],[0.8888888888888888,\"#fdca26\"],[1.0,\"#f0f921\"]]}],\"heatmap\":[{\"type\":\"heatmap\",\"colorbar\":{\"outlinewidth\":0,\"ticks\":\"\"},\"colorscale\":[[0.0,\"#0d0887\"],[0.1111111111111111,\"#46039f\"],[0.2222222222222222,\"#7201a8\"],[0.3333333333333333,\"#9c179e\"],[0.4444444444444444,\"#bd3786\"],[0.5555555555555556,\"#d8576b\"],[0.6666666666666666,\"#ed7953\"],[0.7777777777777778,\"#fb9f3a\"],[0.8888888888888888,\"#fdca26\"],[1.0,\"#f0f921\"]]}],\"heatmapgl\":[{\"type\":\"heatmapgl\",\"colorbar\":{\"outlinewidth\":0,\"ticks\":\"\"},\"colorscale\":[[0.0,\"#0d0887\"],[0.1111111111111111,\"#46039f\"],[0.2222222222222222,\"#7201a8\"],[0.3333333333333333,\"#9c179e\"],[0.4444444444444444,\"#bd3786\"],[0.5555555555555556,\"#d8576b\"],[0.6666666666666666,\"#ed7953\"],[0.7777777777777778,\"#fb9f3a\"],[0.8888888888888888,\"#fdca26\"],[1.0,\"#f0f921\"]]}],\"contourcarpet\":[{\"type\":\"contourcarpet\",\"colorbar\":{\"outlinewidth\":0,\"ticks\":\"\"}}],\"contour\":[{\"type\":\"contour\",\"colorbar\":{\"outlinewidth\":0,\"ticks\":\"\"},\"colorscale\":[[0.0,\"#0d0887\"],[0.1111111111111111,\"#46039f\"],[0.2222222222222222,\"#7201a8\"],[0.3333333333333333,\"#9c179e\"],[0.4444444444444444,\"#bd3786\"],[0.5555555555555556,\"#d8576b\"],[0.6666666666666666,\"#ed7953\"],[0.7777777777777778,\"#fb9f3a\"],[0.8888888888888888,\"#fdca26\"],[1.0,\"#f0f921\"]]}],\"surface\":[{\"type\":\"surface\",\"colorbar\":{\"outlinewidth\":0,\"ticks\":\"\"},\"colorscale\":[[0.0,\"#0d0887\"],[0.1111111111111111,\"#46039f\"],[0.2222222222222222,\"#7201a8\"],[0.3333333333333333,\"#9c179e\"],[0.4444444444444444,\"#bd3786\"],[0.5555555555555556,\"#d8576b\"],[0.6666666666666666,\"#ed7953\"],[0.7777777777777778,\"#fb9f3a\"],[0.8888888888888888,\"#fdca26\"],[1.0,\"#f0f921\"]]}],\"mesh3d\":[{\"type\":\"mesh3d\",\"colorbar\":{\"outlinewidth\":0,\"ticks\":\"\"}}],\"scatter\":[{\"fillpattern\":{\"fillmode\":\"overlay\",\"size\":10,\"solidity\":0.2},\"type\":\"scatter\"}],\"parcoords\":[{\"type\":\"parcoords\",\"line\":{\"colorbar\":{\"outlinewidth\":0,\"ticks\":\"\"}}}],\"scatterpolargl\":[{\"type\":\"scatterpolargl\",\"marker\":{\"colorbar\":{\"outlinewidth\":0,\"ticks\":\"\"}}}],\"bar\":[{\"error_x\":{\"color\":\"#2a3f5f\"},\"error_y\":{\"color\":\"#2a3f5f\"},\"marker\":{\"line\":{\"color\":\"#E5ECF6\",\"width\":0.5},\"pattern\":{\"fillmode\":\"overlay\",\"size\":10,\"solidity\":0.2}},\"type\":\"bar\"}],\"scattergeo\":[{\"type\":\"scattergeo\",\"marker\":{\"colorbar\":{\"outlinewidth\":0,\"ticks\":\"\"}}}],\"scatterpolar\":[{\"type\":\"scatterpolar\",\"marker\":{\"colorbar\":{\"outlinewidth\":0,\"ticks\":\"\"}}}],\"histogram\":[{\"marker\":{\"pattern\":{\"fillmode\":\"overlay\",\"size\":10,\"solidity\":0.2}},\"type\":\"histogram\"}],\"scattergl\":[{\"type\":\"scattergl\",\"marker\":{\"colorbar\":{\"outlinewidth\":0,\"ticks\":\"\"}}}],\"scatter3d\":[{\"type\":\"scatter3d\",\"line\":{\"colorbar\":{\"outlinewidth\":0,\"ticks\":\"\"}},\"marker\":{\"colorbar\":{\"outlinewidth\":0,\"ticks\":\"\"}}}],\"scattermapbox\":[{\"type\":\"scattermapbox\",\"marker\":{\"colorbar\":{\"outlinewidth\":0,\"ticks\":\"\"}}}],\"scatterternary\":[{\"type\":\"scatterternary\",\"marker\":{\"colorbar\":{\"outlinewidth\":0,\"ticks\":\"\"}}}],\"scattercarpet\":[{\"type\":\"scattercarpet\",\"marker\":{\"colorbar\":{\"outlinewidth\":0,\"ticks\":\"\"}}}],\"carpet\":[{\"aaxis\":{\"endlinecolor\":\"#2a3f5f\",\"gridcolor\":\"white\",\"linecolor\":\"white\",\"minorgridcolor\":\"white\",\"startlinecolor\":\"#2a3f5f\"},\"baxis\":{\"endlinecolor\":\"#2a3f5f\",\"gridcolor\":\"white\",\"linecolor\":\"white\",\"minorgridcolor\":\"white\",\"startlinecolor\":\"#2a3f5f\"},\"type\":\"carpet\"}],\"table\":[{\"cells\":{\"fill\":{\"color\":\"#EBF0F8\"},\"line\":{\"color\":\"white\"}},\"header\":{\"fill\":{\"color\":\"#C8D4E3\"},\"line\":{\"color\":\"white\"}},\"type\":\"table\"}],\"barpolar\":[{\"marker\":{\"line\":{\"color\":\"#E5ECF6\",\"width\":0.5},\"pattern\":{\"fillmode\":\"overlay\",\"size\":10,\"solidity\":0.2}},\"type\":\"barpolar\"}],\"pie\":[{\"automargin\":true,\"type\":\"pie\"}]},\"layout\":{\"autotypenumbers\":\"strict\",\"colorway\":[\"#636efa\",\"#EF553B\",\"#00cc96\",\"#ab63fa\",\"#FFA15A\",\"#19d3f3\",\"#FF6692\",\"#B6E880\",\"#FF97FF\",\"#FECB52\"],\"font\":{\"color\":\"#2a3f5f\"},\"hovermode\":\"closest\",\"hoverlabel\":{\"align\":\"left\"},\"paper_bgcolor\":\"white\",\"plot_bgcolor\":\"#E5ECF6\",\"polar\":{\"bgcolor\":\"#E5ECF6\",\"angularaxis\":{\"gridcolor\":\"white\",\"linecolor\":\"white\",\"ticks\":\"\"},\"radialaxis\":{\"gridcolor\":\"white\",\"linecolor\":\"white\",\"ticks\":\"\"}},\"ternary\":{\"bgcolor\":\"#E5ECF6\",\"aaxis\":{\"gridcolor\":\"white\",\"linecolor\":\"white\",\"ticks\":\"\"},\"baxis\":{\"gridcolor\":\"white\",\"linecolor\":\"white\",\"ticks\":\"\"},\"caxis\":{\"gridcolor\":\"white\",\"linecolor\":\"white\",\"ticks\":\"\"}},\"coloraxis\":{\"colorbar\":{\"outlinewidth\":0,\"ticks\":\"\"}},\"colorscale\":{\"sequential\":[[0.0,\"#0d0887\"],[0.1111111111111111,\"#46039f\"],[0.2222222222222222,\"#7201a8\"],[0.3333333333333333,\"#9c179e\"],[0.4444444444444444,\"#bd3786\"],[0.5555555555555556,\"#d8576b\"],[0.6666666666666666,\"#ed7953\"],[0.7777777777777778,\"#fb9f3a\"],[0.8888888888888888,\"#fdca26\"],[1.0,\"#f0f921\"]],\"sequentialminus\":[[0.0,\"#0d0887\"],[0.1111111111111111,\"#46039f\"],[0.2222222222222222,\"#7201a8\"],[0.3333333333333333,\"#9c179e\"],[0.4444444444444444,\"#bd3786\"],[0.5555555555555556,\"#d8576b\"],[0.6666666666666666,\"#ed7953\"],[0.7777777777777778,\"#fb9f3a\"],[0.8888888888888888,\"#fdca26\"],[1.0,\"#f0f921\"]],\"diverging\":[[0,\"#8e0152\"],[0.1,\"#c51b7d\"],[0.2,\"#de77ae\"],[0.3,\"#f1b6da\"],[0.4,\"#fde0ef\"],[0.5,\"#f7f7f7\"],[0.6,\"#e6f5d0\"],[0.7,\"#b8e186\"],[0.8,\"#7fbc41\"],[0.9,\"#4d9221\"],[1,\"#276419\"]]},\"xaxis\":{\"gridcolor\":\"white\",\"linecolor\":\"white\",\"ticks\":\"\",\"title\":{\"standoff\":15},\"zerolinecolor\":\"white\",\"automargin\":true,\"zerolinewidth\":2},\"yaxis\":{\"gridcolor\":\"white\",\"linecolor\":\"white\",\"ticks\":\"\",\"title\":{\"standoff\":15},\"zerolinecolor\":\"white\",\"automargin\":true,\"zerolinewidth\":2},\"scene\":{\"xaxis\":{\"backgroundcolor\":\"#E5ECF6\",\"gridcolor\":\"white\",\"linecolor\":\"white\",\"showbackground\":true,\"ticks\":\"\",\"zerolinecolor\":\"white\",\"gridwidth\":2},\"yaxis\":{\"backgroundcolor\":\"#E5ECF6\",\"gridcolor\":\"white\",\"linecolor\":\"white\",\"showbackground\":true,\"ticks\":\"\",\"zerolinecolor\":\"white\",\"gridwidth\":2},\"zaxis\":{\"backgroundcolor\":\"#E5ECF6\",\"gridcolor\":\"white\",\"linecolor\":\"white\",\"showbackground\":true,\"ticks\":\"\",\"zerolinecolor\":\"white\",\"gridwidth\":2}},\"shapedefaults\":{\"line\":{\"color\":\"#2a3f5f\"}},\"annotationdefaults\":{\"arrowcolor\":\"#2a3f5f\",\"arrowhead\":0,\"arrowwidth\":1},\"geo\":{\"bgcolor\":\"white\",\"landcolor\":\"#E5ECF6\",\"subunitcolor\":\"white\",\"showland\":true,\"showlakes\":true,\"lakecolor\":\"white\"},\"title\":{\"x\":0.05},\"mapbox\":{\"style\":\"light\"}}},\"mapbox\":{\"style\":\"open-street-map\"},\"title\":{\"text\":\"5 \\u043d\\u0430\\u0438\\u0431\\u043e\\u043b\\u0435\\u0435 \\u043a\\u0440\\u0443\\u043f\\u043d\\u044b\\u0445 \\u0430\\u044d\\u0440\\u043e\\u043f\\u043e\\u0440\\u0442\\u043e\\u0432 \\u0441 \\u043d\\u0430\\u0438\\u0431\\u043e\\u043b\\u044c\\u0448\\u0438\\u043c \\u043a\\u043e\\u043b\\u0438\\u0447\\u0435\\u0441\\u0442\\u0432\\u043e\\u043c \\u0432\\u0437\\u043b\\u0451\\u0442\\u043e\\u0432/\\u043f\\u043e\\u0441\\u0430\\u0434\\u043e\\u043a \\u0434\\u043b\\u044f \\u043a\\u0430\\u0436\\u0434\\u043e\\u0433\\u043e \\u043a\\u043e\\u043d\\u0442\\u0438\\u043d\\u0435\\u043d\\u0442\\u0430\"}},                        {\"responsive\": true}                    ).then(function(){\n",
       "                            \n",
       "var gd = document.getElementById('32aa2ae2-666c-4224-b371-73c98fd106cf');\n",
       "var x = new MutationObserver(function (mutations, observer) {{\n",
       "        var display = window.getComputedStyle(gd).display;\n",
       "        if (!display || display === 'none') {{\n",
       "            console.log([gd, 'removed!']);\n",
       "            Plotly.purge(gd);\n",
       "            observer.disconnect();\n",
       "        }}\n",
       "}});\n",
       "\n",
       "// Listen for the removal of the full notebook cells\n",
       "var notebookContainer = gd.closest('#notebook-container');\n",
       "if (notebookContainer) {{\n",
       "    x.observe(notebookContainer, {childList: true});\n",
       "}}\n",
       "\n",
       "// Listen for the clearing of the current output cell\n",
       "var outputEl = gd.closest('.output');\n",
       "if (outputEl) {{\n",
       "    x.observe(outputEl, {childList: true});\n",
       "}}\n",
       "\n",
       "                        })                };                });            </script>        </div>"
      ]
     },
     "metadata": {},
     "output_type": "display_data"
    }
   ],
   "source": [
    "# Нанесение аэропортов на карту\n",
    "fig = go.Figure(go.Scattermapbox(lat=top5_for_cont_coord['Latitude'], \n",
    "                                 lon=top5_for_cont_coord['Longitude'], \n",
    "                                 text=top5_for_cont_coord['Name'],\n",
    "                                 marker=dict(colorbar=dict(title=\"Кол-во взлёт/посадок\"),\n",
    "                                             color=top5_for_cont_coord['took_off_landed']\n",
    "                                             #size=top5_for_cont_coord['took_off_landed'] /50)\n",
    "                                )))\n",
    "\n",
    "title8 = '5 наиболее крупных аэропортов с наибольшим количеством взлётов/посадок для каждого континента'\n",
    "\n",
    "fig.update_layout(title = title8,mapbox_style=\"open-street-map\")\n",
    "\n",
    "fig.show()"
   ]
  },
  {
   "cell_type": "markdown",
   "id": "6b6e6a8f",
   "metadata": {},
   "source": [
    "# Задание 9\n",
    "\n",
    "Для наиболее крупных аэропортов (задание 8) построить маршрутную транспортную сеть и нанести их на географическую карту, линия должна отображать интенсивность взаимосвязи (прозрачность, толщина). "
   ]
  },
  {
   "cell_type": "code",
   "execution_count": 41,
   "id": "74e7acf1",
   "metadata": {
    "scrolled": false
   },
   "outputs": [
    {
     "data": {
      "text/html": [
       "<div>\n",
       "<style scoped>\n",
       "    .dataframe tbody tr th:only-of-type {\n",
       "        vertical-align: middle;\n",
       "    }\n",
       "\n",
       "    .dataframe tbody tr th {\n",
       "        vertical-align: top;\n",
       "    }\n",
       "\n",
       "    .dataframe thead th {\n",
       "        text-align: right;\n",
       "    }\n",
       "</style>\n",
       "<table border=\"1\" class=\"dataframe\">\n",
       "  <thead>\n",
       "    <tr style=\"text-align: right;\">\n",
       "      <th></th>\n",
       "      <th>Airline</th>\n",
       "      <th>Airline ID</th>\n",
       "      <th>Source airport</th>\n",
       "      <th>Source airport ID</th>\n",
       "      <th>Destination airport</th>\n",
       "      <th>Destination airport ID</th>\n",
       "      <th>Codeshare</th>\n",
       "      <th>Stops</th>\n",
       "      <th>Equipment</th>\n",
       "    </tr>\n",
       "  </thead>\n",
       "  <tbody>\n",
       "    <tr>\n",
       "      <th>3482</th>\n",
       "      <td>9C</td>\n",
       "      <td>15999</td>\n",
       "      <td>PVG</td>\n",
       "      <td>3406.0</td>\n",
       "      <td>SIN</td>\n",
       "      <td>3316.0</td>\n",
       "      <td>NaN</td>\n",
       "      <td>0</td>\n",
       "      <td>320</td>\n",
       "    </tr>\n",
       "    <tr>\n",
       "      <th>3518</th>\n",
       "      <td>9C</td>\n",
       "      <td>15999</td>\n",
       "      <td>SIN</td>\n",
       "      <td>3316.0</td>\n",
       "      <td>PVG</td>\n",
       "      <td>3406.0</td>\n",
       "      <td>NaN</td>\n",
       "      <td>0</td>\n",
       "      <td>320</td>\n",
       "    </tr>\n",
       "    <tr>\n",
       "      <th>4683</th>\n",
       "      <td>AA</td>\n",
       "      <td>24</td>\n",
       "      <td>AMS</td>\n",
       "      <td>580.0</td>\n",
       "      <td>LHR</td>\n",
       "      <td>507.0</td>\n",
       "      <td>Y</td>\n",
       "      <td>0</td>\n",
       "      <td>320 767 321 319</td>\n",
       "    </tr>\n",
       "    <tr>\n",
       "      <th>4699</th>\n",
       "      <td>AA</td>\n",
       "      <td>24</td>\n",
       "      <td>ATL</td>\n",
       "      <td>3682.0</td>\n",
       "      <td>DFW</td>\n",
       "      <td>3670.0</td>\n",
       "      <td>NaN</td>\n",
       "      <td>0</td>\n",
       "      <td>M80 319 M83</td>\n",
       "    </tr>\n",
       "    <tr>\n",
       "      <th>4700</th>\n",
       "      <td>AA</td>\n",
       "      <td>24</td>\n",
       "      <td>ATL</td>\n",
       "      <td>3682.0</td>\n",
       "      <td>LHR</td>\n",
       "      <td>507.0</td>\n",
       "      <td>Y</td>\n",
       "      <td>0</td>\n",
       "      <td>777</td>\n",
       "    </tr>\n",
       "    <tr>\n",
       "      <th>...</th>\n",
       "      <td>...</td>\n",
       "      <td>...</td>\n",
       "      <td>...</td>\n",
       "      <td>...</td>\n",
       "      <td>...</td>\n",
       "      <td>...</td>\n",
       "      <td>...</td>\n",
       "      <td>...</td>\n",
       "      <td>...</td>\n",
       "    </tr>\n",
       "    <tr>\n",
       "      <th>63456</th>\n",
       "      <td>WN</td>\n",
       "      <td>4547</td>\n",
       "      <td>ATL</td>\n",
       "      <td>3682.0</td>\n",
       "      <td>LAX</td>\n",
       "      <td>3484.0</td>\n",
       "      <td>NaN</td>\n",
       "      <td>0</td>\n",
       "      <td>73W</td>\n",
       "    </tr>\n",
       "    <tr>\n",
       "      <th>63969</th>\n",
       "      <td>WN</td>\n",
       "      <td>4547</td>\n",
       "      <td>LAX</td>\n",
       "      <td>3484.0</td>\n",
       "      <td>ATL</td>\n",
       "      <td>3682.0</td>\n",
       "      <td>NaN</td>\n",
       "      <td>0</td>\n",
       "      <td>73W</td>\n",
       "    </tr>\n",
       "    <tr>\n",
       "      <th>64569</th>\n",
       "      <td>WS</td>\n",
       "      <td>5416</td>\n",
       "      <td>ATL</td>\n",
       "      <td>3682.0</td>\n",
       "      <td>JFK</td>\n",
       "      <td>3797.0</td>\n",
       "      <td>Y</td>\n",
       "      <td>0</td>\n",
       "      <td>738</td>\n",
       "    </tr>\n",
       "    <tr>\n",
       "      <th>67114</th>\n",
       "      <td>ZH</td>\n",
       "      <td>4611</td>\n",
       "      <td>PEK</td>\n",
       "      <td>3364.0</td>\n",
       "      <td>PVG</td>\n",
       "      <td>3406.0</td>\n",
       "      <td>NaN</td>\n",
       "      <td>0</td>\n",
       "      <td>330 737</td>\n",
       "    </tr>\n",
       "    <tr>\n",
       "      <th>67159</th>\n",
       "      <td>ZH</td>\n",
       "      <td>4611</td>\n",
       "      <td>PVG</td>\n",
       "      <td>3406.0</td>\n",
       "      <td>PEK</td>\n",
       "      <td>3364.0</td>\n",
       "      <td>NaN</td>\n",
       "      <td>0</td>\n",
       "      <td>330 737</td>\n",
       "    </tr>\n",
       "  </tbody>\n",
       "</table>\n",
       "<p>816 rows × 9 columns</p>\n",
       "</div>"
      ],
      "text/plain": [
       "      Airline Airline ID Source airport  Source airport ID  \\\n",
       "3482       9C      15999            PVG             3406.0   \n",
       "3518       9C      15999            SIN             3316.0   \n",
       "4683       AA         24            AMS              580.0   \n",
       "4699       AA         24            ATL             3682.0   \n",
       "4700       AA         24            ATL             3682.0   \n",
       "...       ...        ...            ...                ...   \n",
       "63456      WN       4547            ATL             3682.0   \n",
       "63969      WN       4547            LAX             3484.0   \n",
       "64569      WS       5416            ATL             3682.0   \n",
       "67114      ZH       4611            PEK             3364.0   \n",
       "67159      ZH       4611            PVG             3406.0   \n",
       "\n",
       "      Destination airport  Destination airport ID Codeshare  Stops  \\\n",
       "3482                  SIN                  3316.0       NaN      0   \n",
       "3518                  PVG                  3406.0       NaN      0   \n",
       "4683                  LHR                   507.0         Y      0   \n",
       "4699                  DFW                  3670.0       NaN      0   \n",
       "4700                  LHR                   507.0         Y      0   \n",
       "...                   ...                     ...       ...    ...   \n",
       "63456                 LAX                  3484.0       NaN      0   \n",
       "63969                 ATL                  3682.0       NaN      0   \n",
       "64569                 JFK                  3797.0         Y      0   \n",
       "67114                 PVG                  3406.0       NaN      0   \n",
       "67159                 PEK                  3364.0       NaN      0   \n",
       "\n",
       "             Equipment  \n",
       "3482               320  \n",
       "3518               320  \n",
       "4683   320 767 321 319  \n",
       "4699       M80 319 M83  \n",
       "4700               777  \n",
       "...                ...  \n",
       "63456              73W  \n",
       "63969              73W  \n",
       "64569              738  \n",
       "67114          330 737  \n",
       "67159          330 737  \n",
       "\n",
       "[816 rows x 9 columns]"
      ]
     },
     "execution_count": 41,
     "metadata": {},
     "output_type": "execute_result"
    }
   ],
   "source": [
    "#top5_for_cont.head(2)\n",
    "\n",
    "#Нам вновь нужны все данные из таблицы аэропортов, но только для самых крупных из таблицы в 8 задании\n",
    "\n",
    "airport_top = df_raw_airport[df_raw_airport['Name'].isin(top5_for_cont['Name'])]\n",
    "\n",
    "\n",
    "#Все прилёты во все топовые аэропорты и направления\n",
    "destination_top = df_raw_routers[df_raw_routers['Destination airport'].isin(airport_top['IATA'])]\n",
    "\n",
    "top_landed = destination_top[destination_top['Source airport'].isin(airport_top['IATA'])]\n",
    "\n",
    "top_landed"
   ]
  },
  {
   "cell_type": "code",
   "execution_count": 42,
   "id": "d25a6fd6",
   "metadata": {},
   "outputs": [],
   "source": [
    "top_routes = top_landed.groupby(['Source airport', 'Destination airport'], as_index=False)['Airline'].count()"
   ]
  },
  {
   "cell_type": "code",
   "execution_count": 43,
   "id": "2f84c96c",
   "metadata": {
    "scrolled": true
   },
   "outputs": [
    {
     "data": {
      "text/html": [
       "<div>\n",
       "<style scoped>\n",
       "    .dataframe tbody tr th:only-of-type {\n",
       "        vertical-align: middle;\n",
       "    }\n",
       "\n",
       "    .dataframe tbody tr th {\n",
       "        vertical-align: top;\n",
       "    }\n",
       "\n",
       "    .dataframe thead th {\n",
       "        text-align: right;\n",
       "    }\n",
       "</style>\n",
       "<table border=\"1\" class=\"dataframe\">\n",
       "  <thead>\n",
       "    <tr style=\"text-align: right;\">\n",
       "      <th></th>\n",
       "      <th>Source airport</th>\n",
       "      <th>Destination airport</th>\n",
       "      <th>Airline</th>\n",
       "    </tr>\n",
       "  </thead>\n",
       "  <tbody>\n",
       "    <tr>\n",
       "      <th>0</th>\n",
       "      <td>AMS</td>\n",
       "      <td>ATL</td>\n",
       "      <td>2</td>\n",
       "    </tr>\n",
       "    <tr>\n",
       "      <th>1</th>\n",
       "      <td>AMS</td>\n",
       "      <td>BCN</td>\n",
       "      <td>5</td>\n",
       "    </tr>\n",
       "    <tr>\n",
       "      <th>2</th>\n",
       "      <td>AMS</td>\n",
       "      <td>CDG</td>\n",
       "      <td>3</td>\n",
       "    </tr>\n",
       "    <tr>\n",
       "      <th>3</th>\n",
       "      <td>AMS</td>\n",
       "      <td>DFW</td>\n",
       "      <td>2</td>\n",
       "    </tr>\n",
       "    <tr>\n",
       "      <th>4</th>\n",
       "      <td>AMS</td>\n",
       "      <td>FRA</td>\n",
       "      <td>4</td>\n",
       "    </tr>\n",
       "  </tbody>\n",
       "</table>\n",
       "</div>"
      ],
      "text/plain": [
       "  Source airport Destination airport  Airline\n",
       "0            AMS                 ATL        2\n",
       "1            AMS                 BCN        5\n",
       "2            AMS                 CDG        3\n",
       "3            AMS                 DFW        2\n",
       "4            AMS                 FRA        4"
      ]
     },
     "execution_count": 43,
     "metadata": {},
     "output_type": "execute_result"
    }
   ],
   "source": [
    "top_routes.head()"
   ]
  },
  {
   "cell_type": "code",
   "execution_count": 44,
   "id": "0bf1d801",
   "metadata": {
    "scrolled": false
   },
   "outputs": [
    {
     "data": {
      "text/html": [
       "<div>\n",
       "<style scoped>\n",
       "    .dataframe tbody tr th:only-of-type {\n",
       "        vertical-align: middle;\n",
       "    }\n",
       "\n",
       "    .dataframe tbody tr th {\n",
       "        vertical-align: top;\n",
       "    }\n",
       "\n",
       "    .dataframe thead th {\n",
       "        text-align: right;\n",
       "    }\n",
       "</style>\n",
       "<table border=\"1\" class=\"dataframe\">\n",
       "  <thead>\n",
       "    <tr style=\"text-align: right;\">\n",
       "      <th></th>\n",
       "      <th>Source airport</th>\n",
       "      <th>Destination airport</th>\n",
       "      <th>Intensity</th>\n",
       "      <th>Latitude_S</th>\n",
       "      <th>Longitude_S</th>\n",
       "      <th>Latitude_D</th>\n",
       "      <th>Longitude_D</th>\n",
       "    </tr>\n",
       "  </thead>\n",
       "  <tbody>\n",
       "    <tr>\n",
       "      <th>0</th>\n",
       "      <td>AMS</td>\n",
       "      <td>ATL</td>\n",
       "      <td>2</td>\n",
       "      <td>52.308601</td>\n",
       "      <td>4.763890</td>\n",
       "      <td>33.636700</td>\n",
       "      <td>-84.428101</td>\n",
       "    </tr>\n",
       "    <tr>\n",
       "      <th>1</th>\n",
       "      <td>AMS</td>\n",
       "      <td>BCN</td>\n",
       "      <td>5</td>\n",
       "      <td>52.308601</td>\n",
       "      <td>4.763890</td>\n",
       "      <td>41.297100</td>\n",
       "      <td>2.078460</td>\n",
       "    </tr>\n",
       "    <tr>\n",
       "      <th>2</th>\n",
       "      <td>AMS</td>\n",
       "      <td>CDG</td>\n",
       "      <td>3</td>\n",
       "      <td>52.308601</td>\n",
       "      <td>4.763890</td>\n",
       "      <td>49.012798</td>\n",
       "      <td>2.550000</td>\n",
       "    </tr>\n",
       "    <tr>\n",
       "      <th>3</th>\n",
       "      <td>AMS</td>\n",
       "      <td>DFW</td>\n",
       "      <td>2</td>\n",
       "      <td>52.308601</td>\n",
       "      <td>4.763890</td>\n",
       "      <td>32.896801</td>\n",
       "      <td>-97.038002</td>\n",
       "    </tr>\n",
       "    <tr>\n",
       "      <th>4</th>\n",
       "      <td>AMS</td>\n",
       "      <td>FRA</td>\n",
       "      <td>4</td>\n",
       "      <td>52.308601</td>\n",
       "      <td>4.763890</td>\n",
       "      <td>50.033333</td>\n",
       "      <td>8.570556</td>\n",
       "    </tr>\n",
       "    <tr>\n",
       "      <th>...</th>\n",
       "      <td>...</td>\n",
       "      <td>...</td>\n",
       "      <td>...</td>\n",
       "      <td>...</td>\n",
       "      <td>...</td>\n",
       "      <td>...</td>\n",
       "      <td>...</td>\n",
       "    </tr>\n",
       "    <tr>\n",
       "      <th>176</th>\n",
       "      <td>SYD</td>\n",
       "      <td>ICN</td>\n",
       "      <td>4</td>\n",
       "      <td>-33.946098</td>\n",
       "      <td>151.177002</td>\n",
       "      <td>37.469101</td>\n",
       "      <td>126.450996</td>\n",
       "    </tr>\n",
       "    <tr>\n",
       "      <th>177</th>\n",
       "      <td>SYD</td>\n",
       "      <td>LAX</td>\n",
       "      <td>6</td>\n",
       "      <td>-33.946098</td>\n",
       "      <td>151.177002</td>\n",
       "      <td>33.942501</td>\n",
       "      <td>-118.407997</td>\n",
       "    </tr>\n",
       "    <tr>\n",
       "      <th>178</th>\n",
       "      <td>SYD</td>\n",
       "      <td>PEK</td>\n",
       "      <td>1</td>\n",
       "      <td>-33.946098</td>\n",
       "      <td>151.177002</td>\n",
       "      <td>40.080101</td>\n",
       "      <td>116.584999</td>\n",
       "    </tr>\n",
       "    <tr>\n",
       "      <th>179</th>\n",
       "      <td>SYD</td>\n",
       "      <td>PVG</td>\n",
       "      <td>4</td>\n",
       "      <td>-33.946098</td>\n",
       "      <td>151.177002</td>\n",
       "      <td>31.143400</td>\n",
       "      <td>121.805000</td>\n",
       "    </tr>\n",
       "    <tr>\n",
       "      <th>180</th>\n",
       "      <td>SYD</td>\n",
       "      <td>SIN</td>\n",
       "      <td>9</td>\n",
       "      <td>-33.946098</td>\n",
       "      <td>151.177002</td>\n",
       "      <td>1.350190</td>\n",
       "      <td>103.994003</td>\n",
       "    </tr>\n",
       "  </tbody>\n",
       "</table>\n",
       "<p>181 rows × 7 columns</p>\n",
       "</div>"
      ],
      "text/plain": [
       "    Source airport Destination airport  Intensity  Latitude_S  Longitude_S  \\\n",
       "0              AMS                 ATL          2   52.308601     4.763890   \n",
       "1              AMS                 BCN          5   52.308601     4.763890   \n",
       "2              AMS                 CDG          3   52.308601     4.763890   \n",
       "3              AMS                 DFW          2   52.308601     4.763890   \n",
       "4              AMS                 FRA          4   52.308601     4.763890   \n",
       "..             ...                 ...        ...         ...          ...   \n",
       "176            SYD                 ICN          4  -33.946098   151.177002   \n",
       "177            SYD                 LAX          6  -33.946098   151.177002   \n",
       "178            SYD                 PEK          1  -33.946098   151.177002   \n",
       "179            SYD                 PVG          4  -33.946098   151.177002   \n",
       "180            SYD                 SIN          9  -33.946098   151.177002   \n",
       "\n",
       "     Latitude_D  Longitude_D  \n",
       "0     33.636700   -84.428101  \n",
       "1     41.297100     2.078460  \n",
       "2     49.012798     2.550000  \n",
       "3     32.896801   -97.038002  \n",
       "4     50.033333     8.570556  \n",
       "..          ...          ...  \n",
       "176   37.469101   126.450996  \n",
       "177   33.942501  -118.407997  \n",
       "178   40.080101   116.584999  \n",
       "179   31.143400   121.805000  \n",
       "180    1.350190   103.994003  \n",
       "\n",
       "[181 rows x 7 columns]"
      ]
     },
     "execution_count": 44,
     "metadata": {},
     "output_type": "execute_result"
    }
   ],
   "source": [
    "top_routes1 = top_routes.fillna(0).rename(columns={'Airline': 'Intensity'})\n",
    "\n",
    "top_routes1['Intensity'] = pd.to_numeric(top_routes1['Intensity'])\n",
    "\n",
    "top_routes1 = top_routes1.merge(airport_top[['IATA', 'Latitude','Longitude']], \n",
    "                                left_on='Source airport', right_on='IATA', how='left').\\\n",
    "                            rename(columns={'Latitude':'Latitude_S', 'Longitude':'Longitude_S'})\n",
    "\n",
    "top_routes1 = top_routes1.merge(airport_top[['IATA', 'Latitude','Longitude']], \n",
    "                                left_on='Destination airport', right_on='IATA', how='left').\\\n",
    "                            rename(columns={'Latitude':'Latitude_D', 'Longitude':'Longitude_D'}).\\\n",
    "                            drop(['IATA_x', 'IATA_y'], axis=1)\n",
    "\n",
    "top_routes1"
   ]
  },
  {
   "cell_type": "code",
   "execution_count": 45,
   "id": "9aa04b0b",
   "metadata": {},
   "outputs": [
    {
     "data": {
      "text/plain": [
       "numpy.int64"
      ]
     },
     "execution_count": 45,
     "metadata": {},
     "output_type": "execute_result"
    }
   ],
   "source": [
    "type(top_routes1['Intensity'][3])"
   ]
  },
  {
   "cell_type": "code",
   "execution_count": 46,
   "id": "a22e8833",
   "metadata": {
    "scrolled": false
   },
   "outputs": [
    {
     "data": {
      "application/vnd.plotly.v1+json": {
       "config": {
        "plotlyServerURL": "https://plot.ly"
       },
       "data": [
        {
         "lat": [
          52.308601,
          52.308601,
          52.308601,
          52.308601,
          52.308601,
          52.308601,
          52.308601,
          52.308601,
          52.308601,
          52.308601,
          52.308601,
          52.308601,
          52.308601,
          52.308601,
          33.6367,
          33.6367,
          33.6367,
          33.6367,
          33.6367,
          33.6367,
          33.6367,
          33.6367,
          33.6367,
          33.6367,
          41.2971,
          41.2971,
          41.2971,
          41.2971,
          41.2971,
          41.2971,
          41.2971,
          49.012798,
          49.012798,
          49.012798,
          49.012798,
          49.012798,
          49.012798,
          49.012798,
          49.012798,
          49.012798,
          49.012798,
          49.012798,
          49.012798,
          49.012798,
          49.012798,
          32.896801,
          32.896801,
          32.896801,
          32.896801,
          32.896801,
          32.896801,
          32.896801,
          32.896801,
          32.896801,
          32.896801,
          50.033333,
          50.033333,
          50.033333,
          50.033333,
          50.033333,
          50.033333,
          50.033333,
          50.033333,
          50.033333,
          50.033333,
          50.033333,
          50.033333,
          50.033333,
          50.033333,
          -23.435556411743164,
          -23.435556411743164,
          -23.435556411743164,
          -23.435556411743164,
          -23.435556411743164,
          -23.435556411743164,
          -23.435556411743164,
          -23.435556411743164,
          -23.435556411743164,
          -23.435556411743164,
          37.46910095214844,
          37.46910095214844,
          37.46910095214844,
          37.46910095214844,
          37.46910095214844,
          37.46910095214844,
          37.46910095214844,
          37.46910095214844,
          37.46910095214844,
          37.46910095214844,
          37.46910095214844,
          37.46910095214844,
          37.46910095214844,
          40.63980103,
          40.63980103,
          40.63980103,
          40.63980103,
          40.63980103,
          40.63980103,
          40.63980103,
          40.63980103,
          40.63980103,
          40.63980103,
          40.63980103,
          40.63980103,
          40.63980103,
          33.94250107,
          33.94250107,
          33.94250107,
          33.94250107,
          33.94250107,
          33.94250107,
          33.94250107,
          33.94250107,
          33.94250107,
          33.94250107,
          33.94250107,
          33.94250107,
          33.94250107,
          51.4706,
          51.4706,
          51.4706,
          51.4706,
          51.4706,
          51.4706,
          51.4706,
          51.4706,
          51.4706,
          51.4706,
          51.4706,
          51.4706,
          51.4706,
          51.4706,
          41.9786,
          41.9786,
          41.9786,
          41.9786,
          41.9786,
          41.9786,
          41.9786,
          41.9786,
          41.9786,
          41.9786,
          41.9786,
          41.9786,
          40.0801010131836,
          40.0801010131836,
          40.0801010131836,
          40.0801010131836,
          40.0801010131836,
          40.0801010131836,
          40.0801010131836,
          40.0801010131836,
          40.0801010131836,
          40.0801010131836,
          40.0801010131836,
          31.143400192260746,
          31.143400192260746,
          31.143400192260746,
          31.143400192260746,
          31.143400192260746,
          31.143400192260746,
          31.143400192260746,
          31.143400192260746,
          31.143400192260746,
          31.143400192260746,
          31.143400192260746,
          1.35019,
          1.35019,
          1.35019,
          1.35019,
          1.35019,
          1.35019,
          1.35019,
          1.35019,
          1.35019,
          -33.94609832763672,
          -33.94609832763672,
          -33.94609832763672,
          -33.94609832763672,
          -33.94609832763672,
          -33.94609832763672
         ],
         "lon": [
          4.76389,
          4.76389,
          4.76389,
          4.76389,
          4.76389,
          4.76389,
          4.76389,
          4.76389,
          4.76389,
          4.76389,
          4.76389,
          4.76389,
          4.76389,
          4.76389,
          -84.428101,
          -84.428101,
          -84.428101,
          -84.428101,
          -84.428101,
          -84.428101,
          -84.428101,
          -84.428101,
          -84.428101,
          -84.428101,
          2.07846,
          2.07846,
          2.07846,
          2.07846,
          2.07846,
          2.07846,
          2.07846,
          2.55,
          2.55,
          2.55,
          2.55,
          2.55,
          2.55,
          2.55,
          2.55,
          2.55,
          2.55,
          2.55,
          2.55,
          2.55,
          2.55,
          -97.038002,
          -97.038002,
          -97.038002,
          -97.038002,
          -97.038002,
          -97.038002,
          -97.038002,
          -97.038002,
          -97.038002,
          -97.038002,
          8.570556,
          8.570556,
          8.570556,
          8.570556,
          8.570556,
          8.570556,
          8.570556,
          8.570556,
          8.570556,
          8.570556,
          8.570556,
          8.570556,
          8.570556,
          8.570556,
          -46.47305679321289,
          -46.47305679321289,
          -46.47305679321289,
          -46.47305679321289,
          -46.47305679321289,
          -46.47305679321289,
          -46.47305679321289,
          -46.47305679321289,
          -46.47305679321289,
          -46.47305679321289,
          126.45099639892578,
          126.45099639892578,
          126.45099639892578,
          126.45099639892578,
          126.45099639892578,
          126.45099639892578,
          126.45099639892578,
          126.45099639892578,
          126.45099639892578,
          126.45099639892578,
          126.45099639892578,
          126.45099639892578,
          126.45099639892578,
          -73.77890015,
          -73.77890015,
          -73.77890015,
          -73.77890015,
          -73.77890015,
          -73.77890015,
          -73.77890015,
          -73.77890015,
          -73.77890015,
          -73.77890015,
          -73.77890015,
          -73.77890015,
          -73.77890015,
          -118.4079971,
          -118.4079971,
          -118.4079971,
          -118.4079971,
          -118.4079971,
          -118.4079971,
          -118.4079971,
          -118.4079971,
          -118.4079971,
          -118.4079971,
          -118.4079971,
          -118.4079971,
          -118.4079971,
          -0.461941,
          -0.461941,
          -0.461941,
          -0.461941,
          -0.461941,
          -0.461941,
          -0.461941,
          -0.461941,
          -0.461941,
          -0.461941,
          -0.461941,
          -0.461941,
          -0.461941,
          -0.461941,
          -87.9048,
          -87.9048,
          -87.9048,
          -87.9048,
          -87.9048,
          -87.9048,
          -87.9048,
          -87.9048,
          -87.9048,
          -87.9048,
          -87.9048,
          -87.9048,
          116.58499908447266,
          116.58499908447266,
          116.58499908447266,
          116.58499908447266,
          116.58499908447266,
          116.58499908447266,
          116.58499908447266,
          116.58499908447266,
          116.58499908447266,
          116.58499908447266,
          116.58499908447266,
          121.80500030517578,
          121.80500030517578,
          121.80500030517578,
          121.80500030517578,
          121.80500030517578,
          121.80500030517578,
          121.80500030517578,
          121.80500030517578,
          121.80500030517578,
          121.80500030517578,
          121.80500030517578,
          103.994003,
          103.994003,
          103.994003,
          103.994003,
          103.994003,
          103.994003,
          103.994003,
          103.994003,
          103.994003,
          151.177001953125,
          151.177001953125,
          151.177001953125,
          151.177001953125,
          151.177001953125,
          151.177001953125
         ],
         "text": [
          "AMS",
          "AMS",
          "AMS",
          "AMS",
          "AMS",
          "AMS",
          "AMS",
          "AMS",
          "AMS",
          "AMS",
          "AMS",
          "AMS",
          "AMS",
          "AMS",
          "ATL",
          "ATL",
          "ATL",
          "ATL",
          "ATL",
          "ATL",
          "ATL",
          "ATL",
          "ATL",
          "ATL",
          "BCN",
          "BCN",
          "BCN",
          "BCN",
          "BCN",
          "BCN",
          "BCN",
          "CDG",
          "CDG",
          "CDG",
          "CDG",
          "CDG",
          "CDG",
          "CDG",
          "CDG",
          "CDG",
          "CDG",
          "CDG",
          "CDG",
          "CDG",
          "CDG",
          "DFW",
          "DFW",
          "DFW",
          "DFW",
          "DFW",
          "DFW",
          "DFW",
          "DFW",
          "DFW",
          "DFW",
          "FRA",
          "FRA",
          "FRA",
          "FRA",
          "FRA",
          "FRA",
          "FRA",
          "FRA",
          "FRA",
          "FRA",
          "FRA",
          "FRA",
          "FRA",
          "FRA",
          "GRU",
          "GRU",
          "GRU",
          "GRU",
          "GRU",
          "GRU",
          "GRU",
          "GRU",
          "GRU",
          "GRU",
          "ICN",
          "ICN",
          "ICN",
          "ICN",
          "ICN",
          "ICN",
          "ICN",
          "ICN",
          "ICN",
          "ICN",
          "ICN",
          "ICN",
          "ICN",
          "JFK",
          "JFK",
          "JFK",
          "JFK",
          "JFK",
          "JFK",
          "JFK",
          "JFK",
          "JFK",
          "JFK",
          "JFK",
          "JFK",
          "JFK",
          "LAX",
          "LAX",
          "LAX",
          "LAX",
          "LAX",
          "LAX",
          "LAX",
          "LAX",
          "LAX",
          "LAX",
          "LAX",
          "LAX",
          "LAX",
          "LHR",
          "LHR",
          "LHR",
          "LHR",
          "LHR",
          "LHR",
          "LHR",
          "LHR",
          "LHR",
          "LHR",
          "LHR",
          "LHR",
          "LHR",
          "LHR",
          "ORD",
          "ORD",
          "ORD",
          "ORD",
          "ORD",
          "ORD",
          "ORD",
          "ORD",
          "ORD",
          "ORD",
          "ORD",
          "ORD",
          "PEK",
          "PEK",
          "PEK",
          "PEK",
          "PEK",
          "PEK",
          "PEK",
          "PEK",
          "PEK",
          "PEK",
          "PEK",
          "PVG",
          "PVG",
          "PVG",
          "PVG",
          "PVG",
          "PVG",
          "PVG",
          "PVG",
          "PVG",
          "PVG",
          "PVG",
          "SIN",
          "SIN",
          "SIN",
          "SIN",
          "SIN",
          "SIN",
          "SIN",
          "SIN",
          "SIN",
          "SYD",
          "SYD",
          "SYD",
          "SYD",
          "SYD",
          "SYD"
         ],
         "type": "scattermapbox"
        },
        {
         "hoverinfo": "skip",
         "lat": [
          52.308601,
          52.308601,
          52.308601,
          52.308601,
          52.308601,
          52.308601,
          52.308601,
          52.308601,
          52.308601,
          52.308601,
          52.308601,
          52.308601,
          52.308601,
          52.308601,
          33.6367,
          33.6367,
          33.6367,
          33.6367,
          33.6367,
          33.6367,
          33.6367,
          33.6367,
          33.6367,
          33.6367,
          41.2971,
          41.2971,
          41.2971,
          41.2971,
          41.2971,
          41.2971,
          41.2971,
          49.012798,
          49.012798,
          49.012798,
          49.012798,
          49.012798,
          49.012798,
          49.012798,
          49.012798,
          49.012798,
          49.012798,
          49.012798,
          49.012798,
          49.012798,
          49.012798,
          32.896801,
          32.896801,
          32.896801,
          32.896801,
          32.896801,
          32.896801,
          32.896801,
          32.896801,
          32.896801,
          32.896801,
          50.033333,
          50.033333,
          50.033333,
          50.033333,
          50.033333,
          50.033333,
          50.033333,
          50.033333,
          50.033333,
          50.033333,
          50.033333,
          50.033333,
          50.033333,
          50.033333,
          -23.435556411743164,
          -23.435556411743164,
          -23.435556411743164,
          -23.435556411743164,
          -23.435556411743164,
          -23.435556411743164,
          -23.435556411743164,
          -23.435556411743164,
          -23.435556411743164,
          -23.435556411743164,
          37.46910095214844,
          37.46910095214844,
          37.46910095214844,
          37.46910095214844,
          37.46910095214844,
          37.46910095214844,
          37.46910095214844,
          37.46910095214844,
          37.46910095214844,
          37.46910095214844,
          37.46910095214844,
          37.46910095214844,
          37.46910095214844,
          40.63980103,
          40.63980103,
          40.63980103,
          40.63980103,
          40.63980103,
          40.63980103,
          40.63980103,
          40.63980103,
          40.63980103,
          40.63980103,
          40.63980103,
          40.63980103,
          40.63980103,
          33.94250107,
          33.94250107,
          33.94250107,
          33.94250107,
          33.94250107,
          33.94250107,
          33.94250107,
          33.94250107,
          33.94250107,
          33.94250107,
          33.94250107,
          33.94250107,
          33.94250107,
          51.4706,
          51.4706,
          51.4706,
          51.4706,
          51.4706,
          51.4706,
          51.4706,
          51.4706,
          51.4706,
          51.4706,
          51.4706,
          51.4706,
          51.4706,
          51.4706,
          41.9786,
          41.9786,
          41.9786,
          41.9786,
          41.9786,
          41.9786,
          41.9786,
          41.9786,
          41.9786,
          41.9786,
          41.9786,
          41.9786,
          40.0801010131836,
          40.0801010131836,
          40.0801010131836,
          40.0801010131836,
          40.0801010131836,
          40.0801010131836,
          40.0801010131836,
          40.0801010131836,
          40.0801010131836,
          40.0801010131836,
          40.0801010131836,
          31.143400192260746,
          31.143400192260746,
          31.143400192260746,
          31.143400192260746,
          31.143400192260746,
          31.143400192260746,
          31.143400192260746,
          31.143400192260746,
          31.143400192260746,
          31.143400192260746,
          31.143400192260746,
          1.35019,
          1.35019,
          1.35019,
          1.35019,
          1.35019,
          1.35019,
          1.35019,
          1.35019,
          1.35019,
          -33.94609832763672,
          -33.94609832763672,
          -33.94609832763672,
          -33.94609832763672,
          -33.94609832763672,
          -33.94609832763672
         ],
         "line": {
          "color": "lightpink"
         },
         "lon": [
          4.76389,
          4.76389,
          4.76389,
          4.76389,
          4.76389,
          4.76389,
          4.76389,
          4.76389,
          4.76389,
          4.76389,
          4.76389,
          4.76389,
          4.76389,
          4.76389,
          -84.428101,
          -84.428101,
          -84.428101,
          -84.428101,
          -84.428101,
          -84.428101,
          -84.428101,
          -84.428101,
          -84.428101,
          -84.428101,
          2.07846,
          2.07846,
          2.07846,
          2.07846,
          2.07846,
          2.07846,
          2.07846,
          2.55,
          2.55,
          2.55,
          2.55,
          2.55,
          2.55,
          2.55,
          2.55,
          2.55,
          2.55,
          2.55,
          2.55,
          2.55,
          2.55,
          -97.038002,
          -97.038002,
          -97.038002,
          -97.038002,
          -97.038002,
          -97.038002,
          -97.038002,
          -97.038002,
          -97.038002,
          -97.038002,
          8.570556,
          8.570556,
          8.570556,
          8.570556,
          8.570556,
          8.570556,
          8.570556,
          8.570556,
          8.570556,
          8.570556,
          8.570556,
          8.570556,
          8.570556,
          8.570556,
          -46.47305679321289,
          -46.47305679321289,
          -46.47305679321289,
          -46.47305679321289,
          -46.47305679321289,
          -46.47305679321289,
          -46.47305679321289,
          -46.47305679321289,
          -46.47305679321289,
          -46.47305679321289,
          126.45099639892578,
          126.45099639892578,
          126.45099639892578,
          126.45099639892578,
          126.45099639892578,
          126.45099639892578,
          126.45099639892578,
          126.45099639892578,
          126.45099639892578,
          126.45099639892578,
          126.45099639892578,
          126.45099639892578,
          126.45099639892578,
          -73.77890015,
          -73.77890015,
          -73.77890015,
          -73.77890015,
          -73.77890015,
          -73.77890015,
          -73.77890015,
          -73.77890015,
          -73.77890015,
          -73.77890015,
          -73.77890015,
          -73.77890015,
          -73.77890015,
          -118.4079971,
          -118.4079971,
          -118.4079971,
          -118.4079971,
          -118.4079971,
          -118.4079971,
          -118.4079971,
          -118.4079971,
          -118.4079971,
          -118.4079971,
          -118.4079971,
          -118.4079971,
          -118.4079971,
          -0.461941,
          -0.461941,
          -0.461941,
          -0.461941,
          -0.461941,
          -0.461941,
          -0.461941,
          -0.461941,
          -0.461941,
          -0.461941,
          -0.461941,
          -0.461941,
          -0.461941,
          -0.461941,
          -87.9048,
          -87.9048,
          -87.9048,
          -87.9048,
          -87.9048,
          -87.9048,
          -87.9048,
          -87.9048,
          -87.9048,
          -87.9048,
          -87.9048,
          -87.9048,
          116.58499908447266,
          116.58499908447266,
          116.58499908447266,
          116.58499908447266,
          116.58499908447266,
          116.58499908447266,
          116.58499908447266,
          116.58499908447266,
          116.58499908447266,
          116.58499908447266,
          116.58499908447266,
          121.80500030517578,
          121.80500030517578,
          121.80500030517578,
          121.80500030517578,
          121.80500030517578,
          121.80500030517578,
          121.80500030517578,
          121.80500030517578,
          121.80500030517578,
          121.80500030517578,
          121.80500030517578,
          103.994003,
          103.994003,
          103.994003,
          103.994003,
          103.994003,
          103.994003,
          103.994003,
          103.994003,
          103.994003,
          151.177001953125,
          151.177001953125,
          151.177001953125,
          151.177001953125,
          151.177001953125,
          151.177001953125
         ],
         "mode": "lines",
         "type": "scattermapbox"
        },
        {
         "hoverinfo": "skip",
         "lat": [
          33.6367,
          41.2971,
          49.012798,
          32.896801,
          50.033333,
          -23.435556411743164,
          37.46910095214844,
          40.63980103,
          33.94250107,
          51.4706,
          41.9786,
          40.0801010131836,
          31.143400192260746,
          1.35019,
          52.308601,
          49.012798,
          32.896801,
          50.033333,
          -23.435556411743164,
          37.46910095214844,
          40.63980103,
          33.94250107,
          51.4706,
          41.9786,
          52.308601,
          49.012798,
          50.033333,
          -23.435556411743164,
          40.63980103,
          51.4706,
          1.35019,
          52.308601,
          33.6367,
          41.2971,
          32.896801,
          50.033333,
          -23.435556411743164,
          37.46910095214844,
          40.63980103,
          33.94250107,
          51.4706,
          41.9786,
          40.0801010131836,
          31.143400192260746,
          1.35019,
          52.308601,
          33.6367,
          49.012798,
          50.033333,
          -23.435556411743164,
          37.46910095214844,
          40.63980103,
          33.94250107,
          51.4706,
          41.9786,
          52.308601,
          33.6367,
          41.2971,
          49.012798,
          32.896801,
          -23.435556411743164,
          37.46910095214844,
          40.63980103,
          33.94250107,
          51.4706,
          41.9786,
          40.0801010131836,
          31.143400192260746,
          1.35019,
          52.308601,
          33.6367,
          41.2971,
          49.012798,
          32.896801,
          50.033333,
          40.63980103,
          33.94250107,
          51.4706,
          41.9786,
          52.308601,
          33.6367,
          49.012798,
          32.896801,
          50.033333,
          40.63980103,
          33.94250107,
          51.4706,
          41.9786,
          40.0801010131836,
          31.143400192260746,
          1.35019,
          -33.94609832763672,
          52.308601,
          33.6367,
          41.2971,
          49.012798,
          32.896801,
          50.033333,
          -23.435556411743164,
          37.46910095214844,
          33.94250107,
          51.4706,
          41.9786,
          40.0801010131836,
          31.143400192260746,
          52.308601,
          33.6367,
          49.012798,
          32.896801,
          50.033333,
          -23.435556411743164,
          37.46910095214844,
          40.63980103,
          51.4706,
          41.9786,
          40.0801010131836,
          31.143400192260746,
          -33.94609832763672,
          52.308601,
          33.6367,
          41.2971,
          49.012798,
          32.896801,
          50.033333,
          -23.435556411743164,
          37.46910095214844,
          40.63980103,
          33.94250107,
          41.9786,
          40.0801010131836,
          31.143400192260746,
          1.35019,
          52.308601,
          33.6367,
          49.012798,
          32.896801,
          50.033333,
          -23.435556411743164,
          37.46910095214844,
          40.63980103,
          33.94250107,
          51.4706,
          40.0801010131836,
          31.143400192260746,
          52.308601,
          49.012798,
          50.033333,
          37.46910095214844,
          40.63980103,
          33.94250107,
          51.4706,
          41.9786,
          31.143400192260746,
          1.35019,
          -33.94609832763672,
          52.308601,
          49.012798,
          50.033333,
          37.46910095214844,
          40.63980103,
          33.94250107,
          51.4706,
          41.9786,
          40.0801010131836,
          1.35019,
          -33.94609832763672,
          52.308601,
          41.2971,
          49.012798,
          50.033333,
          37.46910095214844,
          51.4706,
          40.0801010131836,
          31.143400192260746,
          -33.94609832763672,
          32.896801,
          37.46910095214844,
          33.94250107,
          40.0801010131836,
          31.143400192260746,
          1.35019
         ],
         "line": {
          "color": "lightpink"
         },
         "lon": [
          -84.428101,
          2.07846,
          2.55,
          -97.038002,
          8.570556,
          -46.47305679321289,
          126.45099639892578,
          -73.77890015,
          -118.4079971,
          -0.461941,
          -87.9048,
          116.58499908447266,
          121.80500030517578,
          103.994003,
          4.76389,
          2.55,
          -97.038002,
          8.570556,
          -46.47305679321289,
          126.45099639892578,
          -73.77890015,
          -118.4079971,
          -0.461941,
          -87.9048,
          4.76389,
          2.55,
          8.570556,
          -46.47305679321289,
          -73.77890015,
          -0.461941,
          103.994003,
          4.76389,
          -84.428101,
          2.07846,
          -97.038002,
          8.570556,
          -46.47305679321289,
          126.45099639892578,
          -73.77890015,
          -118.4079971,
          -0.461941,
          -87.9048,
          116.58499908447266,
          121.80500030517578,
          103.994003,
          4.76389,
          -84.428101,
          2.55,
          8.570556,
          -46.47305679321289,
          126.45099639892578,
          -73.77890015,
          -118.4079971,
          -0.461941,
          -87.9048,
          4.76389,
          -84.428101,
          2.07846,
          2.55,
          -97.038002,
          -46.47305679321289,
          126.45099639892578,
          -73.77890015,
          -118.4079971,
          -0.461941,
          -87.9048,
          116.58499908447266,
          121.80500030517578,
          103.994003,
          4.76389,
          -84.428101,
          2.07846,
          2.55,
          -97.038002,
          8.570556,
          -73.77890015,
          -118.4079971,
          -0.461941,
          -87.9048,
          4.76389,
          -84.428101,
          2.55,
          -97.038002,
          8.570556,
          -73.77890015,
          -118.4079971,
          -0.461941,
          -87.9048,
          116.58499908447266,
          121.80500030517578,
          103.994003,
          151.177001953125,
          4.76389,
          -84.428101,
          2.07846,
          2.55,
          -97.038002,
          8.570556,
          -46.47305679321289,
          126.45099639892578,
          -118.4079971,
          -0.461941,
          -87.9048,
          116.58499908447266,
          121.80500030517578,
          4.76389,
          -84.428101,
          2.55,
          -97.038002,
          8.570556,
          -46.47305679321289,
          126.45099639892578,
          -73.77890015,
          -0.461941,
          -87.9048,
          116.58499908447266,
          121.80500030517578,
          151.177001953125,
          4.76389,
          -84.428101,
          2.07846,
          2.55,
          -97.038002,
          8.570556,
          -46.47305679321289,
          126.45099639892578,
          -73.77890015,
          -118.4079971,
          -87.9048,
          116.58499908447266,
          121.80500030517578,
          103.994003,
          4.76389,
          -84.428101,
          2.55,
          -97.038002,
          8.570556,
          -46.47305679321289,
          126.45099639892578,
          -73.77890015,
          -118.4079971,
          -0.461941,
          116.58499908447266,
          121.80500030517578,
          4.76389,
          2.55,
          8.570556,
          126.45099639892578,
          -73.77890015,
          -118.4079971,
          -0.461941,
          -87.9048,
          121.80500030517578,
          103.994003,
          151.177001953125,
          4.76389,
          2.55,
          8.570556,
          126.45099639892578,
          -73.77890015,
          -118.4079971,
          -0.461941,
          -87.9048,
          116.58499908447266,
          103.994003,
          151.177001953125,
          4.76389,
          2.07846,
          2.55,
          8.570556,
          126.45099639892578,
          -0.461941,
          116.58499908447266,
          121.80500030517578,
          151.177001953125,
          -97.038002,
          126.45099639892578,
          -118.4079971,
          116.58499908447266,
          121.80500030517578,
          103.994003
         ],
         "mode": "lines",
         "type": "scattermapbox"
        }
       ],
       "layout": {
        "mapbox": {
         "style": "open-street-map"
        },
        "template": {
         "data": {
          "bar": [
           {
            "error_x": {
             "color": "#2a3f5f"
            },
            "error_y": {
             "color": "#2a3f5f"
            },
            "marker": {
             "line": {
              "color": "#E5ECF6",
              "width": 0.5
             },
             "pattern": {
              "fillmode": "overlay",
              "size": 10,
              "solidity": 0.2
             }
            },
            "type": "bar"
           }
          ],
          "barpolar": [
           {
            "marker": {
             "line": {
              "color": "#E5ECF6",
              "width": 0.5
             },
             "pattern": {
              "fillmode": "overlay",
              "size": 10,
              "solidity": 0.2
             }
            },
            "type": "barpolar"
           }
          ],
          "carpet": [
           {
            "aaxis": {
             "endlinecolor": "#2a3f5f",
             "gridcolor": "white",
             "linecolor": "white",
             "minorgridcolor": "white",
             "startlinecolor": "#2a3f5f"
            },
            "baxis": {
             "endlinecolor": "#2a3f5f",
             "gridcolor": "white",
             "linecolor": "white",
             "minorgridcolor": "white",
             "startlinecolor": "#2a3f5f"
            },
            "type": "carpet"
           }
          ],
          "choropleth": [
           {
            "colorbar": {
             "outlinewidth": 0,
             "ticks": ""
            },
            "type": "choropleth"
           }
          ],
          "contour": [
           {
            "colorbar": {
             "outlinewidth": 0,
             "ticks": ""
            },
            "colorscale": [
             [
              0,
              "#0d0887"
             ],
             [
              0.1111111111111111,
              "#46039f"
             ],
             [
              0.2222222222222222,
              "#7201a8"
             ],
             [
              0.3333333333333333,
              "#9c179e"
             ],
             [
              0.4444444444444444,
              "#bd3786"
             ],
             [
              0.5555555555555556,
              "#d8576b"
             ],
             [
              0.6666666666666666,
              "#ed7953"
             ],
             [
              0.7777777777777778,
              "#fb9f3a"
             ],
             [
              0.8888888888888888,
              "#fdca26"
             ],
             [
              1,
              "#f0f921"
             ]
            ],
            "type": "contour"
           }
          ],
          "contourcarpet": [
           {
            "colorbar": {
             "outlinewidth": 0,
             "ticks": ""
            },
            "type": "contourcarpet"
           }
          ],
          "heatmap": [
           {
            "colorbar": {
             "outlinewidth": 0,
             "ticks": ""
            },
            "colorscale": [
             [
              0,
              "#0d0887"
             ],
             [
              0.1111111111111111,
              "#46039f"
             ],
             [
              0.2222222222222222,
              "#7201a8"
             ],
             [
              0.3333333333333333,
              "#9c179e"
             ],
             [
              0.4444444444444444,
              "#bd3786"
             ],
             [
              0.5555555555555556,
              "#d8576b"
             ],
             [
              0.6666666666666666,
              "#ed7953"
             ],
             [
              0.7777777777777778,
              "#fb9f3a"
             ],
             [
              0.8888888888888888,
              "#fdca26"
             ],
             [
              1,
              "#f0f921"
             ]
            ],
            "type": "heatmap"
           }
          ],
          "heatmapgl": [
           {
            "colorbar": {
             "outlinewidth": 0,
             "ticks": ""
            },
            "colorscale": [
             [
              0,
              "#0d0887"
             ],
             [
              0.1111111111111111,
              "#46039f"
             ],
             [
              0.2222222222222222,
              "#7201a8"
             ],
             [
              0.3333333333333333,
              "#9c179e"
             ],
             [
              0.4444444444444444,
              "#bd3786"
             ],
             [
              0.5555555555555556,
              "#d8576b"
             ],
             [
              0.6666666666666666,
              "#ed7953"
             ],
             [
              0.7777777777777778,
              "#fb9f3a"
             ],
             [
              0.8888888888888888,
              "#fdca26"
             ],
             [
              1,
              "#f0f921"
             ]
            ],
            "type": "heatmapgl"
           }
          ],
          "histogram": [
           {
            "marker": {
             "pattern": {
              "fillmode": "overlay",
              "size": 10,
              "solidity": 0.2
             }
            },
            "type": "histogram"
           }
          ],
          "histogram2d": [
           {
            "colorbar": {
             "outlinewidth": 0,
             "ticks": ""
            },
            "colorscale": [
             [
              0,
              "#0d0887"
             ],
             [
              0.1111111111111111,
              "#46039f"
             ],
             [
              0.2222222222222222,
              "#7201a8"
             ],
             [
              0.3333333333333333,
              "#9c179e"
             ],
             [
              0.4444444444444444,
              "#bd3786"
             ],
             [
              0.5555555555555556,
              "#d8576b"
             ],
             [
              0.6666666666666666,
              "#ed7953"
             ],
             [
              0.7777777777777778,
              "#fb9f3a"
             ],
             [
              0.8888888888888888,
              "#fdca26"
             ],
             [
              1,
              "#f0f921"
             ]
            ],
            "type": "histogram2d"
           }
          ],
          "histogram2dcontour": [
           {
            "colorbar": {
             "outlinewidth": 0,
             "ticks": ""
            },
            "colorscale": [
             [
              0,
              "#0d0887"
             ],
             [
              0.1111111111111111,
              "#46039f"
             ],
             [
              0.2222222222222222,
              "#7201a8"
             ],
             [
              0.3333333333333333,
              "#9c179e"
             ],
             [
              0.4444444444444444,
              "#bd3786"
             ],
             [
              0.5555555555555556,
              "#d8576b"
             ],
             [
              0.6666666666666666,
              "#ed7953"
             ],
             [
              0.7777777777777778,
              "#fb9f3a"
             ],
             [
              0.8888888888888888,
              "#fdca26"
             ],
             [
              1,
              "#f0f921"
             ]
            ],
            "type": "histogram2dcontour"
           }
          ],
          "mesh3d": [
           {
            "colorbar": {
             "outlinewidth": 0,
             "ticks": ""
            },
            "type": "mesh3d"
           }
          ],
          "parcoords": [
           {
            "line": {
             "colorbar": {
              "outlinewidth": 0,
              "ticks": ""
             }
            },
            "type": "parcoords"
           }
          ],
          "pie": [
           {
            "automargin": true,
            "type": "pie"
           }
          ],
          "scatter": [
           {
            "fillpattern": {
             "fillmode": "overlay",
             "size": 10,
             "solidity": 0.2
            },
            "type": "scatter"
           }
          ],
          "scatter3d": [
           {
            "line": {
             "colorbar": {
              "outlinewidth": 0,
              "ticks": ""
             }
            },
            "marker": {
             "colorbar": {
              "outlinewidth": 0,
              "ticks": ""
             }
            },
            "type": "scatter3d"
           }
          ],
          "scattercarpet": [
           {
            "marker": {
             "colorbar": {
              "outlinewidth": 0,
              "ticks": ""
             }
            },
            "type": "scattercarpet"
           }
          ],
          "scattergeo": [
           {
            "marker": {
             "colorbar": {
              "outlinewidth": 0,
              "ticks": ""
             }
            },
            "type": "scattergeo"
           }
          ],
          "scattergl": [
           {
            "marker": {
             "colorbar": {
              "outlinewidth": 0,
              "ticks": ""
             }
            },
            "type": "scattergl"
           }
          ],
          "scattermapbox": [
           {
            "marker": {
             "colorbar": {
              "outlinewidth": 0,
              "ticks": ""
             }
            },
            "type": "scattermapbox"
           }
          ],
          "scatterpolar": [
           {
            "marker": {
             "colorbar": {
              "outlinewidth": 0,
              "ticks": ""
             }
            },
            "type": "scatterpolar"
           }
          ],
          "scatterpolargl": [
           {
            "marker": {
             "colorbar": {
              "outlinewidth": 0,
              "ticks": ""
             }
            },
            "type": "scatterpolargl"
           }
          ],
          "scatterternary": [
           {
            "marker": {
             "colorbar": {
              "outlinewidth": 0,
              "ticks": ""
             }
            },
            "type": "scatterternary"
           }
          ],
          "surface": [
           {
            "colorbar": {
             "outlinewidth": 0,
             "ticks": ""
            },
            "colorscale": [
             [
              0,
              "#0d0887"
             ],
             [
              0.1111111111111111,
              "#46039f"
             ],
             [
              0.2222222222222222,
              "#7201a8"
             ],
             [
              0.3333333333333333,
              "#9c179e"
             ],
             [
              0.4444444444444444,
              "#bd3786"
             ],
             [
              0.5555555555555556,
              "#d8576b"
             ],
             [
              0.6666666666666666,
              "#ed7953"
             ],
             [
              0.7777777777777778,
              "#fb9f3a"
             ],
             [
              0.8888888888888888,
              "#fdca26"
             ],
             [
              1,
              "#f0f921"
             ]
            ],
            "type": "surface"
           }
          ],
          "table": [
           {
            "cells": {
             "fill": {
              "color": "#EBF0F8"
             },
             "line": {
              "color": "white"
             }
            },
            "header": {
             "fill": {
              "color": "#C8D4E3"
             },
             "line": {
              "color": "white"
             }
            },
            "type": "table"
           }
          ]
         },
         "layout": {
          "annotationdefaults": {
           "arrowcolor": "#2a3f5f",
           "arrowhead": 0,
           "arrowwidth": 1
          },
          "autotypenumbers": "strict",
          "coloraxis": {
           "colorbar": {
            "outlinewidth": 0,
            "ticks": ""
           }
          },
          "colorscale": {
           "diverging": [
            [
             0,
             "#8e0152"
            ],
            [
             0.1,
             "#c51b7d"
            ],
            [
             0.2,
             "#de77ae"
            ],
            [
             0.3,
             "#f1b6da"
            ],
            [
             0.4,
             "#fde0ef"
            ],
            [
             0.5,
             "#f7f7f7"
            ],
            [
             0.6,
             "#e6f5d0"
            ],
            [
             0.7,
             "#b8e186"
            ],
            [
             0.8,
             "#7fbc41"
            ],
            [
             0.9,
             "#4d9221"
            ],
            [
             1,
             "#276419"
            ]
           ],
           "sequential": [
            [
             0,
             "#0d0887"
            ],
            [
             0.1111111111111111,
             "#46039f"
            ],
            [
             0.2222222222222222,
             "#7201a8"
            ],
            [
             0.3333333333333333,
             "#9c179e"
            ],
            [
             0.4444444444444444,
             "#bd3786"
            ],
            [
             0.5555555555555556,
             "#d8576b"
            ],
            [
             0.6666666666666666,
             "#ed7953"
            ],
            [
             0.7777777777777778,
             "#fb9f3a"
            ],
            [
             0.8888888888888888,
             "#fdca26"
            ],
            [
             1,
             "#f0f921"
            ]
           ],
           "sequentialminus": [
            [
             0,
             "#0d0887"
            ],
            [
             0.1111111111111111,
             "#46039f"
            ],
            [
             0.2222222222222222,
             "#7201a8"
            ],
            [
             0.3333333333333333,
             "#9c179e"
            ],
            [
             0.4444444444444444,
             "#bd3786"
            ],
            [
             0.5555555555555556,
             "#d8576b"
            ],
            [
             0.6666666666666666,
             "#ed7953"
            ],
            [
             0.7777777777777778,
             "#fb9f3a"
            ],
            [
             0.8888888888888888,
             "#fdca26"
            ],
            [
             1,
             "#f0f921"
            ]
           ]
          },
          "colorway": [
           "#636efa",
           "#EF553B",
           "#00cc96",
           "#ab63fa",
           "#FFA15A",
           "#19d3f3",
           "#FF6692",
           "#B6E880",
           "#FF97FF",
           "#FECB52"
          ],
          "font": {
           "color": "#2a3f5f"
          },
          "geo": {
           "bgcolor": "white",
           "lakecolor": "white",
           "landcolor": "#E5ECF6",
           "showlakes": true,
           "showland": true,
           "subunitcolor": "white"
          },
          "hoverlabel": {
           "align": "left"
          },
          "hovermode": "closest",
          "mapbox": {
           "style": "light"
          },
          "paper_bgcolor": "white",
          "plot_bgcolor": "#E5ECF6",
          "polar": {
           "angularaxis": {
            "gridcolor": "white",
            "linecolor": "white",
            "ticks": ""
           },
           "bgcolor": "#E5ECF6",
           "radialaxis": {
            "gridcolor": "white",
            "linecolor": "white",
            "ticks": ""
           }
          },
          "scene": {
           "xaxis": {
            "backgroundcolor": "#E5ECF6",
            "gridcolor": "white",
            "gridwidth": 2,
            "linecolor": "white",
            "showbackground": true,
            "ticks": "",
            "zerolinecolor": "white"
           },
           "yaxis": {
            "backgroundcolor": "#E5ECF6",
            "gridcolor": "white",
            "gridwidth": 2,
            "linecolor": "white",
            "showbackground": true,
            "ticks": "",
            "zerolinecolor": "white"
           },
           "zaxis": {
            "backgroundcolor": "#E5ECF6",
            "gridcolor": "white",
            "gridwidth": 2,
            "linecolor": "white",
            "showbackground": true,
            "ticks": "",
            "zerolinecolor": "white"
           }
          },
          "shapedefaults": {
           "line": {
            "color": "#2a3f5f"
           }
          },
          "ternary": {
           "aaxis": {
            "gridcolor": "white",
            "linecolor": "white",
            "ticks": ""
           },
           "baxis": {
            "gridcolor": "white",
            "linecolor": "white",
            "ticks": ""
           },
           "bgcolor": "#E5ECF6",
           "caxis": {
            "gridcolor": "white",
            "linecolor": "white",
            "ticks": ""
           }
          },
          "title": {
           "x": 0.05
          },
          "xaxis": {
           "automargin": true,
           "gridcolor": "white",
           "linecolor": "white",
           "ticks": "",
           "title": {
            "standoff": 15
           },
           "zerolinecolor": "white",
           "zerolinewidth": 2
          },
          "yaxis": {
           "automargin": true,
           "gridcolor": "white",
           "linecolor": "white",
           "ticks": "",
           "title": {
            "standoff": 15
           },
           "zerolinecolor": "white",
           "zerolinewidth": 2
          }
         }
        },
        "title": {
         "text": "Крупнейшие аэропорты и полёты между ними"
        }
       }
      },
      "text/html": [
       "<div>                            <div id=\"23a1de05-0c3b-4a5d-a7fb-5a4c47b2d2e4\" class=\"plotly-graph-div\" style=\"height:525px; width:100%;\"></div>            <script type=\"text/javascript\">                require([\"plotly\"], function(Plotly) {                    window.PLOTLYENV=window.PLOTLYENV || {};                                    if (document.getElementById(\"23a1de05-0c3b-4a5d-a7fb-5a4c47b2d2e4\")) {                    Plotly.newPlot(                        \"23a1de05-0c3b-4a5d-a7fb-5a4c47b2d2e4\",                        [{\"lat\":[52.308601,52.308601,52.308601,52.308601,52.308601,52.308601,52.308601,52.308601,52.308601,52.308601,52.308601,52.308601,52.308601,52.308601,33.6367,33.6367,33.6367,33.6367,33.6367,33.6367,33.6367,33.6367,33.6367,33.6367,41.2971,41.2971,41.2971,41.2971,41.2971,41.2971,41.2971,49.012798,49.012798,49.012798,49.012798,49.012798,49.012798,49.012798,49.012798,49.012798,49.012798,49.012798,49.012798,49.012798,49.012798,32.896801,32.896801,32.896801,32.896801,32.896801,32.896801,32.896801,32.896801,32.896801,32.896801,50.033333,50.033333,50.033333,50.033333,50.033333,50.033333,50.033333,50.033333,50.033333,50.033333,50.033333,50.033333,50.033333,50.033333,-23.435556411743164,-23.435556411743164,-23.435556411743164,-23.435556411743164,-23.435556411743164,-23.435556411743164,-23.435556411743164,-23.435556411743164,-23.435556411743164,-23.435556411743164,37.46910095214844,37.46910095214844,37.46910095214844,37.46910095214844,37.46910095214844,37.46910095214844,37.46910095214844,37.46910095214844,37.46910095214844,37.46910095214844,37.46910095214844,37.46910095214844,37.46910095214844,40.63980103,40.63980103,40.63980103,40.63980103,40.63980103,40.63980103,40.63980103,40.63980103,40.63980103,40.63980103,40.63980103,40.63980103,40.63980103,33.94250107,33.94250107,33.94250107,33.94250107,33.94250107,33.94250107,33.94250107,33.94250107,33.94250107,33.94250107,33.94250107,33.94250107,33.94250107,51.4706,51.4706,51.4706,51.4706,51.4706,51.4706,51.4706,51.4706,51.4706,51.4706,51.4706,51.4706,51.4706,51.4706,41.9786,41.9786,41.9786,41.9786,41.9786,41.9786,41.9786,41.9786,41.9786,41.9786,41.9786,41.9786,40.0801010131836,40.0801010131836,40.0801010131836,40.0801010131836,40.0801010131836,40.0801010131836,40.0801010131836,40.0801010131836,40.0801010131836,40.0801010131836,40.0801010131836,31.143400192260746,31.143400192260746,31.143400192260746,31.143400192260746,31.143400192260746,31.143400192260746,31.143400192260746,31.143400192260746,31.143400192260746,31.143400192260746,31.143400192260746,1.35019,1.35019,1.35019,1.35019,1.35019,1.35019,1.35019,1.35019,1.35019,-33.94609832763672,-33.94609832763672,-33.94609832763672,-33.94609832763672,-33.94609832763672,-33.94609832763672],\"lon\":[4.76389,4.76389,4.76389,4.76389,4.76389,4.76389,4.76389,4.76389,4.76389,4.76389,4.76389,4.76389,4.76389,4.76389,-84.428101,-84.428101,-84.428101,-84.428101,-84.428101,-84.428101,-84.428101,-84.428101,-84.428101,-84.428101,2.07846,2.07846,2.07846,2.07846,2.07846,2.07846,2.07846,2.55,2.55,2.55,2.55,2.55,2.55,2.55,2.55,2.55,2.55,2.55,2.55,2.55,2.55,-97.038002,-97.038002,-97.038002,-97.038002,-97.038002,-97.038002,-97.038002,-97.038002,-97.038002,-97.038002,8.570556,8.570556,8.570556,8.570556,8.570556,8.570556,8.570556,8.570556,8.570556,8.570556,8.570556,8.570556,8.570556,8.570556,-46.47305679321289,-46.47305679321289,-46.47305679321289,-46.47305679321289,-46.47305679321289,-46.47305679321289,-46.47305679321289,-46.47305679321289,-46.47305679321289,-46.47305679321289,126.45099639892578,126.45099639892578,126.45099639892578,126.45099639892578,126.45099639892578,126.45099639892578,126.45099639892578,126.45099639892578,126.45099639892578,126.45099639892578,126.45099639892578,126.45099639892578,126.45099639892578,-73.77890015,-73.77890015,-73.77890015,-73.77890015,-73.77890015,-73.77890015,-73.77890015,-73.77890015,-73.77890015,-73.77890015,-73.77890015,-73.77890015,-73.77890015,-118.4079971,-118.4079971,-118.4079971,-118.4079971,-118.4079971,-118.4079971,-118.4079971,-118.4079971,-118.4079971,-118.4079971,-118.4079971,-118.4079971,-118.4079971,-0.461941,-0.461941,-0.461941,-0.461941,-0.461941,-0.461941,-0.461941,-0.461941,-0.461941,-0.461941,-0.461941,-0.461941,-0.461941,-0.461941,-87.9048,-87.9048,-87.9048,-87.9048,-87.9048,-87.9048,-87.9048,-87.9048,-87.9048,-87.9048,-87.9048,-87.9048,116.58499908447266,116.58499908447266,116.58499908447266,116.58499908447266,116.58499908447266,116.58499908447266,116.58499908447266,116.58499908447266,116.58499908447266,116.58499908447266,116.58499908447266,121.80500030517578,121.80500030517578,121.80500030517578,121.80500030517578,121.80500030517578,121.80500030517578,121.80500030517578,121.80500030517578,121.80500030517578,121.80500030517578,121.80500030517578,103.994003,103.994003,103.994003,103.994003,103.994003,103.994003,103.994003,103.994003,103.994003,151.177001953125,151.177001953125,151.177001953125,151.177001953125,151.177001953125,151.177001953125],\"text\":[\"AMS\",\"AMS\",\"AMS\",\"AMS\",\"AMS\",\"AMS\",\"AMS\",\"AMS\",\"AMS\",\"AMS\",\"AMS\",\"AMS\",\"AMS\",\"AMS\",\"ATL\",\"ATL\",\"ATL\",\"ATL\",\"ATL\",\"ATL\",\"ATL\",\"ATL\",\"ATL\",\"ATL\",\"BCN\",\"BCN\",\"BCN\",\"BCN\",\"BCN\",\"BCN\",\"BCN\",\"CDG\",\"CDG\",\"CDG\",\"CDG\",\"CDG\",\"CDG\",\"CDG\",\"CDG\",\"CDG\",\"CDG\",\"CDG\",\"CDG\",\"CDG\",\"CDG\",\"DFW\",\"DFW\",\"DFW\",\"DFW\",\"DFW\",\"DFW\",\"DFW\",\"DFW\",\"DFW\",\"DFW\",\"FRA\",\"FRA\",\"FRA\",\"FRA\",\"FRA\",\"FRA\",\"FRA\",\"FRA\",\"FRA\",\"FRA\",\"FRA\",\"FRA\",\"FRA\",\"FRA\",\"GRU\",\"GRU\",\"GRU\",\"GRU\",\"GRU\",\"GRU\",\"GRU\",\"GRU\",\"GRU\",\"GRU\",\"ICN\",\"ICN\",\"ICN\",\"ICN\",\"ICN\",\"ICN\",\"ICN\",\"ICN\",\"ICN\",\"ICN\",\"ICN\",\"ICN\",\"ICN\",\"JFK\",\"JFK\",\"JFK\",\"JFK\",\"JFK\",\"JFK\",\"JFK\",\"JFK\",\"JFK\",\"JFK\",\"JFK\",\"JFK\",\"JFK\",\"LAX\",\"LAX\",\"LAX\",\"LAX\",\"LAX\",\"LAX\",\"LAX\",\"LAX\",\"LAX\",\"LAX\",\"LAX\",\"LAX\",\"LAX\",\"LHR\",\"LHR\",\"LHR\",\"LHR\",\"LHR\",\"LHR\",\"LHR\",\"LHR\",\"LHR\",\"LHR\",\"LHR\",\"LHR\",\"LHR\",\"LHR\",\"ORD\",\"ORD\",\"ORD\",\"ORD\",\"ORD\",\"ORD\",\"ORD\",\"ORD\",\"ORD\",\"ORD\",\"ORD\",\"ORD\",\"PEK\",\"PEK\",\"PEK\",\"PEK\",\"PEK\",\"PEK\",\"PEK\",\"PEK\",\"PEK\",\"PEK\",\"PEK\",\"PVG\",\"PVG\",\"PVG\",\"PVG\",\"PVG\",\"PVG\",\"PVG\",\"PVG\",\"PVG\",\"PVG\",\"PVG\",\"SIN\",\"SIN\",\"SIN\",\"SIN\",\"SIN\",\"SIN\",\"SIN\",\"SIN\",\"SIN\",\"SYD\",\"SYD\",\"SYD\",\"SYD\",\"SYD\",\"SYD\"],\"type\":\"scattermapbox\"},{\"hoverinfo\":\"skip\",\"lat\":[52.308601,52.308601,52.308601,52.308601,52.308601,52.308601,52.308601,52.308601,52.308601,52.308601,52.308601,52.308601,52.308601,52.308601,33.6367,33.6367,33.6367,33.6367,33.6367,33.6367,33.6367,33.6367,33.6367,33.6367,41.2971,41.2971,41.2971,41.2971,41.2971,41.2971,41.2971,49.012798,49.012798,49.012798,49.012798,49.012798,49.012798,49.012798,49.012798,49.012798,49.012798,49.012798,49.012798,49.012798,49.012798,32.896801,32.896801,32.896801,32.896801,32.896801,32.896801,32.896801,32.896801,32.896801,32.896801,50.033333,50.033333,50.033333,50.033333,50.033333,50.033333,50.033333,50.033333,50.033333,50.033333,50.033333,50.033333,50.033333,50.033333,-23.435556411743164,-23.435556411743164,-23.435556411743164,-23.435556411743164,-23.435556411743164,-23.435556411743164,-23.435556411743164,-23.435556411743164,-23.435556411743164,-23.435556411743164,37.46910095214844,37.46910095214844,37.46910095214844,37.46910095214844,37.46910095214844,37.46910095214844,37.46910095214844,37.46910095214844,37.46910095214844,37.46910095214844,37.46910095214844,37.46910095214844,37.46910095214844,40.63980103,40.63980103,40.63980103,40.63980103,40.63980103,40.63980103,40.63980103,40.63980103,40.63980103,40.63980103,40.63980103,40.63980103,40.63980103,33.94250107,33.94250107,33.94250107,33.94250107,33.94250107,33.94250107,33.94250107,33.94250107,33.94250107,33.94250107,33.94250107,33.94250107,33.94250107,51.4706,51.4706,51.4706,51.4706,51.4706,51.4706,51.4706,51.4706,51.4706,51.4706,51.4706,51.4706,51.4706,51.4706,41.9786,41.9786,41.9786,41.9786,41.9786,41.9786,41.9786,41.9786,41.9786,41.9786,41.9786,41.9786,40.0801010131836,40.0801010131836,40.0801010131836,40.0801010131836,40.0801010131836,40.0801010131836,40.0801010131836,40.0801010131836,40.0801010131836,40.0801010131836,40.0801010131836,31.143400192260746,31.143400192260746,31.143400192260746,31.143400192260746,31.143400192260746,31.143400192260746,31.143400192260746,31.143400192260746,31.143400192260746,31.143400192260746,31.143400192260746,1.35019,1.35019,1.35019,1.35019,1.35019,1.35019,1.35019,1.35019,1.35019,-33.94609832763672,-33.94609832763672,-33.94609832763672,-33.94609832763672,-33.94609832763672,-33.94609832763672],\"line\":{\"color\":\"lightpink\"},\"lon\":[4.76389,4.76389,4.76389,4.76389,4.76389,4.76389,4.76389,4.76389,4.76389,4.76389,4.76389,4.76389,4.76389,4.76389,-84.428101,-84.428101,-84.428101,-84.428101,-84.428101,-84.428101,-84.428101,-84.428101,-84.428101,-84.428101,2.07846,2.07846,2.07846,2.07846,2.07846,2.07846,2.07846,2.55,2.55,2.55,2.55,2.55,2.55,2.55,2.55,2.55,2.55,2.55,2.55,2.55,2.55,-97.038002,-97.038002,-97.038002,-97.038002,-97.038002,-97.038002,-97.038002,-97.038002,-97.038002,-97.038002,8.570556,8.570556,8.570556,8.570556,8.570556,8.570556,8.570556,8.570556,8.570556,8.570556,8.570556,8.570556,8.570556,8.570556,-46.47305679321289,-46.47305679321289,-46.47305679321289,-46.47305679321289,-46.47305679321289,-46.47305679321289,-46.47305679321289,-46.47305679321289,-46.47305679321289,-46.47305679321289,126.45099639892578,126.45099639892578,126.45099639892578,126.45099639892578,126.45099639892578,126.45099639892578,126.45099639892578,126.45099639892578,126.45099639892578,126.45099639892578,126.45099639892578,126.45099639892578,126.45099639892578,-73.77890015,-73.77890015,-73.77890015,-73.77890015,-73.77890015,-73.77890015,-73.77890015,-73.77890015,-73.77890015,-73.77890015,-73.77890015,-73.77890015,-73.77890015,-118.4079971,-118.4079971,-118.4079971,-118.4079971,-118.4079971,-118.4079971,-118.4079971,-118.4079971,-118.4079971,-118.4079971,-118.4079971,-118.4079971,-118.4079971,-0.461941,-0.461941,-0.461941,-0.461941,-0.461941,-0.461941,-0.461941,-0.461941,-0.461941,-0.461941,-0.461941,-0.461941,-0.461941,-0.461941,-87.9048,-87.9048,-87.9048,-87.9048,-87.9048,-87.9048,-87.9048,-87.9048,-87.9048,-87.9048,-87.9048,-87.9048,116.58499908447266,116.58499908447266,116.58499908447266,116.58499908447266,116.58499908447266,116.58499908447266,116.58499908447266,116.58499908447266,116.58499908447266,116.58499908447266,116.58499908447266,121.80500030517578,121.80500030517578,121.80500030517578,121.80500030517578,121.80500030517578,121.80500030517578,121.80500030517578,121.80500030517578,121.80500030517578,121.80500030517578,121.80500030517578,103.994003,103.994003,103.994003,103.994003,103.994003,103.994003,103.994003,103.994003,103.994003,151.177001953125,151.177001953125,151.177001953125,151.177001953125,151.177001953125,151.177001953125],\"mode\":\"lines\",\"type\":\"scattermapbox\"},{\"hoverinfo\":\"skip\",\"lat\":[33.6367,41.2971,49.012798,32.896801,50.033333,-23.435556411743164,37.46910095214844,40.63980103,33.94250107,51.4706,41.9786,40.0801010131836,31.143400192260746,1.35019,52.308601,49.012798,32.896801,50.033333,-23.435556411743164,37.46910095214844,40.63980103,33.94250107,51.4706,41.9786,52.308601,49.012798,50.033333,-23.435556411743164,40.63980103,51.4706,1.35019,52.308601,33.6367,41.2971,32.896801,50.033333,-23.435556411743164,37.46910095214844,40.63980103,33.94250107,51.4706,41.9786,40.0801010131836,31.143400192260746,1.35019,52.308601,33.6367,49.012798,50.033333,-23.435556411743164,37.46910095214844,40.63980103,33.94250107,51.4706,41.9786,52.308601,33.6367,41.2971,49.012798,32.896801,-23.435556411743164,37.46910095214844,40.63980103,33.94250107,51.4706,41.9786,40.0801010131836,31.143400192260746,1.35019,52.308601,33.6367,41.2971,49.012798,32.896801,50.033333,40.63980103,33.94250107,51.4706,41.9786,52.308601,33.6367,49.012798,32.896801,50.033333,40.63980103,33.94250107,51.4706,41.9786,40.0801010131836,31.143400192260746,1.35019,-33.94609832763672,52.308601,33.6367,41.2971,49.012798,32.896801,50.033333,-23.435556411743164,37.46910095214844,33.94250107,51.4706,41.9786,40.0801010131836,31.143400192260746,52.308601,33.6367,49.012798,32.896801,50.033333,-23.435556411743164,37.46910095214844,40.63980103,51.4706,41.9786,40.0801010131836,31.143400192260746,-33.94609832763672,52.308601,33.6367,41.2971,49.012798,32.896801,50.033333,-23.435556411743164,37.46910095214844,40.63980103,33.94250107,41.9786,40.0801010131836,31.143400192260746,1.35019,52.308601,33.6367,49.012798,32.896801,50.033333,-23.435556411743164,37.46910095214844,40.63980103,33.94250107,51.4706,40.0801010131836,31.143400192260746,52.308601,49.012798,50.033333,37.46910095214844,40.63980103,33.94250107,51.4706,41.9786,31.143400192260746,1.35019,-33.94609832763672,52.308601,49.012798,50.033333,37.46910095214844,40.63980103,33.94250107,51.4706,41.9786,40.0801010131836,1.35019,-33.94609832763672,52.308601,41.2971,49.012798,50.033333,37.46910095214844,51.4706,40.0801010131836,31.143400192260746,-33.94609832763672,32.896801,37.46910095214844,33.94250107,40.0801010131836,31.143400192260746,1.35019],\"line\":{\"color\":\"lightpink\"},\"lon\":[-84.428101,2.07846,2.55,-97.038002,8.570556,-46.47305679321289,126.45099639892578,-73.77890015,-118.4079971,-0.461941,-87.9048,116.58499908447266,121.80500030517578,103.994003,4.76389,2.55,-97.038002,8.570556,-46.47305679321289,126.45099639892578,-73.77890015,-118.4079971,-0.461941,-87.9048,4.76389,2.55,8.570556,-46.47305679321289,-73.77890015,-0.461941,103.994003,4.76389,-84.428101,2.07846,-97.038002,8.570556,-46.47305679321289,126.45099639892578,-73.77890015,-118.4079971,-0.461941,-87.9048,116.58499908447266,121.80500030517578,103.994003,4.76389,-84.428101,2.55,8.570556,-46.47305679321289,126.45099639892578,-73.77890015,-118.4079971,-0.461941,-87.9048,4.76389,-84.428101,2.07846,2.55,-97.038002,-46.47305679321289,126.45099639892578,-73.77890015,-118.4079971,-0.461941,-87.9048,116.58499908447266,121.80500030517578,103.994003,4.76389,-84.428101,2.07846,2.55,-97.038002,8.570556,-73.77890015,-118.4079971,-0.461941,-87.9048,4.76389,-84.428101,2.55,-97.038002,8.570556,-73.77890015,-118.4079971,-0.461941,-87.9048,116.58499908447266,121.80500030517578,103.994003,151.177001953125,4.76389,-84.428101,2.07846,2.55,-97.038002,8.570556,-46.47305679321289,126.45099639892578,-118.4079971,-0.461941,-87.9048,116.58499908447266,121.80500030517578,4.76389,-84.428101,2.55,-97.038002,8.570556,-46.47305679321289,126.45099639892578,-73.77890015,-0.461941,-87.9048,116.58499908447266,121.80500030517578,151.177001953125,4.76389,-84.428101,2.07846,2.55,-97.038002,8.570556,-46.47305679321289,126.45099639892578,-73.77890015,-118.4079971,-87.9048,116.58499908447266,121.80500030517578,103.994003,4.76389,-84.428101,2.55,-97.038002,8.570556,-46.47305679321289,126.45099639892578,-73.77890015,-118.4079971,-0.461941,116.58499908447266,121.80500030517578,4.76389,2.55,8.570556,126.45099639892578,-73.77890015,-118.4079971,-0.461941,-87.9048,121.80500030517578,103.994003,151.177001953125,4.76389,2.55,8.570556,126.45099639892578,-73.77890015,-118.4079971,-0.461941,-87.9048,116.58499908447266,103.994003,151.177001953125,4.76389,2.07846,2.55,8.570556,126.45099639892578,-0.461941,116.58499908447266,121.80500030517578,151.177001953125,-97.038002,126.45099639892578,-118.4079971,116.58499908447266,121.80500030517578,103.994003],\"mode\":\"lines\",\"type\":\"scattermapbox\"}],                        {\"template\":{\"data\":{\"histogram2dcontour\":[{\"type\":\"histogram2dcontour\",\"colorbar\":{\"outlinewidth\":0,\"ticks\":\"\"},\"colorscale\":[[0.0,\"#0d0887\"],[0.1111111111111111,\"#46039f\"],[0.2222222222222222,\"#7201a8\"],[0.3333333333333333,\"#9c179e\"],[0.4444444444444444,\"#bd3786\"],[0.5555555555555556,\"#d8576b\"],[0.6666666666666666,\"#ed7953\"],[0.7777777777777778,\"#fb9f3a\"],[0.8888888888888888,\"#fdca26\"],[1.0,\"#f0f921\"]]}],\"choropleth\":[{\"type\":\"choropleth\",\"colorbar\":{\"outlinewidth\":0,\"ticks\":\"\"}}],\"histogram2d\":[{\"type\":\"histogram2d\",\"colorbar\":{\"outlinewidth\":0,\"ticks\":\"\"},\"colorscale\":[[0.0,\"#0d0887\"],[0.1111111111111111,\"#46039f\"],[0.2222222222222222,\"#7201a8\"],[0.3333333333333333,\"#9c179e\"],[0.4444444444444444,\"#bd3786\"],[0.5555555555555556,\"#d8576b\"],[0.6666666666666666,\"#ed7953\"],[0.7777777777777778,\"#fb9f3a\"],[0.8888888888888888,\"#fdca26\"],[1.0,\"#f0f921\"]]}],\"heatmap\":[{\"type\":\"heatmap\",\"colorbar\":{\"outlinewidth\":0,\"ticks\":\"\"},\"colorscale\":[[0.0,\"#0d0887\"],[0.1111111111111111,\"#46039f\"],[0.2222222222222222,\"#7201a8\"],[0.3333333333333333,\"#9c179e\"],[0.4444444444444444,\"#bd3786\"],[0.5555555555555556,\"#d8576b\"],[0.6666666666666666,\"#ed7953\"],[0.7777777777777778,\"#fb9f3a\"],[0.8888888888888888,\"#fdca26\"],[1.0,\"#f0f921\"]]}],\"heatmapgl\":[{\"type\":\"heatmapgl\",\"colorbar\":{\"outlinewidth\":0,\"ticks\":\"\"},\"colorscale\":[[0.0,\"#0d0887\"],[0.1111111111111111,\"#46039f\"],[0.2222222222222222,\"#7201a8\"],[0.3333333333333333,\"#9c179e\"],[0.4444444444444444,\"#bd3786\"],[0.5555555555555556,\"#d8576b\"],[0.6666666666666666,\"#ed7953\"],[0.7777777777777778,\"#fb9f3a\"],[0.8888888888888888,\"#fdca26\"],[1.0,\"#f0f921\"]]}],\"contourcarpet\":[{\"type\":\"contourcarpet\",\"colorbar\":{\"outlinewidth\":0,\"ticks\":\"\"}}],\"contour\":[{\"type\":\"contour\",\"colorbar\":{\"outlinewidth\":0,\"ticks\":\"\"},\"colorscale\":[[0.0,\"#0d0887\"],[0.1111111111111111,\"#46039f\"],[0.2222222222222222,\"#7201a8\"],[0.3333333333333333,\"#9c179e\"],[0.4444444444444444,\"#bd3786\"],[0.5555555555555556,\"#d8576b\"],[0.6666666666666666,\"#ed7953\"],[0.7777777777777778,\"#fb9f3a\"],[0.8888888888888888,\"#fdca26\"],[1.0,\"#f0f921\"]]}],\"surface\":[{\"type\":\"surface\",\"colorbar\":{\"outlinewidth\":0,\"ticks\":\"\"},\"colorscale\":[[0.0,\"#0d0887\"],[0.1111111111111111,\"#46039f\"],[0.2222222222222222,\"#7201a8\"],[0.3333333333333333,\"#9c179e\"],[0.4444444444444444,\"#bd3786\"],[0.5555555555555556,\"#d8576b\"],[0.6666666666666666,\"#ed7953\"],[0.7777777777777778,\"#fb9f3a\"],[0.8888888888888888,\"#fdca26\"],[1.0,\"#f0f921\"]]}],\"mesh3d\":[{\"type\":\"mesh3d\",\"colorbar\":{\"outlinewidth\":0,\"ticks\":\"\"}}],\"scatter\":[{\"fillpattern\":{\"fillmode\":\"overlay\",\"size\":10,\"solidity\":0.2},\"type\":\"scatter\"}],\"parcoords\":[{\"type\":\"parcoords\",\"line\":{\"colorbar\":{\"outlinewidth\":0,\"ticks\":\"\"}}}],\"scatterpolargl\":[{\"type\":\"scatterpolargl\",\"marker\":{\"colorbar\":{\"outlinewidth\":0,\"ticks\":\"\"}}}],\"bar\":[{\"error_x\":{\"color\":\"#2a3f5f\"},\"error_y\":{\"color\":\"#2a3f5f\"},\"marker\":{\"line\":{\"color\":\"#E5ECF6\",\"width\":0.5},\"pattern\":{\"fillmode\":\"overlay\",\"size\":10,\"solidity\":0.2}},\"type\":\"bar\"}],\"scattergeo\":[{\"type\":\"scattergeo\",\"marker\":{\"colorbar\":{\"outlinewidth\":0,\"ticks\":\"\"}}}],\"scatterpolar\":[{\"type\":\"scatterpolar\",\"marker\":{\"colorbar\":{\"outlinewidth\":0,\"ticks\":\"\"}}}],\"histogram\":[{\"marker\":{\"pattern\":{\"fillmode\":\"overlay\",\"size\":10,\"solidity\":0.2}},\"type\":\"histogram\"}],\"scattergl\":[{\"type\":\"scattergl\",\"marker\":{\"colorbar\":{\"outlinewidth\":0,\"ticks\":\"\"}}}],\"scatter3d\":[{\"type\":\"scatter3d\",\"line\":{\"colorbar\":{\"outlinewidth\":0,\"ticks\":\"\"}},\"marker\":{\"colorbar\":{\"outlinewidth\":0,\"ticks\":\"\"}}}],\"scattermapbox\":[{\"type\":\"scattermapbox\",\"marker\":{\"colorbar\":{\"outlinewidth\":0,\"ticks\":\"\"}}}],\"scatterternary\":[{\"type\":\"scatterternary\",\"marker\":{\"colorbar\":{\"outlinewidth\":0,\"ticks\":\"\"}}}],\"scattercarpet\":[{\"type\":\"scattercarpet\",\"marker\":{\"colorbar\":{\"outlinewidth\":0,\"ticks\":\"\"}}}],\"carpet\":[{\"aaxis\":{\"endlinecolor\":\"#2a3f5f\",\"gridcolor\":\"white\",\"linecolor\":\"white\",\"minorgridcolor\":\"white\",\"startlinecolor\":\"#2a3f5f\"},\"baxis\":{\"endlinecolor\":\"#2a3f5f\",\"gridcolor\":\"white\",\"linecolor\":\"white\",\"minorgridcolor\":\"white\",\"startlinecolor\":\"#2a3f5f\"},\"type\":\"carpet\"}],\"table\":[{\"cells\":{\"fill\":{\"color\":\"#EBF0F8\"},\"line\":{\"color\":\"white\"}},\"header\":{\"fill\":{\"color\":\"#C8D4E3\"},\"line\":{\"color\":\"white\"}},\"type\":\"table\"}],\"barpolar\":[{\"marker\":{\"line\":{\"color\":\"#E5ECF6\",\"width\":0.5},\"pattern\":{\"fillmode\":\"overlay\",\"size\":10,\"solidity\":0.2}},\"type\":\"barpolar\"}],\"pie\":[{\"automargin\":true,\"type\":\"pie\"}]},\"layout\":{\"autotypenumbers\":\"strict\",\"colorway\":[\"#636efa\",\"#EF553B\",\"#00cc96\",\"#ab63fa\",\"#FFA15A\",\"#19d3f3\",\"#FF6692\",\"#B6E880\",\"#FF97FF\",\"#FECB52\"],\"font\":{\"color\":\"#2a3f5f\"},\"hovermode\":\"closest\",\"hoverlabel\":{\"align\":\"left\"},\"paper_bgcolor\":\"white\",\"plot_bgcolor\":\"#E5ECF6\",\"polar\":{\"bgcolor\":\"#E5ECF6\",\"angularaxis\":{\"gridcolor\":\"white\",\"linecolor\":\"white\",\"ticks\":\"\"},\"radialaxis\":{\"gridcolor\":\"white\",\"linecolor\":\"white\",\"ticks\":\"\"}},\"ternary\":{\"bgcolor\":\"#E5ECF6\",\"aaxis\":{\"gridcolor\":\"white\",\"linecolor\":\"white\",\"ticks\":\"\"},\"baxis\":{\"gridcolor\":\"white\",\"linecolor\":\"white\",\"ticks\":\"\"},\"caxis\":{\"gridcolor\":\"white\",\"linecolor\":\"white\",\"ticks\":\"\"}},\"coloraxis\":{\"colorbar\":{\"outlinewidth\":0,\"ticks\":\"\"}},\"colorscale\":{\"sequential\":[[0.0,\"#0d0887\"],[0.1111111111111111,\"#46039f\"],[0.2222222222222222,\"#7201a8\"],[0.3333333333333333,\"#9c179e\"],[0.4444444444444444,\"#bd3786\"],[0.5555555555555556,\"#d8576b\"],[0.6666666666666666,\"#ed7953\"],[0.7777777777777778,\"#fb9f3a\"],[0.8888888888888888,\"#fdca26\"],[1.0,\"#f0f921\"]],\"sequentialminus\":[[0.0,\"#0d0887\"],[0.1111111111111111,\"#46039f\"],[0.2222222222222222,\"#7201a8\"],[0.3333333333333333,\"#9c179e\"],[0.4444444444444444,\"#bd3786\"],[0.5555555555555556,\"#d8576b\"],[0.6666666666666666,\"#ed7953\"],[0.7777777777777778,\"#fb9f3a\"],[0.8888888888888888,\"#fdca26\"],[1.0,\"#f0f921\"]],\"diverging\":[[0,\"#8e0152\"],[0.1,\"#c51b7d\"],[0.2,\"#de77ae\"],[0.3,\"#f1b6da\"],[0.4,\"#fde0ef\"],[0.5,\"#f7f7f7\"],[0.6,\"#e6f5d0\"],[0.7,\"#b8e186\"],[0.8,\"#7fbc41\"],[0.9,\"#4d9221\"],[1,\"#276419\"]]},\"xaxis\":{\"gridcolor\":\"white\",\"linecolor\":\"white\",\"ticks\":\"\",\"title\":{\"standoff\":15},\"zerolinecolor\":\"white\",\"automargin\":true,\"zerolinewidth\":2},\"yaxis\":{\"gridcolor\":\"white\",\"linecolor\":\"white\",\"ticks\":\"\",\"title\":{\"standoff\":15},\"zerolinecolor\":\"white\",\"automargin\":true,\"zerolinewidth\":2},\"scene\":{\"xaxis\":{\"backgroundcolor\":\"#E5ECF6\",\"gridcolor\":\"white\",\"linecolor\":\"white\",\"showbackground\":true,\"ticks\":\"\",\"zerolinecolor\":\"white\",\"gridwidth\":2},\"yaxis\":{\"backgroundcolor\":\"#E5ECF6\",\"gridcolor\":\"white\",\"linecolor\":\"white\",\"showbackground\":true,\"ticks\":\"\",\"zerolinecolor\":\"white\",\"gridwidth\":2},\"zaxis\":{\"backgroundcolor\":\"#E5ECF6\",\"gridcolor\":\"white\",\"linecolor\":\"white\",\"showbackground\":true,\"ticks\":\"\",\"zerolinecolor\":\"white\",\"gridwidth\":2}},\"shapedefaults\":{\"line\":{\"color\":\"#2a3f5f\"}},\"annotationdefaults\":{\"arrowcolor\":\"#2a3f5f\",\"arrowhead\":0,\"arrowwidth\":1},\"geo\":{\"bgcolor\":\"white\",\"landcolor\":\"#E5ECF6\",\"subunitcolor\":\"white\",\"showland\":true,\"showlakes\":true,\"lakecolor\":\"white\"},\"title\":{\"x\":0.05},\"mapbox\":{\"style\":\"light\"}}},\"mapbox\":{\"style\":\"open-street-map\"},\"title\":{\"text\":\"\\u041a\\u0440\\u0443\\u043f\\u043d\\u0435\\u0439\\u0448\\u0438\\u0435 \\u0430\\u044d\\u0440\\u043e\\u043f\\u043e\\u0440\\u0442\\u044b \\u0438 \\u043f\\u043e\\u043b\\u0451\\u0442\\u044b \\u043c\\u0435\\u0436\\u0434\\u0443 \\u043d\\u0438\\u043c\\u0438\"}},                        {\"responsive\": true}                    ).then(function(){\n",
       "                            \n",
       "var gd = document.getElementById('23a1de05-0c3b-4a5d-a7fb-5a4c47b2d2e4');\n",
       "var x = new MutationObserver(function (mutations, observer) {{\n",
       "        var display = window.getComputedStyle(gd).display;\n",
       "        if (!display || display === 'none') {{\n",
       "            console.log([gd, 'removed!']);\n",
       "            Plotly.purge(gd);\n",
       "            observer.disconnect();\n",
       "        }}\n",
       "}});\n",
       "\n",
       "// Listen for the removal of the full notebook cells\n",
       "var notebookContainer = gd.closest('#notebook-container');\n",
       "if (notebookContainer) {{\n",
       "    x.observe(notebookContainer, {childList: true});\n",
       "}}\n",
       "\n",
       "// Listen for the clearing of the current output cell\n",
       "var outputEl = gd.closest('.output');\n",
       "if (outputEl) {{\n",
       "    x.observe(outputEl, {childList: true});\n",
       "}}\n",
       "\n",
       "                        })                };                });            </script>        </div>"
      ]
     },
     "metadata": {},
     "output_type": "display_data"
    }
   ],
   "source": [
    "# Нанесение крупнейших аэропортов и интенсивности связи между ними на карту\n",
    "fig = go.Figure(go.Scattermapbox(lat=top_routes1['Latitude_S'], \n",
    "                                 lon=top_routes1['Longitude_S'], \n",
    "                                 text=top_routes1['Source airport']\n",
    "                                ))\n",
    "#другие не наносим, потому что они и так уже нанесены\n",
    "\n",
    "fig.add_trace(go.Scattermapbox(mode = \"lines\",\n",
    "                               hoverinfo='skip',\n",
    "                               lat=top_routes1[top_routes1['Source airport'].\\\n",
    "                                               isin(top_routes1['Source airport'])]['Latitude_S'],\n",
    "                               lon=top_routes1[top_routes1['Source airport'].\\\n",
    "                                               isin(top_routes1['Source airport'])]['Longitude_S'],\n",
    "                              line = dict(color = 'lightpink', \n",
    "                                           #width=top_routes1['Intensity'].astype(int)\n",
    "                               )))   \n",
    "\n",
    "fig.add_trace(go.Scattermapbox(mode = \"lines\",\n",
    "                               hoverinfo='skip',\n",
    "                               lat=top_routes1[top_routes1['Destination airport'].\\\n",
    "                                               isin(top_routes1['Destination airport'])]['Latitude_D'],\n",
    "                               lon=top_routes1[top_routes1['Destination airport'].\\\n",
    "                                               isin(top_routes1['Destination airport'])]['Longitude_D'],\n",
    "                               line = dict(color = 'lightpink'\n",
    "                                           #width= (top_routes1['Intensity'].astype(int))\n",
    "                              )))   \n",
    "\n",
    "title9 = 'Крупнейшие аэропорты и полёты между ними'\n",
    "\n",
    "fig.update_layout(title = title9,mapbox_style=\"open-street-map\")\n",
    "\n",
    "fig.show()\n",
    "\n",
    "#Ширину никак не получалось сделать зависимой от столбца Intensity"
   ]
  },
  {
   "cell_type": "code",
   "execution_count": null,
   "id": "25cc3f32",
   "metadata": {},
   "outputs": [],
   "source": []
  }
 ],
 "metadata": {
  "kernelspec": {
   "display_name": "Python 3 (ipykernel)",
   "language": "python",
   "name": "python3"
  },
  "language_info": {
   "codemirror_mode": {
    "name": "ipython",
    "version": 3
   },
   "file_extension": ".py",
   "mimetype": "text/x-python",
   "name": "python",
   "nbconvert_exporter": "python",
   "pygments_lexer": "ipython3",
   "version": "3.8.10"
  }
 },
 "nbformat": 4,
 "nbformat_minor": 5
}
